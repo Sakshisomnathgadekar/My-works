{
 "cells": [
  {
   "cell_type": "code",
   "execution_count": 19,
   "id": "3912518b-6355-493e-b59f-57f83ab393b8",
   "metadata": {},
   "outputs": [
    {
     "name": "stdout",
     "output_type": "stream",
     "text": [
      "Create the file first\n"
     ]
    }
   ],
   "source": [
    "try:\n",
    "    f = open('testt5.txt','r')\n",
    "except Exception:\n",
    "    print('Create the file first')"
   ]
  },
  {
   "cell_type": "code",
   "execution_count": 20,
   "id": "7f67f666-674d-4872-9a17-e4c82b193cb0",
   "metadata": {},
   "outputs": [
    {
     "ename": "NameError",
     "evalue": "name 'var1' is not defined",
     "output_type": "error",
     "traceback": [
      "\u001b[1;31m---------------------------------------------------------------------------\u001b[0m",
      "\u001b[1;31mNameError\u001b[0m                                 Traceback (most recent call last)",
      "Cell \u001b[1;32mIn[20], line 3\u001b[0m\n\u001b[0;32m      1\u001b[0m \u001b[38;5;28;01mtry\u001b[39;00m:\n\u001b[0;32m      2\u001b[0m     f \u001b[38;5;241m=\u001b[39m \u001b[38;5;28mopen\u001b[39m(\u001b[38;5;124m'\u001b[39m\u001b[38;5;124mtest1.txt\u001b[39m\u001b[38;5;124m'\u001b[39m,\u001b[38;5;124m'\u001b[39m\u001b[38;5;124mr\u001b[39m\u001b[38;5;124m'\u001b[39m)\n\u001b[1;32m----> 3\u001b[0m     var \u001b[38;5;241m=\u001b[39m var1\n\u001b[0;32m      4\u001b[0m \u001b[38;5;28;01mexcept\u001b[39;00m \u001b[38;5;167;01mFileNotFoundError\u001b[39;00m:\n\u001b[0;32m      5\u001b[0m     \u001b[38;5;28mprint\u001b[39m(\u001b[38;5;124m'\u001b[39m\u001b[38;5;124mCreate the file first\u001b[39m\u001b[38;5;124m'\u001b[39m)\n",
      "\u001b[1;31mNameError\u001b[0m: name 'var1' is not defined"
     ]
    }
   ],
   "source": [
    "try:\n",
    "    f = open('test1.txt','r')\n",
    "    var = var1\n",
    "except FileNotFoundError:\n",
    "    print('Create the file first')"
   ]
  },
  {
   "cell_type": "code",
   "execution_count": 21,
   "id": "7ea5f118-fe19-46f3-aa26-3e9ddfc13602",
   "metadata": {},
   "outputs": [
    {
     "name": "stdout",
     "output_type": "stream",
     "text": [
      "Variable not define\n"
     ]
    }
   ],
   "source": [
    "try:\n",
    "    f = open('test1.txt','r')\n",
    "    var = var1\n",
    "except FileNotFoundError:\n",
    "    print('Create the file first')\n",
    "except Exception as e:\n",
    "    print('Variable not define')"
   ]
  },
  {
   "cell_type": "code",
   "execution_count": 22,
   "id": "e0f22545-72aa-4392-b5dd-32d6d29935c2",
   "metadata": {},
   "outputs": [
    {
     "name": "stdout",
     "output_type": "stream",
     "text": [
      "this is first line\n",
      "this is second line\n",
      "this is third line\n",
      "this is fourth line\n",
      "\n",
      "Okkk!\n"
     ]
    }
   ],
   "source": [
    "try:\n",
    "    f = open('test1.txt','r')\n",
    "except FileNotFoundError:\n",
    "    print('Create the file first')\n",
    "else:\n",
    "    print(f.read())\n",
    "    f.close()\n",
    "finally:\n",
    "    print('Okkk!')"
   ]
  },
  {
   "cell_type": "code",
   "execution_count": 23,
   "id": "f347d530-35b9-4270-a87b-d3eeb3f9a4cd",
   "metadata": {},
   "outputs": [
    {
     "name": "stdout",
     "output_type": "stream",
     "text": [
      "Create the file first\n",
      "Okkk!\n"
     ]
    }
   ],
   "source": [
    "try:\n",
    "    f = open('test5.txt','r')\n",
    "except FileNotFoundError:\n",
    "    print('Create the file first')\n",
    "else:\n",
    "    print(f.read())\n",
    "    f.close()\n",
    "finally:\n",
    "    print('Okkk!')"
   ]
  },
  {
   "cell_type": "code",
   "execution_count": null,
   "id": "6175375b-46b6-490c-b179-ebb923bbbe44",
   "metadata": {},
   "outputs": [],
   "source": []
  }
 ],
 "metadata": {
  "kernelspec": {
   "display_name": "Python 3 (ipykernel)",
   "language": "python",
   "name": "python3"
  },
  "language_info": {
   "codemirror_mode": {
    "name": "ipython",
    "version": 3
   },
   "file_extension": ".py",
   "mimetype": "text/x-python",
   "name": "python",
   "nbconvert_exporter": "python",
   "pygments_lexer": "ipython3",
   "version": "3.11.7"
  }
 },
 "nbformat": 4,
 "nbformat_minor": 5
}
