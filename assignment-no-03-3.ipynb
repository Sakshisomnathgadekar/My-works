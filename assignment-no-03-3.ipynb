{
 "cells": [
  {
   "cell_type": "code",
   "execution_count": 1,
   "id": "87cf98e5",
   "metadata": {
    "_cell_guid": "b1076dfc-b9ad-4769-8c92-a6c4dae69d19",
    "_uuid": "8f2839f25d086af736a60e9eeb907d3b93b6e0e5",
    "execution": {
     "iopub.execute_input": "2024-06-26T11:04:58.465937Z",
     "iopub.status.busy": "2024-06-26T11:04:58.465513Z",
     "iopub.status.idle": "2024-06-26T11:04:59.543910Z",
     "shell.execute_reply": "2024-06-26T11:04:59.542377Z"
    },
    "papermill": {
     "duration": 1.094949,
     "end_time": "2024-06-26T11:04:59.546720",
     "exception": false,
     "start_time": "2024-06-26T11:04:58.451771",
     "status": "completed"
    },
    "tags": []
   },
   "outputs": [
    {
     "name": "stdout",
     "output_type": "stream",
     "text": [
      "/kaggle/input/student-performance/StudentsPerformance.csv\n"
     ]
    }
   ],
   "source": [
    "# This Python 3 environment comes with many helpful analytics libraries installed\n",
    "# It is defined by the kaggle/python Docker image: https://github.com/kaggle/docker-python\n",
    "# For example, here's several helpful packages to load\n",
    "\n",
    "import numpy as np # linear algebra\n",
    "import pandas as pd # data processing, CSV file I/O (e.g. pd.read_csv)\n",
    "\n",
    "# Input data files are available in the read-only \"../input/\" directory\n",
    "# For example, running this (by clicking run or pressing Shift+Enter) will list all files under the input directory\n",
    "\n",
    "import os\n",
    "for dirname, _, filenames in os.walk('/kaggle/input'):\n",
    "    for filename in filenames:\n",
    "        print(os.path.join(dirname, filename))\n",
    "\n",
    "# You can write up to 20GB to the current directory (/kaggle/working/) that gets preserved as output when you create a version using \"Save & Run All\" \n",
    "# You can also write temporary files to /kaggle/temp/, but they won't be saved outside of the current session"
   ]
  },
  {
   "cell_type": "code",
   "execution_count": 2,
   "id": "27bc3e01",
   "metadata": {
    "execution": {
     "iopub.execute_input": "2024-06-26T11:04:59.573653Z",
     "iopub.status.busy": "2024-06-26T11:04:59.572957Z",
     "iopub.status.idle": "2024-06-26T11:05:01.234787Z",
     "shell.execute_reply": "2024-06-26T11:05:01.233598Z"
    },
    "papermill": {
     "duration": 1.678867,
     "end_time": "2024-06-26T11:05:01.237624",
     "exception": false,
     "start_time": "2024-06-26T11:04:59.558757",
     "status": "completed"
    },
    "tags": []
   },
   "outputs": [],
   "source": [
    "import pandas as pd\n",
    "import numpy as np\n",
    "import matplotlib.pyplot as plt\n",
    "import seaborn as sns"
   ]
  },
  {
   "cell_type": "code",
   "execution_count": 3,
   "id": "4199c83c",
   "metadata": {
    "execution": {
     "iopub.execute_input": "2024-06-26T11:05:01.263322Z",
     "iopub.status.busy": "2024-06-26T11:05:01.262927Z",
     "iopub.status.idle": "2024-06-26T11:05:01.287567Z",
     "shell.execute_reply": "2024-06-26T11:05:01.286485Z"
    },
    "papermill": {
     "duration": 0.04082,
     "end_time": "2024-06-26T11:05:01.290490",
     "exception": false,
     "start_time": "2024-06-26T11:05:01.249670",
     "status": "completed"
    },
    "tags": []
   },
   "outputs": [],
   "source": [
    "df = pd.read_csv('/kaggle/input/student-performance/StudentsPerformance.csv')"
   ]
  },
  {
   "cell_type": "code",
   "execution_count": 4,
   "id": "681dd914",
   "metadata": {
    "execution": {
     "iopub.execute_input": "2024-06-26T11:05:01.318653Z",
     "iopub.status.busy": "2024-06-26T11:05:01.317406Z",
     "iopub.status.idle": "2024-06-26T11:05:01.352757Z",
     "shell.execute_reply": "2024-06-26T11:05:01.351607Z"
    },
    "papermill": {
     "duration": 0.053159,
     "end_time": "2024-06-26T11:05:01.355697",
     "exception": false,
     "start_time": "2024-06-26T11:05:01.302538",
     "status": "completed"
    },
    "tags": []
   },
   "outputs": [
    {
     "data": {
      "text/html": [
       "<div>\n",
       "<style scoped>\n",
       "    .dataframe tbody tr th:only-of-type {\n",
       "        vertical-align: middle;\n",
       "    }\n",
       "\n",
       "    .dataframe tbody tr th {\n",
       "        vertical-align: top;\n",
       "    }\n",
       "\n",
       "    .dataframe thead th {\n",
       "        text-align: right;\n",
       "    }\n",
       "</style>\n",
       "<table border=\"1\" class=\"dataframe\">\n",
       "  <thead>\n",
       "    <tr style=\"text-align: right;\">\n",
       "      <th></th>\n",
       "      <th>gender</th>\n",
       "      <th>race/ethnicity</th>\n",
       "      <th>parental level of education</th>\n",
       "      <th>lunch</th>\n",
       "      <th>test preparation course</th>\n",
       "      <th>math score</th>\n",
       "      <th>reading score</th>\n",
       "      <th>writing score</th>\n",
       "    </tr>\n",
       "  </thead>\n",
       "  <tbody>\n",
       "    <tr>\n",
       "      <th>0</th>\n",
       "      <td>female</td>\n",
       "      <td>group B</td>\n",
       "      <td>bachelor's degree</td>\n",
       "      <td>standard</td>\n",
       "      <td>none</td>\n",
       "      <td>72</td>\n",
       "      <td>72</td>\n",
       "      <td>74</td>\n",
       "    </tr>\n",
       "    <tr>\n",
       "      <th>1</th>\n",
       "      <td>female</td>\n",
       "      <td>group C</td>\n",
       "      <td>some college</td>\n",
       "      <td>standard</td>\n",
       "      <td>completed</td>\n",
       "      <td>69</td>\n",
       "      <td>90</td>\n",
       "      <td>88</td>\n",
       "    </tr>\n",
       "    <tr>\n",
       "      <th>2</th>\n",
       "      <td>female</td>\n",
       "      <td>group B</td>\n",
       "      <td>master's degree</td>\n",
       "      <td>standard</td>\n",
       "      <td>none</td>\n",
       "      <td>90</td>\n",
       "      <td>95</td>\n",
       "      <td>93</td>\n",
       "    </tr>\n",
       "    <tr>\n",
       "      <th>3</th>\n",
       "      <td>male</td>\n",
       "      <td>group A</td>\n",
       "      <td>associate's degree</td>\n",
       "      <td>free/reduced</td>\n",
       "      <td>none</td>\n",
       "      <td>47</td>\n",
       "      <td>57</td>\n",
       "      <td>44</td>\n",
       "    </tr>\n",
       "    <tr>\n",
       "      <th>4</th>\n",
       "      <td>male</td>\n",
       "      <td>group C</td>\n",
       "      <td>some college</td>\n",
       "      <td>standard</td>\n",
       "      <td>none</td>\n",
       "      <td>76</td>\n",
       "      <td>78</td>\n",
       "      <td>75</td>\n",
       "    </tr>\n",
       "    <tr>\n",
       "      <th>...</th>\n",
       "      <td>...</td>\n",
       "      <td>...</td>\n",
       "      <td>...</td>\n",
       "      <td>...</td>\n",
       "      <td>...</td>\n",
       "      <td>...</td>\n",
       "      <td>...</td>\n",
       "      <td>...</td>\n",
       "    </tr>\n",
       "    <tr>\n",
       "      <th>995</th>\n",
       "      <td>female</td>\n",
       "      <td>group E</td>\n",
       "      <td>master's degree</td>\n",
       "      <td>standard</td>\n",
       "      <td>completed</td>\n",
       "      <td>88</td>\n",
       "      <td>99</td>\n",
       "      <td>95</td>\n",
       "    </tr>\n",
       "    <tr>\n",
       "      <th>996</th>\n",
       "      <td>male</td>\n",
       "      <td>group C</td>\n",
       "      <td>high school</td>\n",
       "      <td>free/reduced</td>\n",
       "      <td>none</td>\n",
       "      <td>62</td>\n",
       "      <td>55</td>\n",
       "      <td>55</td>\n",
       "    </tr>\n",
       "    <tr>\n",
       "      <th>997</th>\n",
       "      <td>female</td>\n",
       "      <td>group C</td>\n",
       "      <td>high school</td>\n",
       "      <td>free/reduced</td>\n",
       "      <td>completed</td>\n",
       "      <td>59</td>\n",
       "      <td>71</td>\n",
       "      <td>65</td>\n",
       "    </tr>\n",
       "    <tr>\n",
       "      <th>998</th>\n",
       "      <td>female</td>\n",
       "      <td>group D</td>\n",
       "      <td>some college</td>\n",
       "      <td>standard</td>\n",
       "      <td>completed</td>\n",
       "      <td>68</td>\n",
       "      <td>78</td>\n",
       "      <td>77</td>\n",
       "    </tr>\n",
       "    <tr>\n",
       "      <th>999</th>\n",
       "      <td>female</td>\n",
       "      <td>group D</td>\n",
       "      <td>some college</td>\n",
       "      <td>free/reduced</td>\n",
       "      <td>none</td>\n",
       "      <td>77</td>\n",
       "      <td>86</td>\n",
       "      <td>86</td>\n",
       "    </tr>\n",
       "  </tbody>\n",
       "</table>\n",
       "<p>1000 rows × 8 columns</p>\n",
       "</div>"
      ],
      "text/plain": [
       "     gender race/ethnicity parental level of education         lunch  \\\n",
       "0    female        group B           bachelor's degree      standard   \n",
       "1    female        group C                some college      standard   \n",
       "2    female        group B             master's degree      standard   \n",
       "3      male        group A          associate's degree  free/reduced   \n",
       "4      male        group C                some college      standard   \n",
       "..      ...            ...                         ...           ...   \n",
       "995  female        group E             master's degree      standard   \n",
       "996    male        group C                 high school  free/reduced   \n",
       "997  female        group C                 high school  free/reduced   \n",
       "998  female        group D                some college      standard   \n",
       "999  female        group D                some college  free/reduced   \n",
       "\n",
       "    test preparation course  math score  reading score  writing score  \n",
       "0                      none          72             72             74  \n",
       "1                 completed          69             90             88  \n",
       "2                      none          90             95             93  \n",
       "3                      none          47             57             44  \n",
       "4                      none          76             78             75  \n",
       "..                      ...         ...            ...            ...  \n",
       "995               completed          88             99             95  \n",
       "996                    none          62             55             55  \n",
       "997               completed          59             71             65  \n",
       "998               completed          68             78             77  \n",
       "999                    none          77             86             86  \n",
       "\n",
       "[1000 rows x 8 columns]"
      ]
     },
     "execution_count": 4,
     "metadata": {},
     "output_type": "execute_result"
    }
   ],
   "source": [
    "df"
   ]
  },
  {
   "cell_type": "code",
   "execution_count": 5,
   "id": "6904a427",
   "metadata": {
    "execution": {
     "iopub.execute_input": "2024-06-26T11:05:01.383011Z",
     "iopub.status.busy": "2024-06-26T11:05:01.382632Z",
     "iopub.status.idle": "2024-06-26T11:05:01.390277Z",
     "shell.execute_reply": "2024-06-26T11:05:01.388972Z"
    },
    "papermill": {
     "duration": 0.025148,
     "end_time": "2024-06-26T11:05:01.393357",
     "exception": false,
     "start_time": "2024-06-26T11:05:01.368209",
     "status": "completed"
    },
    "tags": []
   },
   "outputs": [
    {
     "data": {
      "text/plain": [
       "(1000, 8)"
      ]
     },
     "execution_count": 5,
     "metadata": {},
     "output_type": "execute_result"
    }
   ],
   "source": [
    "df.shape"
   ]
  },
  {
   "cell_type": "code",
   "execution_count": 6,
   "id": "b163f4fd",
   "metadata": {
    "execution": {
     "iopub.execute_input": "2024-06-26T11:05:01.420515Z",
     "iopub.status.busy": "2024-06-26T11:05:01.420135Z",
     "iopub.status.idle": "2024-06-26T11:05:01.430221Z",
     "shell.execute_reply": "2024-06-26T11:05:01.428968Z"
    },
    "papermill": {
     "duration": 0.027066,
     "end_time": "2024-06-26T11:05:01.432964",
     "exception": false,
     "start_time": "2024-06-26T11:05:01.405898",
     "status": "completed"
    },
    "tags": []
   },
   "outputs": [
    {
     "data": {
      "text/plain": [
       "8000"
      ]
     },
     "execution_count": 6,
     "metadata": {},
     "output_type": "execute_result"
    }
   ],
   "source": [
    "df.size"
   ]
  },
  {
   "cell_type": "code",
   "execution_count": 7,
   "id": "7de1fb22",
   "metadata": {
    "execution": {
     "iopub.execute_input": "2024-06-26T11:05:01.460083Z",
     "iopub.status.busy": "2024-06-26T11:05:01.459689Z",
     "iopub.status.idle": "2024-06-26T11:05:01.469118Z",
     "shell.execute_reply": "2024-06-26T11:05:01.467869Z"
    },
    "papermill": {
     "duration": 0.025862,
     "end_time": "2024-06-26T11:05:01.471547",
     "exception": false,
     "start_time": "2024-06-26T11:05:01.445685",
     "status": "completed"
    },
    "tags": []
   },
   "outputs": [
    {
     "data": {
      "text/plain": [
       "gender                         object\n",
       "race/ethnicity                 object\n",
       "parental level of education    object\n",
       "lunch                          object\n",
       "test preparation course        object\n",
       "math score                      int64\n",
       "reading score                   int64\n",
       "writing score                   int64\n",
       "dtype: object"
      ]
     },
     "execution_count": 7,
     "metadata": {},
     "output_type": "execute_result"
    }
   ],
   "source": [
    "df.dtypes"
   ]
  },
  {
   "cell_type": "code",
   "execution_count": 8,
   "id": "ea0bbf94",
   "metadata": {
    "execution": {
     "iopub.execute_input": "2024-06-26T11:05:01.499425Z",
     "iopub.status.busy": "2024-06-26T11:05:01.498993Z",
     "iopub.status.idle": "2024-06-26T11:05:01.505808Z",
     "shell.execute_reply": "2024-06-26T11:05:01.504557Z"
    },
    "papermill": {
     "duration": 0.02363,
     "end_time": "2024-06-26T11:05:01.508564",
     "exception": false,
     "start_time": "2024-06-26T11:05:01.484934",
     "status": "completed"
    },
    "tags": []
   },
   "outputs": [],
   "source": [
    "pd.set_option('Display.max_columns',None)\n",
    "pd.set_option('Display.max_rows',None)"
   ]
  },
  {
   "cell_type": "code",
   "execution_count": 9,
   "id": "7b9a4669",
   "metadata": {
    "execution": {
     "iopub.execute_input": "2024-06-26T11:05:01.539441Z",
     "iopub.status.busy": "2024-06-26T11:05:01.539034Z",
     "iopub.status.idle": "2024-06-26T11:05:01.548380Z",
     "shell.execute_reply": "2024-06-26T11:05:01.547188Z"
    },
    "papermill": {
     "duration": 0.027075,
     "end_time": "2024-06-26T11:05:01.551138",
     "exception": false,
     "start_time": "2024-06-26T11:05:01.524063",
     "status": "completed"
    },
    "tags": []
   },
   "outputs": [
    {
     "data": {
      "text/plain": [
       "gender                         object\n",
       "race/ethnicity                 object\n",
       "parental level of education    object\n",
       "lunch                          object\n",
       "test preparation course        object\n",
       "math score                      int64\n",
       "reading score                   int64\n",
       "writing score                   int64\n",
       "dtype: object"
      ]
     },
     "execution_count": 9,
     "metadata": {},
     "output_type": "execute_result"
    }
   ],
   "source": [
    "df.dtypes"
   ]
  },
  {
   "cell_type": "code",
   "execution_count": 10,
   "id": "239c5545",
   "metadata": {
    "execution": {
     "iopub.execute_input": "2024-06-26T11:05:01.579907Z",
     "iopub.status.busy": "2024-06-26T11:05:01.578668Z",
     "iopub.status.idle": "2024-06-26T11:05:01.585873Z",
     "shell.execute_reply": "2024-06-26T11:05:01.583864Z"
    },
    "papermill": {
     "duration": 0.025461,
     "end_time": "2024-06-26T11:05:01.589479",
     "exception": false,
     "start_time": "2024-06-26T11:05:01.564018",
     "status": "completed"
    },
    "tags": []
   },
   "outputs": [],
   "source": [
    "pd.reset_option('Display.max_columns',None)\n",
    "pd.reset_option('Display.max_rows',None)"
   ]
  },
  {
   "cell_type": "code",
   "execution_count": 11,
   "id": "3dc05046",
   "metadata": {
    "execution": {
     "iopub.execute_input": "2024-06-26T11:05:01.618431Z",
     "iopub.status.busy": "2024-06-26T11:05:01.617971Z",
     "iopub.status.idle": "2024-06-26T11:05:01.626880Z",
     "shell.execute_reply": "2024-06-26T11:05:01.625637Z"
    },
    "papermill": {
     "duration": 0.026873,
     "end_time": "2024-06-26T11:05:01.629923",
     "exception": false,
     "start_time": "2024-06-26T11:05:01.603050",
     "status": "completed"
    },
    "tags": []
   },
   "outputs": [
    {
     "data": {
      "text/plain": [
       "gender                         object\n",
       "race/ethnicity                 object\n",
       "parental level of education    object\n",
       "lunch                          object\n",
       "test preparation course        object\n",
       "math score                      int64\n",
       "reading score                   int64\n",
       "writing score                   int64\n",
       "dtype: object"
      ]
     },
     "execution_count": 11,
     "metadata": {},
     "output_type": "execute_result"
    }
   ],
   "source": [
    "df.dtypes"
   ]
  },
  {
   "cell_type": "code",
   "execution_count": 12,
   "id": "f855491b",
   "metadata": {
    "execution": {
     "iopub.execute_input": "2024-06-26T11:05:01.659748Z",
     "iopub.status.busy": "2024-06-26T11:05:01.658762Z",
     "iopub.status.idle": "2024-06-26T11:05:01.667046Z",
     "shell.execute_reply": "2024-06-26T11:05:01.665781Z"
    },
    "papermill": {
     "duration": 0.025544,
     "end_time": "2024-06-26T11:05:01.669846",
     "exception": false,
     "start_time": "2024-06-26T11:05:01.644302",
     "status": "completed"
    },
    "tags": []
   },
   "outputs": [],
   "source": [
    "a = df.isnull().sum()"
   ]
  },
  {
   "cell_type": "code",
   "execution_count": 13,
   "id": "ed752849",
   "metadata": {
    "execution": {
     "iopub.execute_input": "2024-06-26T11:05:01.699324Z",
     "iopub.status.busy": "2024-06-26T11:05:01.698906Z",
     "iopub.status.idle": "2024-06-26T11:05:01.707223Z",
     "shell.execute_reply": "2024-06-26T11:05:01.705944Z"
    },
    "papermill": {
     "duration": 0.026744,
     "end_time": "2024-06-26T11:05:01.710015",
     "exception": false,
     "start_time": "2024-06-26T11:05:01.683271",
     "status": "completed"
    },
    "tags": []
   },
   "outputs": [
    {
     "data": {
      "text/plain": [
       "gender                         0\n",
       "race/ethnicity                 0\n",
       "parental level of education    0\n",
       "lunch                          0\n",
       "test preparation course        0\n",
       "math score                     0\n",
       "reading score                  0\n",
       "writing score                  0\n",
       "dtype: int64"
      ]
     },
     "execution_count": 13,
     "metadata": {},
     "output_type": "execute_result"
    }
   ],
   "source": [
    "a"
   ]
  },
  {
   "cell_type": "code",
   "execution_count": 14,
   "id": "46a85dcb",
   "metadata": {
    "execution": {
     "iopub.execute_input": "2024-06-26T11:05:01.739715Z",
     "iopub.status.busy": "2024-06-26T11:05:01.739301Z",
     "iopub.status.idle": "2024-06-26T11:05:01.747217Z",
     "shell.execute_reply": "2024-06-26T11:05:01.745789Z"
    },
    "papermill": {
     "duration": 0.026638,
     "end_time": "2024-06-26T11:05:01.750460",
     "exception": false,
     "start_time": "2024-06-26T11:05:01.723822",
     "status": "completed"
    },
    "tags": []
   },
   "outputs": [],
   "source": [
    "null_v = round((df.isnull().sum() *100)/len(df),2)"
   ]
  },
  {
   "cell_type": "code",
   "execution_count": 15,
   "id": "e87eec50",
   "metadata": {
    "execution": {
     "iopub.execute_input": "2024-06-26T11:05:01.780102Z",
     "iopub.status.busy": "2024-06-26T11:05:01.779714Z",
     "iopub.status.idle": "2024-06-26T11:05:01.791766Z",
     "shell.execute_reply": "2024-06-26T11:05:01.790553Z"
    },
    "papermill": {
     "duration": 0.030499,
     "end_time": "2024-06-26T11:05:01.794487",
     "exception": false,
     "start_time": "2024-06-26T11:05:01.763988",
     "status": "completed"
    },
    "tags": []
   },
   "outputs": [
    {
     "data": {
      "text/plain": [
       "gender                         0.0\n",
       "race/ethnicity                 0.0\n",
       "parental level of education    0.0\n",
       "lunch                          0.0\n",
       "test preparation course        0.0\n",
       "math score                     0.0\n",
       "reading score                  0.0\n",
       "writing score                  0.0\n",
       "dtype: float64"
      ]
     },
     "execution_count": 15,
     "metadata": {},
     "output_type": "execute_result"
    }
   ],
   "source": [
    "null_v"
   ]
  },
  {
   "cell_type": "code",
   "execution_count": 16,
   "id": "0eb68f72",
   "metadata": {
    "execution": {
     "iopub.execute_input": "2024-06-26T11:05:01.822939Z",
     "iopub.status.busy": "2024-06-26T11:05:01.822548Z",
     "iopub.status.idle": "2024-06-26T11:05:01.830339Z",
     "shell.execute_reply": "2024-06-26T11:05:01.829153Z"
    },
    "papermill": {
     "duration": 0.025158,
     "end_time": "2024-06-26T11:05:01.833041",
     "exception": false,
     "start_time": "2024-06-26T11:05:01.807883",
     "status": "completed"
    },
    "tags": []
   },
   "outputs": [
    {
     "data": {
      "text/plain": [
       "Index(['gender', 'race/ethnicity', 'parental level of education', 'lunch',\n",
       "       'test preparation course', 'math score', 'reading score',\n",
       "       'writing score'],\n",
       "      dtype='object')"
      ]
     },
     "execution_count": 16,
     "metadata": {},
     "output_type": "execute_result"
    }
   ],
   "source": [
    "df.columns"
   ]
  },
  {
   "cell_type": "code",
   "execution_count": 17,
   "id": "ac2f3fa2",
   "metadata": {
    "execution": {
     "iopub.execute_input": "2024-06-26T11:05:01.863776Z",
     "iopub.status.busy": "2024-06-26T11:05:01.863200Z",
     "iopub.status.idle": "2024-06-26T11:05:02.167869Z",
     "shell.execute_reply": "2024-06-26T11:05:02.166513Z"
    },
    "papermill": {
     "duration": 0.323272,
     "end_time": "2024-06-26T11:05:02.170499",
     "exception": false,
     "start_time": "2024-06-26T11:05:01.847227",
     "status": "completed"
    },
    "tags": []
   },
   "outputs": [
    {
     "data": {
      "image/png": "[encoded data removed]",
      "text/plain": [
       "<Figure size 640x480 with 1 Axes>"
      ]
     },
     "metadata": {},
     "output_type": "display_data"
    }
   ],
   "source": [
    "plt.title('Outlier for Maths Score')\n",
    "sns.boxplot(df['math score']);"
   ]
  },
  {
   "cell_type": "code",
   "execution_count": 18,
   "id": "91ccb9f8",
   "metadata": {
    "execution": {
     "iopub.execute_input": "2024-06-26T11:05:02.200437Z",
     "iopub.status.busy": "2024-06-26T11:05:02.199938Z",
     "iopub.status.idle": "2024-06-26T11:05:02.210215Z",
     "shell.execute_reply": "2024-06-26T11:05:02.209069Z"
    },
    "papermill": {
     "duration": 0.028397,
     "end_time": "2024-06-26T11:05:02.212841",
     "exception": false,
     "start_time": "2024-06-26T11:05:02.184444",
     "status": "completed"
    },
    "tags": []
   },
   "outputs": [
    {
     "data": {
      "text/plain": [
       "(77.0, 57.0)"
      ]
     },
     "execution_count": 18,
     "metadata": {},
     "output_type": "execute_result"
    }
   ],
   "source": [
    "q3 = np.percentile(df['math score'],75)\n",
    "q1 = np.percentile(df['math score'],25)\n",
    "q3,q1"
   ]
  },
  {
   "cell_type": "code",
   "execution_count": 19,
   "id": "d2baa22e",
   "metadata": {
    "execution": {
     "iopub.execute_input": "2024-06-26T11:05:02.242471Z",
     "iopub.status.busy": "2024-06-26T11:05:02.242065Z",
     "iopub.status.idle": "2024-06-26T11:05:02.247793Z",
     "shell.execute_reply": "2024-06-26T11:05:02.246599Z"
    },
    "papermill": {
     "duration": 0.023721,
     "end_time": "2024-06-26T11:05:02.250546",
     "exception": false,
     "start_time": "2024-06-26T11:05:02.226825",
     "status": "completed"
    },
    "tags": []
   },
   "outputs": [],
   "source": [
    "iqr = q3-q1"
   ]
  },
  {
   "cell_type": "code",
   "execution_count": 20,
   "id": "3efcd332",
   "metadata": {
    "execution": {
     "iopub.execute_input": "2024-06-26T11:05:02.280833Z",
     "iopub.status.busy": "2024-06-26T11:05:02.280409Z",
     "iopub.status.idle": "2024-06-26T11:05:02.287698Z",
     "shell.execute_reply": "2024-06-26T11:05:02.286510Z"
    },
    "papermill": {
     "duration": 0.025679,
     "end_time": "2024-06-26T11:05:02.290427",
     "exception": false,
     "start_time": "2024-06-26T11:05:02.264748",
     "status": "completed"
    },
    "tags": []
   },
   "outputs": [
    {
     "data": {
      "text/plain": [
       "20.0"
      ]
     },
     "execution_count": 20,
     "metadata": {},
     "output_type": "execute_result"
    }
   ],
   "source": [
    "iqr"
   ]
  },
  {
   "cell_type": "code",
   "execution_count": 21,
   "id": "24c24e50",
   "metadata": {
    "execution": {
     "iopub.execute_input": "2024-06-26T11:05:02.322775Z",
     "iopub.status.busy": "2024-06-26T11:05:02.322365Z",
     "iopub.status.idle": "2024-06-26T11:05:02.328236Z",
     "shell.execute_reply": "2024-06-26T11:05:02.326978Z"
    },
    "papermill": {
     "duration": 0.026193,
     "end_time": "2024-06-26T11:05:02.330889",
     "exception": false,
     "start_time": "2024-06-26T11:05:02.304696",
     "status": "completed"
    },
    "tags": []
   },
   "outputs": [],
   "source": [
    "ub = q3+(1.5*iqr)\n",
    "lb = q1-(1.5*iqr)"
   ]
  },
  {
   "cell_type": "code",
   "execution_count": 22,
   "id": "1a0a775a",
   "metadata": {
    "execution": {
     "iopub.execute_input": "2024-06-26T11:05:02.361981Z",
     "iopub.status.busy": "2024-06-26T11:05:02.361584Z",
     "iopub.status.idle": "2024-06-26T11:05:02.369195Z",
     "shell.execute_reply": "2024-06-26T11:05:02.367863Z"
    },
    "papermill": {
     "duration": 0.027559,
     "end_time": "2024-06-26T11:05:02.372620",
     "exception": false,
     "start_time": "2024-06-26T11:05:02.345061",
     "status": "completed"
    },
    "tags": []
   },
   "outputs": [
    {
     "data": {
      "text/plain": [
       "(107.0, 27.0)"
      ]
     },
     "execution_count": 22,
     "metadata": {},
     "output_type": "execute_result"
    }
   ],
   "source": [
    "ub,lb"
   ]
  },
  {
   "cell_type": "code",
   "execution_count": 23,
   "id": "b0dbe23f",
   "metadata": {
    "execution": {
     "iopub.execute_input": "2024-06-26T11:05:02.405953Z",
     "iopub.status.busy": "2024-06-26T11:05:02.405540Z",
     "iopub.status.idle": "2024-06-26T11:05:02.414204Z",
     "shell.execute_reply": "2024-06-26T11:05:02.412708Z"
    },
    "papermill": {
     "duration": 0.028964,
     "end_time": "2024-06-26T11:05:02.416972",
     "exception": false,
     "start_time": "2024-06-26T11:05:02.388008",
     "status": "completed"
    },
    "tags": []
   },
   "outputs": [],
   "source": [
    "df = df[(df['math score'] <= ub) & (df['math score'] >=lb)]"
   ]
  },
  {
   "cell_type": "code",
   "execution_count": 24,
   "id": "5ee06823",
   "metadata": {
    "execution": {
     "iopub.execute_input": "2024-06-26T11:05:02.452790Z",
     "iopub.status.busy": "2024-06-26T11:05:02.451470Z",
     "iopub.status.idle": "2024-06-26T11:05:02.474287Z",
     "shell.execute_reply": "2024-06-26T11:05:02.472734Z"
    },
    "papermill": {
     "duration": 0.044132,
     "end_time": "2024-06-26T11:05:02.477259",
     "exception": false,
     "start_time": "2024-06-26T11:05:02.433127",
     "status": "completed"
    },
    "tags": []
   },
   "outputs": [
    {
     "data": {
      "text/html": [
       "<div>\n",
       "<style scoped>\n",
       "    .dataframe tbody tr th:only-of-type {\n",
       "        vertical-align: middle;\n",
       "    }\n",
       "\n",
       "    .dataframe tbody tr th {\n",
       "        vertical-align: top;\n",
       "    }\n",
       "\n",
       "    .dataframe thead th {\n",
       "        text-align: right;\n",
       "    }\n",
       "</style>\n",
       "<table border=\"1\" class=\"dataframe\">\n",
       "  <thead>\n",
       "    <tr style=\"text-align: right;\">\n",
       "      <th></th>\n",
       "      <th>gender</th>\n",
       "      <th>race/ethnicity</th>\n",
       "      <th>parental level of education</th>\n",
       "      <th>lunch</th>\n",
       "      <th>test preparation course</th>\n",
       "      <th>math score</th>\n",
       "      <th>reading score</th>\n",
       "      <th>writing score</th>\n",
       "    </tr>\n",
       "  </thead>\n",
       "  <tbody>\n",
       "    <tr>\n",
       "      <th>0</th>\n",
       "      <td>female</td>\n",
       "      <td>group B</td>\n",
       "      <td>bachelor's degree</td>\n",
       "      <td>standard</td>\n",
       "      <td>none</td>\n",
       "      <td>72</td>\n",
       "      <td>72</td>\n",
       "      <td>74</td>\n",
       "    </tr>\n",
       "    <tr>\n",
       "      <th>1</th>\n",
       "      <td>female</td>\n",
       "      <td>group C</td>\n",
       "      <td>some college</td>\n",
       "      <td>standard</td>\n",
       "      <td>completed</td>\n",
       "      <td>69</td>\n",
       "      <td>90</td>\n",
       "      <td>88</td>\n",
       "    </tr>\n",
       "    <tr>\n",
       "      <th>2</th>\n",
       "      <td>female</td>\n",
       "      <td>group B</td>\n",
       "      <td>master's degree</td>\n",
       "      <td>standard</td>\n",
       "      <td>none</td>\n",
       "      <td>90</td>\n",
       "      <td>95</td>\n",
       "      <td>93</td>\n",
       "    </tr>\n",
       "    <tr>\n",
       "      <th>3</th>\n",
       "      <td>male</td>\n",
       "      <td>group A</td>\n",
       "      <td>associate's degree</td>\n",
       "      <td>free/reduced</td>\n",
       "      <td>none</td>\n",
       "      <td>47</td>\n",
       "      <td>57</td>\n",
       "      <td>44</td>\n",
       "    </tr>\n",
       "    <tr>\n",
       "      <th>4</th>\n",
       "      <td>male</td>\n",
       "      <td>group C</td>\n",
       "      <td>some college</td>\n",
       "      <td>standard</td>\n",
       "      <td>none</td>\n",
       "      <td>76</td>\n",
       "      <td>78</td>\n",
       "      <td>75</td>\n",
       "    </tr>\n",
       "    <tr>\n",
       "      <th>...</th>\n",
       "      <td>...</td>\n",
       "      <td>...</td>\n",
       "      <td>...</td>\n",
       "      <td>...</td>\n",
       "      <td>...</td>\n",
       "      <td>...</td>\n",
       "      <td>...</td>\n",
       "      <td>...</td>\n",
       "    </tr>\n",
       "    <tr>\n",
       "      <th>995</th>\n",
       "      <td>female</td>\n",
       "      <td>group E</td>\n",
       "      <td>master's degree</td>\n",
       "      <td>standard</td>\n",
       "      <td>completed</td>\n",
       "      <td>88</td>\n",
       "      <td>99</td>\n",
       "      <td>95</td>\n",
       "    </tr>\n",
       "    <tr>\n",
       "      <th>996</th>\n",
       "      <td>male</td>\n",
       "      <td>group C</td>\n",
       "      <td>high school</td>\n",
       "      <td>free/reduced</td>\n",
       "      <td>none</td>\n",
       "      <td>62</td>\n",
       "      <td>55</td>\n",
       "      <td>55</td>\n",
       "    </tr>\n",
       "    <tr>\n",
       "      <th>997</th>\n",
       "      <td>female</td>\n",
       "      <td>group C</td>\n",
       "      <td>high school</td>\n",
       "      <td>free/reduced</td>\n",
       "      <td>completed</td>\n",
       "      <td>59</td>\n",
       "      <td>71</td>\n",
       "      <td>65</td>\n",
       "    </tr>\n",
       "    <tr>\n",
       "      <th>998</th>\n",
       "      <td>female</td>\n",
       "      <td>group D</td>\n",
       "      <td>some college</td>\n",
       "      <td>standard</td>\n",
       "      <td>completed</td>\n",
       "      <td>68</td>\n",
       "      <td>78</td>\n",
       "      <td>77</td>\n",
       "    </tr>\n",
       "    <tr>\n",
       "      <th>999</th>\n",
       "      <td>female</td>\n",
       "      <td>group D</td>\n",
       "      <td>some college</td>\n",
       "      <td>free/reduced</td>\n",
       "      <td>none</td>\n",
       "      <td>77</td>\n",
       "      <td>86</td>\n",
       "      <td>86</td>\n",
       "    </tr>\n",
       "  </tbody>\n",
       "</table>\n",
       "<p>992 rows × 8 columns</p>\n",
       "</div>"
      ],
      "text/plain": [
       "     gender race/ethnicity parental level of education         lunch  \\\n",
       "0    female        group B           bachelor's degree      standard   \n",
       "1    female        group C                some college      standard   \n",
       "2    female        group B             master's degree      standard   \n",
       "3      male        group A          associate's degree  free/reduced   \n",
       "4      male        group C                some college      standard   \n",
       "..      ...            ...                         ...           ...   \n",
       "995  female        group E             master's degree      standard   \n",
       "996    male        group C                 high school  free/reduced   \n",
       "997  female        group C                 high school  free/reduced   \n",
       "998  female        group D                some college      standard   \n",
       "999  female        group D                some college  free/reduced   \n",
       "\n",
       "    test preparation course  math score  reading score  writing score  \n",
       "0                      none          72             72             74  \n",
       "1                 completed          69             90             88  \n",
       "2                      none          90             95             93  \n",
       "3                      none          47             57             44  \n",
       "4                      none          76             78             75  \n",
       "..                      ...         ...            ...            ...  \n",
       "995               completed          88             99             95  \n",
       "996                    none          62             55             55  \n",
       "997               completed          59             71             65  \n",
       "998               completed          68             78             77  \n",
       "999                    none          77             86             86  \n",
       "\n",
       "[992 rows x 8 columns]"
      ]
     },
     "execution_count": 24,
     "metadata": {},
     "output_type": "execute_result"
    }
   ],
   "source": [
    "df"
   ]
  },
  {
   "cell_type": "code",
   "execution_count": 25,
   "id": "ee72a123",
   "metadata": {
    "execution": {
     "iopub.execute_input": "2024-06-26T11:05:02.512027Z",
     "iopub.status.busy": "2024-06-26T11:05:02.511410Z",
     "iopub.status.idle": "2024-06-26T11:05:02.864188Z",
     "shell.execute_reply": "2024-06-26T11:05:02.862844Z"
    },
    "papermill": {
     "duration": 0.373439,
     "end_time": "2024-06-26T11:05:02.866950",
     "exception": false,
     "start_time": "2024-06-26T11:05:02.493511",
     "status": "completed"
    },
    "tags": []
   },
   "outputs": [
    {
     "data": {
      "image/png": "[encoded data removed]",
      "text/plain": [
       "<Figure size 640x480 with 1 Axes>"
      ]
     },
     "metadata": {},
     "output_type": "display_data"
    }
   ],
   "source": [
    "plt.title('Outlier for Reading Score')\n",
    "sns.boxplot(df['reading score']);"
   ]
  },
  {
   "cell_type": "code",
   "execution_count": 26,
   "id": "2b4ce3f8",
   "metadata": {
    "execution": {
     "iopub.execute_input": "2024-06-26T11:05:02.900241Z",
     "iopub.status.busy": "2024-06-26T11:05:02.899842Z",
     "iopub.status.idle": "2024-06-26T11:05:02.909738Z",
     "shell.execute_reply": "2024-06-26T11:05:02.908592Z"
    },
    "papermill": {
     "duration": 0.029725,
     "end_time": "2024-06-26T11:05:02.912415",
     "exception": false,
     "start_time": "2024-06-26T11:05:02.882690",
     "status": "completed"
    },
    "tags": []
   },
   "outputs": [
    {
     "data": {
      "text/plain": [
       "(80.0, 60.0)"
      ]
     },
     "execution_count": 26,
     "metadata": {},
     "output_type": "execute_result"
    }
   ],
   "source": [
    "q3 = np.percentile(df['reading score'],75)\n",
    "q1 = np.percentile(df['reading score'],25)\n",
    "q3,q1"
   ]
  },
  {
   "cell_type": "code",
   "execution_count": 27,
   "id": "bede3571",
   "metadata": {
    "execution": {
     "iopub.execute_input": "2024-06-26T11:05:02.945513Z",
     "iopub.status.busy": "2024-06-26T11:05:02.944604Z",
     "iopub.status.idle": "2024-06-26T11:05:02.950122Z",
     "shell.execute_reply": "2024-06-26T11:05:02.948902Z"
    },
    "papermill": {
     "duration": 0.025076,
     "end_time": "2024-06-26T11:05:02.952705",
     "exception": false,
     "start_time": "2024-06-26T11:05:02.927629",
     "status": "completed"
    },
    "tags": []
   },
   "outputs": [],
   "source": [
    "iqr = q3-q1"
   ]
  },
  {
   "cell_type": "code",
   "execution_count": 28,
   "id": "f632ddcd",
   "metadata": {
    "execution": {
     "iopub.execute_input": "2024-06-26T11:05:02.985374Z",
     "iopub.status.busy": "2024-06-26T11:05:02.984994Z",
     "iopub.status.idle": "2024-06-26T11:05:02.992238Z",
     "shell.execute_reply": "2024-06-26T11:05:02.990990Z"
    },
    "papermill": {
     "duration": 0.026173,
     "end_time": "2024-06-26T11:05:02.994598",
     "exception": false,
     "start_time": "2024-06-26T11:05:02.968425",
     "status": "completed"
    },
    "tags": []
   },
   "outputs": [
    {
     "data": {
      "text/plain": [
       "20.0"
      ]
     },
     "execution_count": 28,
     "metadata": {},
     "output_type": "execute_result"
    }
   ],
   "source": [
    "iqr"
   ]
  },
  {
   "cell_type": "code",
   "execution_count": 29,
   "id": "ff15ef2c",
   "metadata": {
    "execution": {
     "iopub.execute_input": "2024-06-26T11:05:03.029299Z",
     "iopub.status.busy": "2024-06-26T11:05:03.028419Z",
     "iopub.status.idle": "2024-06-26T11:05:03.034091Z",
     "shell.execute_reply": "2024-06-26T11:05:03.032959Z"
    },
    "papermill": {
     "duration": 0.025949,
     "end_time": "2024-06-26T11:05:03.036775",
     "exception": false,
     "start_time": "2024-06-26T11:05:03.010826",
     "status": "completed"
    },
    "tags": []
   },
   "outputs": [],
   "source": [
    "ub = q3+(1.5*iqr)\n",
    "lb = q1-(1.5*iqr)"
   ]
  },
  {
   "cell_type": "code",
   "execution_count": 30,
   "id": "c647e2bd",
   "metadata": {
    "execution": {
     "iopub.execute_input": "2024-06-26T11:05:03.069381Z",
     "iopub.status.busy": "2024-06-26T11:05:03.069000Z",
     "iopub.status.idle": "2024-06-26T11:05:03.076252Z",
     "shell.execute_reply": "2024-06-26T11:05:03.075062Z"
    },
    "papermill": {
     "duration": 0.026582,
     "end_time": "2024-06-26T11:05:03.078773",
     "exception": false,
     "start_time": "2024-06-26T11:05:03.052191",
     "status": "completed"
    },
    "tags": []
   },
   "outputs": [
    {
     "data": {
      "text/plain": [
       "(110.0, 30.0)"
      ]
     },
     "execution_count": 30,
     "metadata": {},
     "output_type": "execute_result"
    }
   ],
   "source": [
    "ub,lb"
   ]
  },
  {
   "cell_type": "code",
   "execution_count": 31,
   "id": "f1578100",
   "metadata": {
    "execution": {
     "iopub.execute_input": "2024-06-26T11:05:03.112309Z",
     "iopub.status.busy": "2024-06-26T11:05:03.111888Z",
     "iopub.status.idle": "2024-06-26T11:05:03.120236Z",
     "shell.execute_reply": "2024-06-26T11:05:03.119026Z"
    },
    "papermill": {
     "duration": 0.028248,
     "end_time": "2024-06-26T11:05:03.123035",
     "exception": false,
     "start_time": "2024-06-26T11:05:03.094787",
     "status": "completed"
    },
    "tags": []
   },
   "outputs": [],
   "source": [
    "df = df[(df['reading score'] <= ub) & (df['reading score'] >=lb)]"
   ]
  },
  {
   "cell_type": "code",
   "execution_count": 32,
   "id": "42526391",
   "metadata": {
    "execution": {
     "iopub.execute_input": "2024-06-26T11:05:03.155876Z",
     "iopub.status.busy": "2024-06-26T11:05:03.155472Z",
     "iopub.status.idle": "2024-06-26T11:05:03.175344Z",
     "shell.execute_reply": "2024-06-26T11:05:03.174042Z"
    },
    "papermill": {
     "duration": 0.039603,
     "end_time": "2024-06-26T11:05:03.178164",
     "exception": false,
     "start_time": "2024-06-26T11:05:03.138561",
     "status": "completed"
    },
    "tags": []
   },
   "outputs": [
    {
     "data": {
      "text/html": [
       "<div>\n",
       "<style scoped>\n",
       "    .dataframe tbody tr th:only-of-type {\n",
       "        vertical-align: middle;\n",
       "    }\n",
       "\n",
       "    .dataframe tbody tr th {\n",
       "        vertical-align: top;\n",
       "    }\n",
       "\n",
       "    .dataframe thead th {\n",
       "        text-align: right;\n",
       "    }\n",
       "</style>\n",
       "<table border=\"1\" class=\"dataframe\">\n",
       "  <thead>\n",
       "    <tr style=\"text-align: right;\">\n",
       "      <th></th>\n",
       "      <th>gender</th>\n",
       "      <th>race/ethnicity</th>\n",
       "      <th>parental level of education</th>\n",
       "      <th>lunch</th>\n",
       "      <th>test preparation course</th>\n",
       "      <th>math score</th>\n",
       "      <th>reading score</th>\n",
       "      <th>writing score</th>\n",
       "    </tr>\n",
       "  </thead>\n",
       "  <tbody>\n",
       "    <tr>\n",
       "      <th>0</th>\n",
       "      <td>female</td>\n",
       "      <td>group B</td>\n",
       "      <td>bachelor's degree</td>\n",
       "      <td>standard</td>\n",
       "      <td>none</td>\n",
       "      <td>72</td>\n",
       "      <td>72</td>\n",
       "      <td>74</td>\n",
       "    </tr>\n",
       "    <tr>\n",
       "      <th>1</th>\n",
       "      <td>female</td>\n",
       "      <td>group C</td>\n",
       "      <td>some college</td>\n",
       "      <td>standard</td>\n",
       "      <td>completed</td>\n",
       "      <td>69</td>\n",
       "      <td>90</td>\n",
       "      <td>88</td>\n",
       "    </tr>\n",
       "    <tr>\n",
       "      <th>2</th>\n",
       "      <td>female</td>\n",
       "      <td>group B</td>\n",
       "      <td>master's degree</td>\n",
       "      <td>standard</td>\n",
       "      <td>none</td>\n",
       "      <td>90</td>\n",
       "      <td>95</td>\n",
       "      <td>93</td>\n",
       "    </tr>\n",
       "    <tr>\n",
       "      <th>3</th>\n",
       "      <td>male</td>\n",
       "      <td>group A</td>\n",
       "      <td>associate's degree</td>\n",
       "      <td>free/reduced</td>\n",
       "      <td>none</td>\n",
       "      <td>47</td>\n",
       "      <td>57</td>\n",
       "      <td>44</td>\n",
       "    </tr>\n",
       "    <tr>\n",
       "      <th>4</th>\n",
       "      <td>male</td>\n",
       "      <td>group C</td>\n",
       "      <td>some college</td>\n",
       "      <td>standard</td>\n",
       "      <td>none</td>\n",
       "      <td>76</td>\n",
       "      <td>78</td>\n",
       "      <td>75</td>\n",
       "    </tr>\n",
       "    <tr>\n",
       "      <th>...</th>\n",
       "      <td>...</td>\n",
       "      <td>...</td>\n",
       "      <td>...</td>\n",
       "      <td>...</td>\n",
       "      <td>...</td>\n",
       "      <td>...</td>\n",
       "      <td>...</td>\n",
       "      <td>...</td>\n",
       "    </tr>\n",
       "    <tr>\n",
       "      <th>995</th>\n",
       "      <td>female</td>\n",
       "      <td>group E</td>\n",
       "      <td>master's degree</td>\n",
       "      <td>standard</td>\n",
       "      <td>completed</td>\n",
       "      <td>88</td>\n",
       "      <td>99</td>\n",
       "      <td>95</td>\n",
       "    </tr>\n",
       "    <tr>\n",
       "      <th>996</th>\n",
       "      <td>male</td>\n",
       "      <td>group C</td>\n",
       "      <td>high school</td>\n",
       "      <td>free/reduced</td>\n",
       "      <td>none</td>\n",
       "      <td>62</td>\n",
       "      <td>55</td>\n",
       "      <td>55</td>\n",
       "    </tr>\n",
       "    <tr>\n",
       "      <th>997</th>\n",
       "      <td>female</td>\n",
       "      <td>group C</td>\n",
       "      <td>high school</td>\n",
       "      <td>free/reduced</td>\n",
       "      <td>completed</td>\n",
       "      <td>59</td>\n",
       "      <td>71</td>\n",
       "      <td>65</td>\n",
       "    </tr>\n",
       "    <tr>\n",
       "      <th>998</th>\n",
       "      <td>female</td>\n",
       "      <td>group D</td>\n",
       "      <td>some college</td>\n",
       "      <td>standard</td>\n",
       "      <td>completed</td>\n",
       "      <td>68</td>\n",
       "      <td>78</td>\n",
       "      <td>77</td>\n",
       "    </tr>\n",
       "    <tr>\n",
       "      <th>999</th>\n",
       "      <td>female</td>\n",
       "      <td>group D</td>\n",
       "      <td>some college</td>\n",
       "      <td>free/reduced</td>\n",
       "      <td>none</td>\n",
       "      <td>77</td>\n",
       "      <td>86</td>\n",
       "      <td>86</td>\n",
       "    </tr>\n",
       "  </tbody>\n",
       "</table>\n",
       "<p>986 rows × 8 columns</p>\n",
       "</div>"
      ],
      "text/plain": [
       "     gender race/ethnicity parental level of education         lunch  \\\n",
       "0    female        group B           bachelor's degree      standard   \n",
       "1    female        group C                some college      standard   \n",
       "2    female        group B             master's degree      standard   \n",
       "3      male        group A          associate's degree  free/reduced   \n",
       "4      male        group C                some college      standard   \n",
       "..      ...            ...                         ...           ...   \n",
       "995  female        group E             master's degree      standard   \n",
       "996    male        group C                 high school  free/reduced   \n",
       "997  female        group C                 high school  free/reduced   \n",
       "998  female        group D                some college      standard   \n",
       "999  female        group D                some college  free/reduced   \n",
       "\n",
       "    test preparation course  math score  reading score  writing score  \n",
       "0                      none          72             72             74  \n",
       "1                 completed          69             90             88  \n",
       "2                      none          90             95             93  \n",
       "3                      none          47             57             44  \n",
       "4                      none          76             78             75  \n",
       "..                      ...         ...            ...            ...  \n",
       "995               completed          88             99             95  \n",
       "996                    none          62             55             55  \n",
       "997               completed          59             71             65  \n",
       "998               completed          68             78             77  \n",
       "999                    none          77             86             86  \n",
       "\n",
       "[986 rows x 8 columns]"
      ]
     },
     "execution_count": 32,
     "metadata": {},
     "output_type": "execute_result"
    }
   ],
   "source": [
    "df"
   ]
  },
  {
   "cell_type": "code",
   "execution_count": 33,
   "id": "0a71ed6c",
   "metadata": {
    "execution": {
     "iopub.execute_input": "2024-06-26T11:05:03.213744Z",
     "iopub.status.busy": "2024-06-26T11:05:03.213263Z",
     "iopub.status.idle": "2024-06-26T11:05:05.672821Z",
     "shell.execute_reply": "2024-06-26T11:05:05.671741Z"
    },
    "papermill": {
     "duration": 2.480689,
     "end_time": "2024-06-26T11:05:05.675862",
     "exception": false,
     "start_time": "2024-06-26T11:05:03.195173",
     "status": "completed"
    },
    "tags": []
   },
   "outputs": [
    {
     "name": "stderr",
     "output_type": "stream",
     "text": [
      "/opt/conda/lib/python3.10/site-packages/seaborn/_oldcore.py:1119: FutureWarning: use_inf_as_na option is deprecated and will be removed in a future version. Convert inf values to NaN before operating instead.\n",
      "  with pd.option_context('mode.use_inf_as_na', True):\n",
      "/opt/conda/lib/python3.10/site-packages/seaborn/_oldcore.py:1119: FutureWarning: use_inf_as_na option is deprecated and will be removed in a future version. Convert inf values to NaN before operating instead.\n",
      "  with pd.option_context('mode.use_inf_as_na', True):\n"
     ]
    },
    {
     "data": {
      "image/png": "[encoded data removed]",
      "text/plain": [
       "<Figure size 1000x700 with 1 Axes>"
      ]
     },
     "metadata": {},
     "output_type": "display_data"
    }
   ],
   "source": [
    "## Line plot of Reading and Writthing Score\n",
    "plt.figure(figsize=(10,7))\n",
    "sns.lineplot(x='reading score', y='writing score', data=df, marker='o')\n",
    "plt.title(\"Graph of Reading score and writting score\")\n",
    "plt.xlabel('Reading Score')\n",
    "plt.ylabel('Writing Score')\n",
    "plt.grid(True)\n",
    "plt.show()"
   ]
  },
  {
   "cell_type": "code",
   "execution_count": 34,
   "id": "8e3eee1b",
   "metadata": {
    "execution": {
     "iopub.execute_input": "2024-06-26T11:05:05.712776Z",
     "iopub.status.busy": "2024-06-26T11:05:05.711761Z",
     "iopub.status.idle": "2024-06-26T11:05:06.266057Z",
     "shell.execute_reply": "2024-06-26T11:05:06.264742Z"
    },
    "papermill": {
     "duration": 0.575726,
     "end_time": "2024-06-26T11:05:06.268933",
     "exception": false,
     "start_time": "2024-06-26T11:05:05.693207",
     "status": "completed"
    },
    "tags": []
   },
   "outputs": [
    {
     "data": {
      "image/png": "[encoded data removed]",
      "text/plain": [
       "<Figure size 500x500 with 1 Axes>"
      ]
     },
     "metadata": {},
     "output_type": "display_data"
    }
   ],
   "source": [
    "## Count Plot for Reading Distribution\n",
    "plt.figure(figsize=(5, 5))\n",
    "sns.countplot(data=df, x='reading score')\n",
    "plt.title('Reading Score Distribution')\n",
    "plt.xlabel('attributes')\n",
    "plt.ylabel('Count')\n",
    "plt.xticks(range(1, 50, 5))\n",
    "plt.show();"
   ]
  },
  {
   "cell_type": "code",
   "execution_count": 35,
   "id": "17bd9b0c",
   "metadata": {
    "execution": {
     "iopub.execute_input": "2024-06-26T11:05:06.307961Z",
     "iopub.status.busy": "2024-06-26T11:05:06.306449Z",
     "iopub.status.idle": "2024-06-26T11:05:06.880783Z",
     "shell.execute_reply": "2024-06-26T11:05:06.878847Z"
    },
    "papermill": {
     "duration": 0.597532,
     "end_time": "2024-06-26T11:05:06.884162",
     "exception": false,
     "start_time": "2024-06-26T11:05:06.286630",
     "status": "completed"
    },
    "tags": []
   },
   "outputs": [
    {
     "data": {
      "image/png": "[encoded data removed]",
      "text/plain": [
       "<Figure size 500x500 with 1 Axes>"
      ]
     },
     "metadata": {},
     "output_type": "display_data"
    }
   ],
   "source": [
    "## Count Plot for Writting Distribution\n",
    "plt.figure(figsize=(5, 5))\n",
    "sns.countplot(data=df, x='writing score')\n",
    "plt.title('Writing Score Distribution')\n",
    "plt.xlabel('attributes')\n",
    "plt.ylabel('Count')\n",
    "plt.xticks(range(1, 50, 5))\n",
    "plt.show();"
   ]
  },
  {
   "cell_type": "code",
   "execution_count": null,
   "id": "d2016666",
   "metadata": {
    "papermill": {
     "duration": 0.017987,
     "end_time": "2024-06-26T11:05:06.920303",
     "exception": false,
     "start_time": "2024-06-26T11:05:06.902316",
     "status": "completed"
    },
    "tags": []
   },
   "outputs": [],
   "source": []
  }
 ],
 "metadata": {
  "kaggle": {
   "accelerator": "none",
   "dataSources": [
    {
     "datasetId": 851062,
     "sourceId": 1451894,
     "sourceType": "datasetVersion"
    }
   ],
   "dockerImageVersionId": 30732,
   "isGpuEnabled": false,
   "isInternetEnabled": false,
   "language": "python",
   "sourceType": "notebook"
  },
  "kernelspec": {
   "display_name": "Python 3",
   "language": "python",
   "name": "python3"
  },
  "language_info": {
   "codemirror_mode": {
    "name": "ipython",
    "version": 3
   },
   "file_extension": ".py",
   "mimetype": "text/x-python",
   "name": "python",
   "nbconvert_exporter": "python",
   "pygments_lexer": "ipython3",
   "version": "3.10.13"
  },
  "papermill": {
   "default_parameters": {},
   "duration": 12.411626,
   "end_time": "2024-06-26T11:05:07.562495",
   "environment_variables": {},
   "exception": null,
   "input_path": "__notebook__.ipynb",
   "output_path": "__notebook__.ipynb",
   "parameters": {},
   "start_time": "2024-06-26T11:04:55.150869",
   "version": "2.5.0"
  }
 },
 "nbformat": 4,
 "nbformat_minor": 5
}
