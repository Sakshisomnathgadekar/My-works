{
 "cells": [
  {
   "cell_type": "code",
   "execution_count": 1,
   "id": "e9cbbcbd-97a9-4231-94bf-fd47a326ddb1",
   "metadata": {},
   "outputs": [
    {
     "name": "stdout",
     "output_type": "stream",
     "text": [
      "OK\n"
     ]
    }
   ],
   "source": [
    "# Check if the number is greater than 50\n",
    "num = 78\n",
    "if num > 50:\n",
    "    print(\"OK\")"
   ]
  },
  {
   "cell_type": "code",
   "execution_count": 2,
   "id": "4c836f29-b749-49f9-a63d-62affa0cd9d2",
   "metadata": {},
   "outputs": [
    {
     "name": "stdin",
     "output_type": "stream",
     "text": [
      "Enter a number 7\n"
     ]
    }
   ],
   "source": [
    "num = int(input('Enter a number'))\n",
    "if num > 50:\n",
    "    print('OK')"
   ]
  },
  {
   "cell_type": "code",
   "execution_count": 3,
   "id": "6e17b81d-4243-4655-bd21-4ecaedc93aff",
   "metadata": {},
   "outputs": [
    {
     "name": "stdin",
     "output_type": "stream",
     "text": [
      "Enter the number 12\n"
     ]
    },
    {
     "name": "stdout",
     "output_type": "stream",
     "text": [
      "Positive\n",
      "ok\n"
     ]
    }
   ],
   "source": [
    "#positive or negative\n",
    "num = int(input('Enter the number'))\n",
    "if num>0:\n",
    "    print('Positive')\n",
    "    print('ok')\n",
    "else:\n",
    "     print('Negative')\n",
    "     print('GoodBye')"
   ]
  },
  {
   "cell_type": "code",
   "execution_count": 4,
   "id": "a2e7310e-ebe2-4e40-a30d-ec0a255d43a0",
   "metadata": {},
   "outputs": [
    {
     "name": "stdin",
     "output_type": "stream",
     "text": [
      "Enter the number: 0\n"
     ]
    },
    {
     "name": "stdout",
     "output_type": "stream",
     "text": [
      "zero\n"
     ]
    }
   ],
   "source": [
    "#For zero\n",
    "num = int(input('Enter the number:'))\n",
    "if num>0:\n",
    "     print('Positive')\n",
    "elif num ==0:\n",
    "    print('zero')\n",
    "else:\n",
    "    print('Negative')"
   ]
  },
  {
   "cell_type": "code",
   "execution_count": 5,
   "id": "09635ea4-e0c4-4b66-89ef-7a1c080e4186",
   "metadata": {},
   "outputs": [
    {
     "name": "stdin",
     "output_type": "stream",
     "text": [
      "Enter the number: 24\n"
     ]
    },
    {
     "name": "stdout",
     "output_type": "stream",
     "text": [
      "Number is even\n"
     ]
    }
   ],
   "source": [
    "#check if the number is odd or even\n",
    "num = int(input('Enter the number:'))\n",
    "if num % 2 == 0:\n",
    "    print('Number is even')\n",
    "else:\n",
    "    print('Odd')"
   ]
  },
  {
   "cell_type": "code",
   "execution_count": 6,
   "id": "f71b56b3-c621-43a9-9089-58f821a53d71",
   "metadata": {},
   "outputs": [
    {
     "data": {
      "text/plain": [
       "1"
      ]
     },
     "execution_count": 6,
     "metadata": {},
     "output_type": "execute_result"
    }
   ],
   "source": [
    "int(True)"
   ]
  },
  {
   "cell_type": "code",
   "execution_count": 7,
   "id": "c3da3ec9-60a6-45c9-bd00-bd028744dd18",
   "metadata": {},
   "outputs": [
    {
     "data": {
      "text/plain": [
       "0"
      ]
     },
     "execution_count": 7,
     "metadata": {},
     "output_type": "execute_result"
    }
   ],
   "source": [
    "int(False)"
   ]
  },
  {
   "cell_type": "code",
   "execution_count": 8,
   "id": "47e96675-73ec-4352-bffa-e4047d31fb61",
   "metadata": {},
   "outputs": [
    {
     "data": {
      "text/plain": [
       "2"
      ]
     },
     "execution_count": 8,
     "metadata": {},
     "output_type": "execute_result"
    }
   ],
   "source": [
    "True+True-False"
   ]
  },
  {
   "cell_type": "code",
   "execution_count": 9,
   "id": "09c0f4c4-405f-4954-aee6-2090f60049ba",
   "metadata": {},
   "outputs": [
    {
     "name": "stdout",
     "output_type": "stream",
     "text": [
      "!!!!!!\n"
     ]
    }
   ],
   "source": [
    "a = 12\n",
    "\n",
    "if a:\n",
    "    print('!!!!!!')"
   ]
  },
  {
   "cell_type": "code",
   "execution_count": 10,
   "id": "d7bc8cbb-03df-498b-8e9d-2b0d058cd101",
   "metadata": {},
   "outputs": [
    {
     "name": "stdin",
     "output_type": "stream",
     "text": [
      "Enter the number: 56\n"
     ]
    },
    {
     "name": "stdout",
     "output_type": "stream",
     "text": [
      "correct\n"
     ]
    }
   ],
   "source": [
    "#check if the num is between 50 and 150\n",
    "num = int(input('Enter the number:'))\n",
    "if num >50:\n",
    "    if num < 150:\n",
    "        print('correct')\n",
    "    else:\n",
    "        print('greater than 150')\n",
    "else:\n",
    "    print('Incorrect')"
   ]
  },
  {
   "cell_type": "code",
   "execution_count": 11,
   "id": "c12d38a0-941c-44a6-b38a-29c89b489632",
   "metadata": {},
   "outputs": [
    {
     "name": "stdin",
     "output_type": "stream",
     "text": [
      "Enter the number: 90\n"
     ]
    },
    {
     "name": "stdout",
     "output_type": "stream",
     "text": [
      "Correct\n"
     ]
    }
   ],
   "source": [
    "#Using Operator\n",
    "num = int(input('Enter the number:'))\n",
    "if num > 50 and num < 150:\n",
    "    print('Correct')\n",
    "else:\n",
    "    print('C\\Incorrect')"
   ]
  },
  {
   "cell_type": "code",
   "execution_count": 12,
   "id": "6b0bce89-f9c8-4b2c-a39a-7426611149bc",
   "metadata": {},
   "outputs": [
    {
     "name": "stdin",
     "output_type": "stream",
     "text": [
      "Enter the Purchase Cost: 100\n",
      "Enter the Selling Cost: 300\n"
     ]
    },
    {
     "name": "stdout",
     "output_type": "stream",
     "text": [
      "Profit 200\n"
     ]
    }
   ],
   "source": [
    "# read selling cost and purchase cost\n",
    "# find profit or loss and how much?\n",
    "Purchase_cost = int(input('Enter the Purchase Cost:'))\n",
    "Selling_cost = int(input('Enter the Selling Cost:'))\n",
    "\n",
    "if  Selling_cost > Purchase_cost:\n",
    "    print('Profit', Selling_cost - Purchase_cost)\n",
    "else:\n",
    "    print('loss', Purchase_cost - Selling_cost)  "
   ]
  },
  {
   "cell_type": "code",
   "execution_count": 13,
   "id": "3b2adc93-d282-4cc3-a81d-ca32d1e73bf1",
   "metadata": {},
   "outputs": [
    {
     "name": "stdin",
     "output_type": "stream",
     "text": [
      "Enter the 1st number: 23\n",
      "Enter the 2nd number: 90\n",
      "Enter the 3rd number: 12\n"
     ]
    },
    {
     "name": "stdout",
     "output_type": "stream",
     "text": [
      "Largest is num2 90\n"
     ]
    }
   ],
   "source": [
    "#find the largest  of 3 numbers\n",
    "#'and','or'\n",
    "num1 = int(input('Enter the 1st number:'))\n",
    "num2 = int(input('Enter the 2nd number:'))\n",
    "num3 = int(input('Enter the 3rd number:'))\n",
    "if num1 > num2:\n",
    "    if num1 > num3:\n",
    "        print('Largest is num1', num1)\n",
    "    else:\n",
    "        print('Largest is num3', num3)\n",
    "else:\n",
    "    if num2 > num3:\n",
    "        print('Largest is num2', num2)\n",
    "    else:\n",
    "        print(\"Largest is num3\",num3)"
   ]
  },
  {
   "cell_type": "code",
   "execution_count": 14,
   "id": "cdbaa06a-dc0b-47a8-891f-e4d18e7dba47",
   "metadata": {},
   "outputs": [
    {
     "name": "stdin",
     "output_type": "stream",
     "text": [
      "Enter Year: 2020\n"
     ]
    },
    {
     "name": "stdout",
     "output_type": "stream",
     "text": [
      "Leap Year 2020\n"
     ]
    }
   ],
   "source": [
    "#2020 => Leap Year\n",
    "#2018 => Not Leap\n",
    "#2000 => leap\n",
    "#1800 => Not leap => century year\n",
    "\n",
    "year = int(input('Enter Year:'))\n",
    "\n",
    "if year % 4 == 0:\n",
    "    if year % 100 == 0:\n",
    "         if year % 400 == 0:\n",
    "             print('Leap Century Year')\n",
    "         else:\n",
    "            print('Century but not Leap Year')\n",
    "    else:\n",
    "        print('Leap Year', year)\n",
    "else:\n",
    "    print('Not leap year')"
   ]
  },
  {
   "cell_type": "code",
   "execution_count": 15,
   "id": "0cd9491b-a7f9-4dc0-aa8b-6c55b2c53845",
   "metadata": {},
   "outputs": [
    {
     "name": "stdin",
     "output_type": "stream",
     "text": [
      "Enter Marks of Physics: 89\n",
      "Enter Marks of Chemistry 78\n",
      "Enter Marks of Biology: 88\n",
      "Enter Marks of Mathematics: 90\n",
      "Enter Marks of computer: 78\n"
     ]
    },
    {
     "name": "stdout",
     "output_type": "stream",
     "text": [
      "Grade B\n"
     ]
    }
   ],
   "source": [
    "'''\n",
    "Write a Python program to input marks of five subjects \n",
    "Physics, Chemistry, Biology, Mathematics and Computer. \n",
    "Calculate percentage and grade according to following:\n",
    "Percentage >= 90% : Grade A\n",
    "Percentage >= 80% : Grade B\n",
    "Percentage >= 70% : Grade C\n",
    "Percentage >= 60% : Grade D\n",
    "Percentage >= 40% : Grade E\n",
    "Percentage  < 40% : Grade F\n",
    "'''\n",
    "Phy = float(input('Enter Marks of Physics:'))\n",
    "Chem = float(input('Enter Marks of Chemistry'))\n",
    "Bio = float(input('Enter Marks of Biology:'))\n",
    "Math = float(input('Enter Marks of Mathematics:'))\n",
    "Comp = float(input('Enter Marks of computer:'))\n",
    "per = ((Phy+Chem+Bio+Math+Comp)/500)*100\n",
    "if per >= 90:\n",
    "    print('Grade A')\n",
    "elif per >=80:\n",
    "    print('Grade B')\n",
    "elif per >=70:\n",
    "    print('Grade C')\n",
    "elif per >=60:\n",
    "    print('Grade D')\n",
    "elif per >=40:\n",
    "    print('Grade E')\n",
    "else:\n",
    "    print('Grade F')"
   ]
  },
  {
   "cell_type": "code",
   "execution_count": 16,
   "id": "0c62fd82-66a5-4d5e-9656-6d10deac87e9",
   "metadata": {},
   "outputs": [
    {
     "name": "stdin",
     "output_type": "stream",
     "text": [
      "Enter the number: 23\n"
     ]
    },
    {
     "name": "stdout",
     "output_type": "stream",
     "text": [
      "MENU\n",
      "1.Square\n",
      "2.Cube\n",
      "3.Check +ve or -ve\n"
     ]
    },
    {
     "name": "stdin",
     "output_type": "stream",
     "text": [
      "Enter your choice: 2\n"
     ]
    },
    {
     "name": "stdout",
     "output_type": "stream",
     "text": [
      "Cube is 12167\n"
     ]
    }
   ],
   "source": [
    "#Menu driven\n",
    "'''\n",
    "take a number and based on the choice perform \n",
    "1.Square, 2.Cube and 3.Check positive or negative\n",
    "'''\n",
    "\n",
    "num = int(input('Enter the number:'))\n",
    "print(\"MENU\\n1.Square\\n2.Cube\\n3.Check +ve or -ve\")\n",
    "choice = int(input('Enter your choice:'))\n",
    "if choice ==1:\n",
    "    print('Square is',num*num)\n",
    "elif choice ==2:\n",
    "    print('Cube is',num**3)\n",
    "elif choice ==3:\n",
    "    if num >0:\n",
    "        print('Positive')\n",
    "    else:\n",
    "        print('negative')\n",
    "else:\n",
    "    print(\"OOPS! you must've forgotten ur specs or brain\")"
   ]
  },
  {
   "cell_type": "code",
   "execution_count": 17,
   "id": "b5a1108f-b04b-4b44-bb59-f842a6c9786e",
   "metadata": {},
   "outputs": [
    {
     "name": "stdin",
     "output_type": "stream",
     "text": [
      "Enter the 1st number: 12\n",
      "Enter the 2nd number: 90\n"
     ]
    },
    {
     "name": "stdout",
     "output_type": "stream",
     "text": [
      "MENU\n",
      "1.Addition\n",
      "2.floor div\n",
      "3.check +ve or -ve\n"
     ]
    },
    {
     "name": "stdin",
     "output_type": "stream",
     "text": [
      "Enter your choice: 1\n"
     ]
    },
    {
     "name": "stdout",
     "output_type": "stream",
     "text": [
      "Addition= 113\n"
     ]
    }
   ],
   "source": [
    "'''\n",
    "take 2 numbers and based on the choice perform\n",
    "1.Additon, 2.floor div and 3.Check which one is largest\n",
    "'''\n",
    "num1 = int(input('Enter the 1st number:'))\n",
    "num2 = int(input('Enter the 2nd number:'))\n",
    "\n",
    "print(\"MENU\\n1.Addition\\n2.floor div\\n3.check +ve or -ve\")\n",
    "choice = int(input('Enter your choice:'))\n",
    "if choice ==1:\n",
    "    print('Addition=',num+num2)\n",
    "elif choice == 2:\n",
    "    print('Division=',num1/num2)\n",
    "elif choice == 3:\n",
    "    if num1>num2:\n",
    "        print(\"num1 is largest number\")\n",
    "    else:\n",
    "        print(\"num2 is smallest number\")\n",
    "else:\n",
    "    print(\"You enter wrong choice\")"
   ]
  },
  {
   "cell_type": "code",
   "execution_count": null,
   "id": "801801fd-bee2-4a1f-85d6-4e8195bc57a2",
   "metadata": {},
   "outputs": [],
   "source": []
  }
 ],
 "metadata": {
  "kernelspec": {
   "display_name": "Python 3 (ipykernel)",
   "language": "python",
   "name": "python3"
  },
  "language_info": {
   "codemirror_mode": {
    "name": "ipython",
    "version": 3
   },
   "file_extension": ".py",
   "mimetype": "text/x-python",
   "name": "python",
   "nbconvert_exporter": "python",
   "pygments_lexer": "ipython3",
   "version": "3.11.7"
  }
 },
 "nbformat": 4,
 "nbformat_minor": 5
}
