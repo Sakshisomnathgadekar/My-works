{
 "cells": [
  {
   "cell_type": "code",
   "execution_count": 93,
   "id": "0caeeca1-54f5-4b8b-89d2-d2028c332705",
   "metadata": {},
   "outputs": [],
   "source": [
    "##GUI application"
   ]
  },
  {
   "cell_type": "code",
   "execution_count": 58,
   "id": "734e8183-4100-49f9-a0a3-c6e7d0c57bed",
   "metadata": {},
   "outputs": [],
   "source": [
    "import tkinter as tk\n",
    "from tkinter.ttk import *\n",
    "from tkinter import scrolledtext\n",
    "from tkinter import BooleanVar\n",
    "from tkinter import messagebox"
   ]
  },
  {
   "cell_type": "code",
   "execution_count": 45,
   "id": "e499c317-e922-4150-9664-75abde06e3cf",
   "metadata": {},
   "outputs": [],
   "source": [
    "top = tk.Tk()\n",
    "\n",
    "top.title('My application')\n",
    "top.geometry('700x500')\n",
    "\n",
    "def dis():\n",
    "    lab = tk.Label(top, text = 'OPPS!!!!').place(x = 200, y = 200)\n",
    "    messagebox.showinfo('MESSAGE','OPPS')\n",
    "\n",
    "'''b1 = tk.Button(top, text = 'Click me!!!',bg= 'Yellow').pack()\n",
    "e1 = tk.Entry(top).pack()\n",
    "t1 = tk.Text(top).pack()\n",
    "''';\n",
    "\n",
    "'''b1 = tk.Button(top, text = 'Click me!!!',bg= 'Yellow').grid(column = 0, row = 0)\n",
    "e1 = tk.Entry(top).grid(column = 1, row = 0)\n",
    "t1 = tk.Text(top).grid(column = 2, row = 2)\n",
    "''';\n",
    "\n",
    "b1 = tk.Button(top, text = 'Click me!!!',bg= 'Yellow', command =dis).place(x = 100, y =180 )\n",
    "e1 = tk.Entry(top).place(x =100, y = 100)\n",
    "t1 = tk.Text(top).place(x = 100, y= 200)\n",
    "\n",
    "##combo box\n",
    "combo = Combobox(top)\n",
    "combo['value'] = [1,2,3,4,5,next]\n",
    "combo.current(2)\n",
    "combo.place(x = 20, y= 50)\n",
    "\n",
    "##Check button\n",
    "ch = tk.BooleanVar()\n",
    "ch.set(True)\n",
    "cb = tk.Checkbutton(top, text = 'DONE', var = ch, font = ('Ariel bold',20),cursor = 'hand2').grid(column = 3, row = 3)\n",
    "\n",
    "##SCROLLED TEXT\n",
    "\n",
    "txt = scrolledtext.ScrolledText(top, width = 30, height = 10).grid(column = 2, row = 2)\n",
    "\n",
    "\n",
    "top.mainloop()"
   ]
  },
  {
   "cell_type": "code",
   "execution_count": 23,
   "id": "ca40fae5-7ba1-4fee-ba87-c11164dd6b41",
   "metadata": {},
   "outputs": [],
   "source": [
    "top = tk.Tk()\n",
    "\n",
    "top.title('My application')\n",
    "top.geometry('700x500')\n",
    "\n",
    "b1 = tk.Button(top, text = 'Click me!!!',bg= 'Yellow').pack(side = 'bottom')\n",
    "\n",
    "top.mainloop()"
   ]
  },
  {
   "cell_type": "code",
   "execution_count": 60,
   "id": "3918ff80-ea52-401d-b81e-aaed6cac1b69",
   "metadata": {},
   "outputs": [],
   "source": [
    "top = tk.Tk()\n",
    "\n",
    "top.title('Square of Number')\n",
    "top.geometry('700x500')\n",
    "\n",
    "data = tk.IntVar()\n",
    "\n",
    "def square():\n",
    "    num = data.get()\n",
    "    result = num * num\n",
    "    messagebox.showinfo('MESSAGE','Square is %i'%result)\n",
    "    \n",
    "    \n",
    "l1 = tk.Label(top, text = 'INPUT').place(x = 50, y = 50)\n",
    "e1 = tk.Entry(top,textvariable = data).place(x = 100, y = 50)\n",
    "b1 = tk.Button(top, text = 'Square', command = square, font = ('Bold' ,14),bg = 'purple',fg = 'yellow').place(x=120,y = 100)\n",
    "\n",
    "\n",
    "\n",
    "top.mainloop()"
   ]
  },
  {
   "cell_type": "code",
   "execution_count": 61,
   "id": "cbca1e9e-9343-488c-81eb-5cbaf7bca015",
   "metadata": {},
   "outputs": [],
   "source": [
    "## take 2 numbers,add,sub,divide,mul"
   ]
  },
  {
   "cell_type": "code",
   "execution_count": 79,
   "id": "e2677718-b885-45f7-a8c6-b3b95ac1cbd6",
   "metadata": {},
   "outputs": [],
   "source": [
    "top = tk.Tk()\n",
    "\n",
    "top.title('Operations on Numbetrs')\n",
    "top.geometry('700x500')\n",
    "\n",
    "data1 = tk.IntVar()\n",
    "data2 = tk.IntVar()\n",
    "\n",
    "def addition():\n",
    "    num1 = data1.get()\n",
    "    num2 = data2.get()\n",
    "    add = num1 + num2\n",
    "    messagebox.showinfo('MESSAGE',' Addition is %i'%add)\n",
    "\n",
    "def subtraction():\n",
    "    num1 = data1.get()\n",
    "    num2 = data2.get()\n",
    "    sub = num1 - num2\n",
    "    messagebox.showinfo('MESSAGE',' Substraction is %i'%sub)\n",
    "\n",
    "def multiplication():\n",
    "    num1 = data1.get()\n",
    "    num2 = data2.get()\n",
    "    mul = num1 * num2\n",
    "    messagebox.showinfo('MESSAGE',' Multiplication is %i'%mul)\n",
    "\n",
    "def division():\n",
    "    num1 = data1.get()\n",
    "    num2 = data2.get()\n",
    "    div = num1 / num2\n",
    "    messagebox.showinfo('MESSAGE','Divisionis %i'%div)\n",
    "\n",
    "l1 = tk.Label(top, text = 'INPUT1').place(x = 50, y = 50)\n",
    "l2 = tk.Label(top, text = 'INPUT2').place(x = 50, y = 70)\n",
    "e1 = tk.Entry(top,textvariable = data1).place(x = 100, y = 50)\n",
    "e2 = tk.Entry(top,textvariable = data2).place(x = 100, y = 70)\n",
    "b1 = tk.Button(top, text = 'Addition', command = addition, font = ('Bold' ,14),bg = 'purple',fg = 'yellow').place(x=120,y = 100)\n",
    "b2= tk.Button(top, text = 'Substraction', command = subtraction, font = ('Bold' ,14),bg = 'purple',fg = 'yellow').place(x=120,y = 150)\n",
    "b3= tk.Button(top, text = 'Multiplication', command = multiplication, font = ('Bold' ,14),bg = 'purple',fg = 'yellow').place(x=120,y = 200)\n",
    "b4= tk.Button(top, text = 'Division', command = division, font = ('Bold' ,14),bg = 'purple',fg = 'yellow').place(x=120,y = 250)\n",
    "\n",
    "\n",
    "    \n",
    "\n",
    "top.mainloop()"
   ]
  },
  {
   "cell_type": "code",
   "execution_count": null,
   "id": "b3624705-ace5-4b94-acf2-10ea9c3ac204",
   "metadata": {},
   "outputs": [],
   "source": []
  },
  {
   "cell_type": "code",
   "execution_count": null,
   "id": "b2d62aca-99de-433d-a029-71c0f47a0c61",
   "metadata": {},
   "outputs": [],
   "source": []
  }
 ],
 "metadata": {
  "kernelspec": {
   "display_name": "Python 3 (ipykernel)",
   "language": "python",
   "name": "python3"
  },
  "language_info": {
   "codemirror_mode": {
    "name": "ipython",
    "version": 3
   },
   "file_extension": ".py",
   "mimetype": "text/x-python",
   "name": "python",
   "nbconvert_exporter": "python",
   "pygments_lexer": "ipython3",
   "version": "3.11.7"
  }
 },
 "nbformat": 4,
 "nbformat_minor": 5
}
