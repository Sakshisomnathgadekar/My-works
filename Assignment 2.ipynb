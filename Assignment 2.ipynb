{
 "cells": [
  {
   "cell_type": "code",
   "execution_count": 1,
   "id": "82427390-cc85-41c7-afc3-7705c95927ac",
   "metadata": {},
   "outputs": [],
   "source": [
    "'''Create a package named ‘cricket’ which will contain modules named\n",
    "batsman and bowler. Create following functions in respective modules.\n",
    "Import the package and call all these functions in your program\n",
    "batsman: findaverage(runs,matches), strikerate(runs,balls)\n",
    "bowler: findavg(runs,wickets), economyrate(overs, runs)\n",
    "''';"
   ]
  },
  {
   "cell_type": "code",
   "execution_count": 9,
   "id": "213eab00-c036-4728-b5d4-8781c8a5904e",
   "metadata": {},
   "outputs": [
    {
     "name": "stdout",
     "output_type": "stream",
     "text": [
      "average of Batting is = 49.0\n",
      "Strike Rate is = 192.30769230769232\n"
     ]
    }
   ],
   "source": [
    "import bat\n",
    "bat.find_avg(98,2)\n",
    "bat.strike_rate(150,78)"
   ]
  },
  {
   "cell_type": "code",
   "execution_count": 14,
   "id": "4820fd28-131a-4a6d-9f6a-3ab5197bed4d",
   "metadata": {},
   "outputs": [
    {
     "name": "stdout",
     "output_type": "stream",
     "text": [
      "Economy  Rate is =  9.75\n"
     ]
    }
   ],
   "source": [
    "import bowler\n",
    "bowler. economy_rate(4,39)"
   ]
  },
  {
   "cell_type": "code",
   "execution_count": 2,
   "id": "8da92ca1-a01d-4ca9-982e-d178d5c3d52b",
   "metadata": {},
   "outputs": [],
   "source": [
    "'''Write a Python function to find whether the number if prime or not.\n",
    "def isPrime(num)\n",
    "''';"
   ]
  },
  {
   "cell_type": "code",
   "execution_count": 16,
   "id": "2c74e0af-7207-440e-b25f-956c811ca1e8",
   "metadata": {},
   "outputs": [],
   "source": [
    "def isPrime (num):\n",
    "  if num > 1:\n",
    "    for i in range(2, (num//2)+1):\n",
    "      if(num % i) == 0:\n",
    "        print('Given number is not prime:', num)\n",
    "        break\n",
    "      else:\n",
    "        print('Given number is prime:', num)\n",
    "        break\n",
    "  else:\n",
    "    print('Number is not prime:', num)\n",
    "        "
   ]
  },
  {
   "cell_type": "code",
   "execution_count": 21,
   "id": "ac4be280-0049-471a-9b52-c58bcf4a6bda",
   "metadata": {},
   "outputs": [
    {
     "name": "stdin",
     "output_type": "stream",
     "text": [
      "Enter a Number: 4\n"
     ]
    },
    {
     "name": "stdout",
     "output_type": "stream",
     "text": [
      "Given number is not prime: 4\n"
     ]
    }
   ],
   "source": [
    "num = int(input('Enter a Number:'))\n",
    "isPrime(num)"
   ]
  },
  {
   "cell_type": "code",
   "execution_count": 22,
   "id": "878cb2c4-8ef1-4853-a45a-9cb6e0460fed",
   "metadata": {},
   "outputs": [],
   "source": [
    "'''Write a function is_palindrome(string) that takes a string as input and returns\n",
    "True if the string reads the same backward as forward (e.g., \"racecar\" is a palindrome).\n",
    "''';"
   ]
  },
  {
   "cell_type": "code",
   "execution_count": 29,
   "id": "6a803e02-f80e-438a-98f1-443dc91815c2",
   "metadata": {},
   "outputs": [],
   "source": [
    "def is_Palindrome(string): \n",
    "    if string == string[::-1]: \n",
    "        return \"True Number is Palindrome\"\n",
    "    else:\n",
    "        return \"False Number is not Palindrome\"\n"
   ]
  },
  {
   "cell_type": "code",
   "execution_count": 32,
   "id": "bc3f1e6e-b285-4e87-8904-1fcf1a87f9a1",
   "metadata": {},
   "outputs": [
    {
     "name": "stdin",
     "output_type": "stream",
     "text": [
      "Enter string:  nayan\n"
     ]
    },
    {
     "data": {
      "text/plain": [
       "'True Number is Palindrome'"
      ]
     },
     "execution_count": 32,
     "metadata": {},
     "output_type": "execute_result"
    }
   ],
   "source": [
    "string =input(\"Enter string: \") \n",
    "is_Palindrome(string)"
   ]
  },
  {
   "cell_type": "code",
   "execution_count": 33,
   "id": "7ab79f11-1c6d-43cf-b44f-743321b921fe",
   "metadata": {},
   "outputs": [],
   "source": [
    "'''Write a function reverse_list(data) that takes a list as input and returns a new list\n",
    "with the elements in reverse order (e.g., reverse_list([1, 2, 3]) returns [3, 2, 1]).\n",
    "''';"
   ]
  },
  {
   "cell_type": "code",
   "execution_count": 40,
   "id": "ee7774cc-c375-481b-bdea-30962c8cdd42",
   "metadata": {},
   "outputs": [],
   "source": [
    "def reverse_list(data):\n",
    "   new_lst = data[::-1]\n",
    "   return new_lst"
   ]
  },
  {
   "cell_type": "code",
   "execution_count": 41,
   "id": "4d791895-7277-412a-8f06-7f6a27d65e5e",
   "metadata": {},
   "outputs": [
    {
     "name": "stdout",
     "output_type": "stream",
     "text": [
      "[15, 14, 13, 12, 11, 10]\n"
     ]
    }
   ],
   "source": [
    "data = [10, 11, 12, 13, 14, 15]\n",
    "print(reverse_list(data))"
   ]
  },
  {
   "cell_type": "code",
   "execution_count": 47,
   "id": "6362df73-d281-4091-a7ca-90c2449242a4",
   "metadata": {},
   "outputs": [],
   "source": [
    "'''Write a function write_file(filename, content) that takes a filename and\n",
    "content as input and writes the content to the specified file.\n",
    "''';"
   ]
  },
  {
   "cell_type": "code",
   "execution_count": 2,
   "id": "fc7fbbbd-dce3-43f8-ae12-ac97fd01d61c",
   "metadata": {},
   "outputs": [
    {
     "name": "stdin",
     "output_type": "stream",
     "text": [
      "Enter File NAme to access its Content test1.txt\n"
     ]
    }
   ],
   "source": [
    "def write_file(filename, content):\n",
    "    with open(filename, 'w') as file:\n",
    "        file.write(content)\n",
    "\n",
    "filename = str(input(\"Enter File NAme to access its Content\"))\n",
    "with open(filename, 'r') as f:\n",
    "    content = f.read()\n",
    "\n",
    "write_file(filename,content)\n",
    "    "
   ]
  },
  {
   "cell_type": "code",
   "execution_count": 3,
   "id": "624c5890-5ddc-453b-95fb-b8002af5daec",
   "metadata": {},
   "outputs": [],
   "source": [
    "''' Write a function copy_file(source_filename, destination_filename) that\n",
    " takes the source and destination filenames as input and copies the content of the source\n",
    " file to the destination file. Handle cases where the source file doesn't exist\n",
    " ''';"
   ]
  },
  {
   "cell_type": "code",
   "execution_count": 8,
   "id": "7c144345-04ea-420f-9f11-9a986972b29e",
   "metadata": {},
   "outputs": [
    {
     "name": "stdin",
     "output_type": "stream",
     "text": [
      "Enter Source file name: maha.txt\n",
      "Enter Destination File name: test1.txt\n"
     ]
    }
   ],
   "source": [
    "def copy_file(source_file,dest_file):\n",
    "    try:\n",
    "        with open (source_file, 'r') as f:\n",
    "            with open(dest_file, 'w') as w:\n",
    "                content = f.read()\n",
    "                w.write(content)\n",
    "    except FileNotFoundError:\n",
    "        print(\"File is Not Present\")\n",
    "\n",
    "source_file = str(input(\"Enter Source file name:\"))\n",
    "dest_file  = str(input(\"Enter Destination File name:\"))\n",
    "copy_file(source_file,dest_file)\n",
    "        "
   ]
  },
  {
   "cell_type": "code",
   "execution_count": 43,
   "id": "943547cf-9e40-48d1-b3eb-3e3632b73fd4",
   "metadata": {},
   "outputs": [],
   "source": [
    "'''Implement a function to calculate the dot product of two NumPy arrays.\n",
    "''';"
   ]
  },
  {
   "cell_type": "code",
   "execution_count": 44,
   "id": "b0cd26a4-9c42-433e-b1f1-bb7b30b02df1",
   "metadata": {},
   "outputs": [
    {
     "name": "stdout",
     "output_type": "stream",
     "text": [
      "Dot product: -13\n"
     ]
    }
   ],
   "source": [
    "import numpy as np\n",
    "\n",
    "a = np.array([2, -5])\n",
    "b = np.array([1, 3])\n",
    "\n",
    "dot_product = np.dot(a, b)\n",
    "\n",
    "print(\"Dot product:\", dot_product)"
   ]
  },
  {
   "cell_type": "code",
   "execution_count": 46,
   "id": "85f7eae5-d00a-41b9-971d-3b95fc1e6c3a",
   "metadata": {},
   "outputs": [],
   "source": [
    "'''Implement a GUI with a radio button selection for choosing a favorite color (e.g., red,\n",
    "green, blue). Change the background color of the window based on the selected radio\n",
    "button.\n",
    "''';"
   ]
  },
  {
   "cell_type": "code",
   "execution_count": 7,
   "id": "0bf21c47-7a0a-4624-aa94-5e1e6bb9c6cb",
   "metadata": {},
   "outputs": [],
   "source": [
    "import tkinter as tk\n",
    "from tkinter.ttk import *\n"
   ]
  },
  {
   "cell_type": "code",
   "execution_count": 9,
   "id": "9d08f965-be91-4ae3-8df3-1100e661ea9e",
   "metadata": {},
   "outputs": [],
   "source": [
    "top = tk.Tk()\n",
    "\n",
    "top.title('GUI Application')\n",
    "top.geometry('700x500')\n",
    "\n",
    "def Radio_colour(color):\n",
    "    top.configure(background=color)\n",
    "\n",
    "colors = {\n",
    "    \"Red\": \"#FF0000\",\n",
    "    \"Green\": \"#00FF00\",\n",
    "    \"Blue\": \"#0000FF\"\n",
    "}\n",
    "\n",
    "for (text, value) in colors.items():\n",
    "    radio1 = tk.Radiobutton(top, text=text, variable=tk.StringVar(), value=value, command=lambda c=value: change_color(c))\n",
    "    radio1.pack(anchor=tk.W)\n",
    "    \n",
    "\n",
    "top.mainloop()"
   ]
  },
  {
   "cell_type": "code",
   "execution_count": 7,
   "id": "62f06aed-c623-46d4-ab23-c4bf1b1d1357",
   "metadata": {},
   "outputs": [],
   "source": [
    "'''Design a currency converter GUI. Allow users to enter an amount and select the\n",
    "currencies they want to convert between (e.g., USD, EUR). Display the converted\n",
    "amount in the selected currency.\n",
    "''';"
   ]
  },
  {
   "cell_type": "code",
   "execution_count": 1,
   "id": "2bb6f894-643d-4933-b167-c6b7207a543b",
   "metadata": {},
   "outputs": [],
   "source": [
    "import tkinter as tk\n",
    "from tkinter import ttk\n",
    "\n",
    "top = tk.Tk()\n",
    "top.title(\"Currency Converter\")\n",
    "\n",
    "\n",
    "def convert_currency():\n",
    "    conversion_rate = 0.85 \n",
    "    amount = float(amount_entry.get())\n",
    "    converted_amount = amount * conversion_rate\n",
    "    converted_amount_label.config(text=f\"Converted Amount: {converted_amount:.2f}\")\n",
    "\n",
    "tk.Label(top, text=\"Enter Amount:\",bg= 'Yellow').place(x =60,y=80)\n",
    "amount_entry = tk.Entry(top)\n",
    "amount_entry.place(x=150, y =80)\n",
    "\n",
    "tk.Label(top, text=\"From Currency:\",bg= 'Yellow').place(x = 60,y = 120)\n",
    "from_currency = ttk.Combobox(top, values=[\"USD\", \"EUR\"])\n",
    "from_currency.place(x = 150,y = 120)\n",
    "from_currency.set(\"USD\")\n",
    "\n",
    "tk.Label(top, text=\"To Currency:\",bg= 'Yellow').place(x = 60 , y = 150)\n",
    "to_currency = ttk.Combobox(top, values=[\"USD\", \"EUR\"])\n",
    "to_currency.place(x = 150 , y = 150)\n",
    "to_currency.set(\"EUR\")\n",
    "\n",
    "convert_button = tk.Button(top, text=\"Convert\", command=convert_currency,bg ='Purple')\n",
    "convert_button.place(x = 180 , y = 190)\n",
    "\n",
    "converted_amount_label = tk.Label(top, text=\"Converted Amount:\")\n",
    "converted_amount_label.place(x = 180 , y = 220)\n",
    "\n",
    "top.mainloop()"
   ]
  },
  {
   "cell_type": "code",
   "execution_count": null,
   "id": "d0c7f7c8-cba6-4410-84e3-2dfed86a15a9",
   "metadata": {},
   "outputs": [],
   "source": []
  },
  {
   "cell_type": "code",
   "execution_count": 12,
   "id": "a68f0910-ecf2-4e20-85a5-c34f3ad4b76d",
   "metadata": {},
   "outputs": [],
   "source": []
  },
  {
   "cell_type": "code",
   "execution_count": null,
   "id": "e203dcad-81b0-481d-b742-10395967dcc9",
   "metadata": {},
   "outputs": [],
   "source": []
  },
  {
   "cell_type": "code",
   "execution_count": null,
   "id": "bea92004-7d8a-4a6a-8a82-df5b1c180993",
   "metadata": {},
   "outputs": [],
   "source": []
  }
 ],
 "metadata": {
  "kernelspec": {
   "display_name": "Python 3 (ipykernel)",
   "language": "python",
   "name": "python3"
  },
  "language_info": {
   "codemirror_mode": {
    "name": "ipython",
    "version": 3
   },
   "file_extension": ".py",
   "mimetype": "text/x-python",
   "name": "python",
   "nbconvert_exporter": "python",
   "pygments_lexer": "ipython3",
   "version": "3.11.7"
  }
 },
 "nbformat": 4,
 "nbformat_minor": 5
}
