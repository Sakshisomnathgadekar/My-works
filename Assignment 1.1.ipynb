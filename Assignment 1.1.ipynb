{
 "cells": [
  {
   "cell_type": "code",
   "execution_count": null,
   "id": "83710304-1830-47ff-81e1-f8a8d22bc531",
   "metadata": {},
   "outputs": [],
   "source": [
    "'''\n",
    "Write a program to convert specified days into years, weeks and days.\n",
    "Take user input.\n",
    "Note: Ignore leap year\n",
    "''';"
   ]
  },
  {
   "cell_type": "code",
   "execution_count": 53,
   "id": "212782d9-ad62-4131-9c8e-ba27cc3cdca5",
   "metadata": {},
   "outputs": [
    {
     "name": "stdin",
     "output_type": "stream",
     "text": [
      "Enter the number of Days: 2020\n"
     ]
    },
    {
     "name": "stdout",
     "output_type": "stream",
     "text": [
      "Conversion is 5 : 288 : 2020\n"
     ]
    }
   ],
   "source": [
    "\n",
    "\n",
    "days = int(input('Enter the number of Days:'))\n",
    "Years = days // 365\n",
    "weeks = days // 7\n",
    "rem_days = days //365\n",
    "rem_weeks = days //4\n",
    "print('Conversion is', Years,':',weeks,':',days)"
   ]
  },
  {
   "cell_type": "code",
   "execution_count": null,
   "id": "1fef6f13-e3bb-4edd-a576-48b12c524e00",
   "metadata": {},
   "outputs": [],
   "source": [
    "'''\n",
    "Write a python program to input basic Python salary of an employee and \n",
    "calculate its Gross salary according to following:\n",
    "Basic Salary <= 10000: HRA = 20%, DA = 80%\n",
    "Basic Salary <= 20000: HRA = 30%, DA = 90%\n",
    "Basic Salary  > 20000: HRA = 35%, DA = 95%\n",
    "'''"
   ]
  },
  {
   "cell_type": "code",
   "execution_count": 62,
   "id": "c0db3f6d-5906-4990-b4ea-1eabc1a42b59",
   "metadata": {},
   "outputs": [
    {
     "ename": "IndentationError",
     "evalue": "unindent does not match any outer indentation level (<tokenize>, line 14)",
     "output_type": "error",
     "traceback": [
      "\u001b[1;36m  File \u001b[1;32m<tokenize>:14\u001b[1;36m\u001b[0m\n\u001b[1;33m    Gross_Salary = Basic_Salary + HRA + DA\u001b[0m\n\u001b[1;37m    ^\u001b[0m\n\u001b[1;31mIndentationError\u001b[0m\u001b[1;31m:\u001b[0m unindent does not match any outer indentation level\n"
     ]
    }
   ],
   "source": [
    "Basic_Salary= int(input('enter Salary:'))\n",
    "        if Basic_Salary <=10000:\n",
    "                  HRA = (20/100)*Basic_Salary\n",
    "                  DA = (80/100)*Basic_Salary\n",
    "\n",
    "        elif Basic_Salary <=20000:\n",
    "                  HRA = (25/100)*Basic_Salary\n",
    "                  DA = (90/100)*Basic_Salary\n",
    "\n",
    "        elif Basic_Salary > 20000:\n",
    "                  HRA = (30/100)*Basic_Salary\n",
    "                  DA = (95/100)*Basic_Salary\n",
    "            \n",
    "           Gross_Salary = Basic_Salary + HRA + DA\n",
    "            print(\"Dearness Allowance of Basic Salary\", DA)\n",
    "            print(\"House Rent of Basic Salary\", HRA)\n",
    "            print(\"Gross Salary\", Gross_Salary) "
   ]
  },
  {
   "cell_type": "code",
   "execution_count": null,
   "id": "30df231d-55c0-41c5-a8ae-d68de8f7b99c",
   "metadata": {},
   "outputs": [],
   "source": [
    "'''\n",
    "Write python programme to input electricity unit charges and \n",
    "calculate total electricity bill according to the given condition:\n",
    "For first 50 units Rs. 0.50/unit\n",
    "For next 100 units Rs. 0.75/unit\n",
    "For next 100 units Rs. 1.25/unit\n",
    "For above unit 250 Rs. 1.50/unit\n",
    "An additional surcharge of 17% is added to the bill\n",
    "'''"
   ]
  },
  {
   "cell_type": "code",
   "execution_count": 2,
   "id": "db67ad82-4a1d-41f3-bd77-6b4e35e1b754",
   "metadata": {},
   "outputs": [
    {
     "name": "stdin",
     "output_type": "stream",
     "text": [
      "Enter the number of units: 300\n"
     ]
    },
    {
     "name": "stdout",
     "output_type": "stream",
     "text": [
      "Cost to be paid is: 3097.0588235294117\n"
     ]
    }
   ],
   "source": [
    "\n",
    "units=int(input('Enter the number of units:'))\n",
    "if units <= 50:\n",
    "    cost = 0.50*units\n",
    "    print('Cost to be paid is:',cost)\n",
    "elif units >= 50 and units <= 150:\n",
    "    cost = 0.75*units\n",
    "    print('Cost to be paid is:',cost)\n",
    "elif units >= 150 and units <=200:\n",
    "    cost = 1.25*units\n",
    "    print('Cost to be paid is:',cost)\n",
    "else:\n",
    "    if units > 250:\n",
    "        cost = units*1.50\n",
    "        extra_charge =(cost / 17)*100\n",
    "        Total_Bill = cost+extra_charge\n",
    "        print('Cost to be paid is:',Total_Bill)"
   ]
  },
  {
   "cell_type": "code",
   "execution_count": null,
   "id": "378ea43e-59d1-4aea-8066-dede581dcd2c",
   "metadata": {},
   "outputs": [],
   "source": [
    "'''\n",
    "Write a Python program to print the given number patterns.\n",
    "1\n",
    "2 2\n",
    "3 3 3\n",
    "4 4 4 4\n",
    "5 5 5 5 5\n",
    "'''"
   ]
  },
  {
   "cell_type": "code",
   "execution_count": 3,
   "id": "6fe4d98e-f5f1-40c8-97dc-a0889635722b",
   "metadata": {},
   "outputs": [
    {
     "name": "stdin",
     "output_type": "stream",
     "text": [
      "Enter the number of rows: 5\n"
     ]
    },
    {
     "name": "stdout",
     "output_type": "stream",
     "text": [
      "1 \n",
      "2 2 \n",
      "3 3 3 \n",
      "4 4 4 4 \n",
      "5 5 5 5 5 \n"
     ]
    }
   ],
   "source": [
    "row=int(input('Enter the number of rows:'))\n",
    "\n",
    "for i in range(row):\n",
    "    for j in range(i+1): \n",
    "        print(i+1,end=' ')\n",
    "    print()"
   ]
  },
  {
   "cell_type": "code",
   "execution_count": null,
   "id": "29b20e32-6977-4f92-9980-6108177894b2",
   "metadata": {},
   "outputs": [],
   "source": [
    "'''\n",
    "Write a python program to calculate product of digits of a number.\n",
    "Read value of n from user.\n",
    "'''"
   ]
  },
  {
   "cell_type": "code",
   "execution_count": 6,
   "id": "0a0e2e0f-5ed8-421d-8bdd-5c55169433e6",
   "metadata": {},
   "outputs": [
    {
     "name": "stdin",
     "output_type": "stream",
     "text": [
      "Enter the number: 12\n"
     ]
    },
    {
     "name": "stdout",
     "output_type": "stream",
     "text": [
      "Product of digits is: 2\n"
     ]
    }
   ],
   "source": [
    "num =int(input('Enter the number:'))\n",
    "Pro = 1\n",
    "while num > 1:\n",
    "    rem = num % 10\n",
    "    Pro = Pro * rem\n",
    "    num = num // 10\n",
    "print('Product of digits is:',Pro)"
   ]
  },
  {
   "cell_type": "code",
   "execution_count": 8,
   "id": "019568fe-11fa-4fd6-87e3-7be83cadcb41",
   "metadata": {},
   "outputs": [
    {
     "data": {
      "text/plain": [
       "[45, 67, 12, 'Hello', 23.45, 'World']"
      ]
     },
     "execution_count": 8,
     "metadata": {},
     "output_type": "execute_result"
    }
   ],
   "source": [
    "'''\n",
    "Create a list of elements like: x = [45,67,12,'Hello',23.45,'World'] and\n",
    "perform following operations\n",
    "1. Extract only string values from this list.\n",
    "2. Create a new list with strings in upper case.\n",
    "3. Find the addition of integer values.\n",
    "4. Check that the value 56 is present in it or not.\n",
    "5. Print the list in reverse order.\n",
    "6. Delete the string 'Hello' from it.\n",
    "7. Insert a new value of 36 at 5th position in list.\n",
    "8. Count total number of elements in list now.\n",
    "9. Extract the values from 2nd index to 5th index.\n",
    "10. Append[34,'Pune'] to this list.\n",
    "11. Delete the last element from list.\n",
    "'''\n",
    "x = [45,67,12,'Hello',23.45,'World']\n",
    "x"
   ]
  },
  {
   "cell_type": "code",
   "execution_count": 9,
   "id": "2fbbccef-b2d8-4cad-9385-e09c952b6f8f",
   "metadata": {},
   "outputs": [
    {
     "data": {
      "text/plain": [
       "('Hello', 'World')"
      ]
     },
     "execution_count": 9,
     "metadata": {},
     "output_type": "execute_result"
    }
   ],
   "source": [
    "###Extract only string values from this list.\n",
    "x[3],x[5]"
   ]
  },
  {
   "cell_type": "code",
   "execution_count": 10,
   "id": "510279ad-a6cd-465c-8931-4cb2d318a52b",
   "metadata": {},
   "outputs": [
    {
     "name": "stdout",
     "output_type": "stream",
     "text": [
      "['Hello', 'World']\n"
     ]
    }
   ],
   "source": [
    "str = [i for i in x if isinstance(i,str)]\n",
    "print(str)"
   ]
  },
  {
   "cell_type": "code",
   "execution_count": 12,
   "id": "75f55e9f-5541-42bd-b0c7-c9cdc08296b7",
   "metadata": {},
   "outputs": [
    {
     "data": {
      "text/plain": [
       "['Sakshi', 'Sai', 'Yashraj', 'Shivraj', 'Aditya']"
      ]
     },
     "execution_count": 12,
     "metadata": {},
     "output_type": "execute_result"
    }
   ],
   "source": [
    "###Create a new list with strings in upper case.\n",
    "\n",
    "names =  ['Sakshi','Sai','Yashraj','Shivraj','Aditya',]\n",
    "names"
   ]
  },
  {
   "cell_type": "code",
   "execution_count": 13,
   "id": "4fea8ed2-c939-48c1-8899-6ce9d096b20f",
   "metadata": {},
   "outputs": [
    {
     "data": {
      "text/plain": [
       "['SAKSHI', 'SAI', 'YASHRAJ', 'SHIVRAJ', 'ADITYA']"
      ]
     },
     "execution_count": 13,
     "metadata": {},
     "output_type": "execute_result"
    }
   ],
   "source": [
    "[n.upper() for n in names]"
   ]
  },
  {
   "cell_type": "code",
   "execution_count": 14,
   "id": "85d9c245-26b9-4739-9b2c-2ab54d4e3042",
   "metadata": {},
   "outputs": [
    {
     "name": "stdout",
     "output_type": "stream",
     "text": [
      "Sum of integer values: 45\n",
      "Sum of integer values: 112\n",
      "Sum of integer values: 124\n"
     ]
    }
   ],
   "source": [
    "### Find the addition of integer values.\n",
    "x = [45,67,12,'Hello',23.45,'World']\n",
    "sum = 0\n",
    "for i in x:\n",
    "    if isinstance(i,int):\n",
    "        sum += i\n",
    "        print('Sum of integer values:',sum)"
   ]
  },
  {
   "cell_type": "code",
   "execution_count": 15,
   "id": "7ecbd8b7-34e2-4a5a-a0b4-707a1f88cdca",
   "metadata": {},
   "outputs": [
    {
     "data": {
      "text/plain": [
       "False"
      ]
     },
     "execution_count": 15,
     "metadata": {},
     "output_type": "execute_result"
    }
   ],
   "source": [
    "### Check that the value 56 is present in it or not.\n",
    "56 in x"
   ]
  },
  {
   "cell_type": "code",
   "execution_count": 16,
   "id": "fc717050-5fbd-4e30-92fb-d0d34f6d4f4f",
   "metadata": {},
   "outputs": [
    {
     "data": {
      "text/plain": [
       "[45, 67, 12, 'Hello', 23.45, 'World']"
      ]
     },
     "execution_count": 16,
     "metadata": {},
     "output_type": "execute_result"
    }
   ],
   "source": [
    "###Print the list in reverse order.\n",
    "x"
   ]
  },
  {
   "cell_type": "code",
   "execution_count": 17,
   "id": "6760ae73-edc9-4816-9e3f-f48813889608",
   "metadata": {},
   "outputs": [],
   "source": [
    "x.reverse()"
   ]
  },
  {
   "cell_type": "code",
   "execution_count": 18,
   "id": "29939727-bc62-4ff6-b591-95df8b20cf56",
   "metadata": {},
   "outputs": [
    {
     "data": {
      "text/plain": [
       "['World', 23.45, 'Hello', 12, 67, 45]"
      ]
     },
     "execution_count": 18,
     "metadata": {},
     "output_type": "execute_result"
    }
   ],
   "source": [
    "x"
   ]
  },
  {
   "cell_type": "code",
   "execution_count": 19,
   "id": "00ecf615-9360-4bb1-a462-083076ccff9f",
   "metadata": {},
   "outputs": [],
   "source": [
    "### Delete the string 'Hello' from it.\n",
    "x.remove('Hello')"
   ]
  },
  {
   "cell_type": "code",
   "execution_count": 20,
   "id": "c7bfcc55-3238-4bc4-9055-8842a054e5a9",
   "metadata": {},
   "outputs": [
    {
     "data": {
      "text/plain": [
       "['World', 23.45, 12, 67, 45]"
      ]
     },
     "execution_count": 20,
     "metadata": {},
     "output_type": "execute_result"
    }
   ],
   "source": [
    "x"
   ]
  },
  {
   "cell_type": "code",
   "execution_count": 21,
   "id": "9c26c357-57f9-46f7-a522-561b5c23c5a5",
   "metadata": {},
   "outputs": [],
   "source": [
    "###Insert a new value of 36 at 5th position in list.\n",
    "x.insert(5,36)"
   ]
  },
  {
   "cell_type": "code",
   "execution_count": 22,
   "id": "066574c2-a972-421c-82af-0c131fa19da5",
   "metadata": {},
   "outputs": [
    {
     "data": {
      "text/plain": [
       "['World', 23.45, 12, 67, 45, 36]"
      ]
     },
     "execution_count": 22,
     "metadata": {},
     "output_type": "execute_result"
    }
   ],
   "source": [
    "x"
   ]
  },
  {
   "cell_type": "code",
   "execution_count": 23,
   "id": "de724557-0717-4bdf-9edb-5a9998ee9c78",
   "metadata": {},
   "outputs": [
    {
     "data": {
      "text/plain": [
       "6"
      ]
     },
     "execution_count": 23,
     "metadata": {},
     "output_type": "execute_result"
    }
   ],
   "source": [
    "### Count total number of elements in list now.\n",
    "len(x)"
   ]
  },
  {
   "cell_type": "code",
   "execution_count": 24,
   "id": "270222ab-bd0c-4f55-b8b2-7aaea8192937",
   "metadata": {},
   "outputs": [
    {
     "data": {
      "text/plain": [
       "[12, 67, 45, 36]"
      ]
     },
     "execution_count": 24,
     "metadata": {},
     "output_type": "execute_result"
    }
   ],
   "source": [
    "###Extract the values from 2nd index to 5th index.\n",
    "x[2:6]"
   ]
  },
  {
   "cell_type": "code",
   "execution_count": 25,
   "id": "241ab488-1d28-43d1-8fcd-fcdb132160f4",
   "metadata": {},
   "outputs": [],
   "source": [
    "###Append[34,'Pune'] to this list.\n",
    "x.append([36,'Pune'])"
   ]
  },
  {
   "cell_type": "code",
   "execution_count": 26,
   "id": "0f9c9630-5396-4ceb-8167-15ff48a75540",
   "metadata": {},
   "outputs": [
    {
     "data": {
      "text/plain": [
       "['World', 23.45, 12, 67, 45, 36, [36, 'Pune']]"
      ]
     },
     "execution_count": 26,
     "metadata": {},
     "output_type": "execute_result"
    }
   ],
   "source": [
    "x"
   ]
  },
  {
   "cell_type": "code",
   "execution_count": 27,
   "id": "50d0e334-9079-477f-b014-8ca57acd55ad",
   "metadata": {},
   "outputs": [
    {
     "data": {
      "text/plain": [
       "[36, 'Pune']"
      ]
     },
     "execution_count": 27,
     "metadata": {},
     "output_type": "execute_result"
    }
   ],
   "source": [
    "### 11. Delete the last element from list.\n",
    "x.pop()"
   ]
  },
  {
   "cell_type": "code",
   "execution_count": 28,
   "id": "8481c707-43d1-4cb0-b312-b92aadb54ef3",
   "metadata": {},
   "outputs": [
    {
     "data": {
      "text/plain": [
       "['World', 23.45, 12, 67, 45, 36]"
      ]
     },
     "execution_count": 28,
     "metadata": {},
     "output_type": "execute_result"
    }
   ],
   "source": [
    "x"
   ]
  },
  {
   "cell_type": "code",
   "execution_count": 29,
   "id": "548dced9-a320-4ba7-b897-0f8478878072",
   "metadata": {},
   "outputs": [
    {
     "data": {
      "text/plain": [
       "(12.5, 23.45, 45.12, 42.34, 67.9)"
      ]
     },
     "execution_count": 29,
     "metadata": {},
     "output_type": "execute_result"
    }
   ],
   "source": [
    "'''\n",
    "Create a tuple of elements with 5 float values in it and perform following operations.\n",
    "1. Print the data in sorted manner.\n",
    "2. Check to see that the element 50 is present in it.\n",
    "3. Convert this tuple in set.\n",
    "'''\n",
    "### Create tuple of elements with 5 float values\n",
    "t =(12.50,23.45,45.12,42.34,67.90)\n",
    "t"
   ]
  },
  {
   "cell_type": "code",
   "execution_count": 30,
   "id": "4267f79a-173e-4eb2-83fc-1a329b5b13de",
   "metadata": {},
   "outputs": [
    {
     "data": {
      "text/plain": [
       "[12.5, 23.45, 45.12, 42.34, 67.9]"
      ]
     },
     "execution_count": 30,
     "metadata": {},
     "output_type": "execute_result"
    }
   ],
   "source": [
    "###Print the data in sorted manner.\n",
    "t1 = list(t)\n",
    "t1"
   ]
  },
  {
   "cell_type": "code",
   "execution_count": 31,
   "id": "b6ebe01d-e7ae-4035-b569-3986a1f94e8f",
   "metadata": {},
   "outputs": [],
   "source": [
    "t1.sort()"
   ]
  },
  {
   "cell_type": "code",
   "execution_count": 32,
   "id": "6ab2fad1-a1df-4942-84e0-56eda7ebe6c2",
   "metadata": {},
   "outputs": [
    {
     "data": {
      "text/plain": [
       "[12.5, 23.45, 42.34, 45.12, 67.9]"
      ]
     },
     "execution_count": 32,
     "metadata": {},
     "output_type": "execute_result"
    }
   ],
   "source": [
    "t1"
   ]
  },
  {
   "cell_type": "code",
   "execution_count": 33,
   "id": "ece649e0-690e-4425-ab43-42f043588e08",
   "metadata": {},
   "outputs": [
    {
     "data": {
      "text/plain": [
       "False"
      ]
     },
     "execution_count": 33,
     "metadata": {},
     "output_type": "execute_result"
    }
   ],
   "source": [
    "###Check to see that the element 50 is present in it.\n",
    "50 in t1"
   ]
  },
  {
   "cell_type": "code",
   "execution_count": 34,
   "id": "93884265-76c5-47ff-b3fb-a0690944a2ec",
   "metadata": {},
   "outputs": [
    {
     "data": {
      "text/plain": [
       "True"
      ]
     },
     "execution_count": 34,
     "metadata": {},
     "output_type": "execute_result"
    }
   ],
   "source": [
    "45.12 in t1"
   ]
  },
  {
   "cell_type": "code",
   "execution_count": 35,
   "id": "010598b8-e0df-4903-80f0-cb11d963d7cb",
   "metadata": {},
   "outputs": [],
   "source": [
    "###Convert this tuple in set.\n",
    "s = set(t)"
   ]
  },
  {
   "cell_type": "code",
   "execution_count": 36,
   "id": "1b246f99-107d-423b-9619-4a5eb9a96563",
   "metadata": {},
   "outputs": [
    {
     "data": {
      "text/plain": [
       "{12.5, 23.45, 42.34, 45.12, 67.9}"
      ]
     },
     "execution_count": 36,
     "metadata": {},
     "output_type": "execute_result"
    }
   ],
   "source": [
    "s"
   ]
  },
  {
   "cell_type": "code",
   "execution_count": 37,
   "id": "2cb65628-92b5-4318-af2c-0df3468888b5",
   "metadata": {},
   "outputs": [],
   "source": [
    "'''\n",
    "Create a dictionary of elements: {'a':'apple','b','ball','c':'cat','d':'doll','K':'king'} and\n",
    "perform following operations.\n",
    "\n",
    "1. Access the data at key 'k'.\n",
    "2. Add a new values 'z': 'zebra'\n",
    "3. Replace the contents of 'd' as 'dog'\n",
    "4. Print all the values from this dictionary.\n",
    "5. Find the lenght of this dictionary.\n",
    "'''\n",
    "\n",
    "d = {'a':'apple','b':'ball','c':'cat','d':'doll','K':'king'}"
   ]
  },
  {
   "cell_type": "code",
   "execution_count": 38,
   "id": "74b43ddf-838a-4898-808a-1dbc306b93cd",
   "metadata": {},
   "outputs": [
    {
     "data": {
      "text/plain": [
       "{'a': 'apple', 'b': 'ball', 'c': 'cat', 'd': 'doll', 'K': 'king'}"
      ]
     },
     "execution_count": 38,
     "metadata": {},
     "output_type": "execute_result"
    }
   ],
   "source": [
    "d"
   ]
  },
  {
   "cell_type": "code",
   "execution_count": 39,
   "id": "87add785-bab4-4dca-b5fa-0d71e97fc2af",
   "metadata": {},
   "outputs": [
    {
     "data": {
      "text/plain": [
       "'king'"
      ]
     },
     "execution_count": 39,
     "metadata": {},
     "output_type": "execute_result"
    }
   ],
   "source": [
    "#Access the data at key 'k'.\n",
    "d['K']"
   ]
  },
  {
   "cell_type": "code",
   "execution_count": 40,
   "id": "b108dd47-1a48-4b01-a6b1-7ae0a33f0450",
   "metadata": {},
   "outputs": [],
   "source": [
    "#Add a new values 'z': 'zebra'\n",
    "d['z'] = 'zebra'\n"
   ]
  },
  {
   "cell_type": "code",
   "execution_count": 41,
   "id": "bd413b8f-d79c-481e-8858-d4a55bc1ad42",
   "metadata": {},
   "outputs": [
    {
     "data": {
      "text/plain": [
       "{'a': 'apple', 'b': 'ball', 'c': 'cat', 'd': 'doll', 'K': 'king', 'z': 'zebra'}"
      ]
     },
     "execution_count": 41,
     "metadata": {},
     "output_type": "execute_result"
    }
   ],
   "source": [
    "d"
   ]
  },
  {
   "cell_type": "code",
   "execution_count": 42,
   "id": "2f8de880-7b87-4294-9568-e606e9bedcda",
   "metadata": {},
   "outputs": [],
   "source": [
    "#Replace the contents of 'd' as 'dog'\n",
    "d['d'] = 'dog'\n"
   ]
  },
  {
   "cell_type": "code",
   "execution_count": 43,
   "id": "0b79dbb0-a40d-446f-ae43-d6caa96240cc",
   "metadata": {},
   "outputs": [
    {
     "data": {
      "text/plain": [
       "{'a': 'apple', 'b': 'ball', 'c': 'cat', 'd': 'dog', 'K': 'king', 'z': 'zebra'}"
      ]
     },
     "execution_count": 43,
     "metadata": {},
     "output_type": "execute_result"
    }
   ],
   "source": [
    "d"
   ]
  },
  {
   "cell_type": "code",
   "execution_count": 44,
   "id": "138876e7-637b-4fd5-8362-ca768c573792",
   "metadata": {},
   "outputs": [
    {
     "data": {
      "text/plain": [
       "dict_values(['apple', 'ball', 'cat', 'dog', 'king', 'zebra'])"
      ]
     },
     "execution_count": 44,
     "metadata": {},
     "output_type": "execute_result"
    }
   ],
   "source": [
    "#Print all the values from this dictionary.\n",
    "d.values()"
   ]
  },
  {
   "cell_type": "code",
   "execution_count": 45,
   "id": "0ed01e91-0611-491d-849d-e9137ba69cd6",
   "metadata": {},
   "outputs": [
    {
     "data": {
      "text/plain": [
       "6"
      ]
     },
     "execution_count": 45,
     "metadata": {},
     "output_type": "execute_result"
    }
   ],
   "source": [
    "#5. Find the lenght of this dictionary.\n",
    "len(d)"
   ]
  },
  {
   "cell_type": "code",
   "execution_count": 46,
   "id": "9e7131d9-db9f-44ae-8c81-2ca96a637c1f",
   "metadata": {},
   "outputs": [],
   "source": [
    "'''\n",
    "Write a program to find the second largest element in a list.\n",
    "'''\n",
    "\n",
    "l = [19,25,8,7,23]\n"
   ]
  },
  {
   "cell_type": "code",
   "execution_count": 47,
   "id": "11d8890f-63fd-4aea-9457-0d9e900bedb4",
   "metadata": {},
   "outputs": [
    {
     "data": {
      "text/plain": [
       "[19, 25, 8, 7, 23]"
      ]
     },
     "execution_count": 47,
     "metadata": {},
     "output_type": "execute_result"
    }
   ],
   "source": [
    "l"
   ]
  },
  {
   "cell_type": "code",
   "execution_count": 48,
   "id": "60e25fd9-e269-46ba-8bc2-c3135b32da15",
   "metadata": {},
   "outputs": [
    {
     "data": {
      "text/plain": [
       "[25, 23, 19, 8, 7]"
      ]
     },
     "execution_count": 48,
     "metadata": {},
     "output_type": "execute_result"
    }
   ],
   "source": [
    "l1 = sorted(l, reverse = True)\n",
    "l1"
   ]
  },
  {
   "cell_type": "code",
   "execution_count": 49,
   "id": "465e7b56-d4fa-4a77-8a8b-bae562e9586e",
   "metadata": {},
   "outputs": [
    {
     "data": {
      "text/plain": [
       "23"
      ]
     },
     "execution_count": 49,
     "metadata": {},
     "output_type": "execute_result"
    }
   ],
   "source": [
    "l1[1]"
   ]
  },
  {
   "cell_type": "code",
   "execution_count": 50,
   "id": "2af5af5d-ba65-4b48-9d82-739c380b2faf",
   "metadata": {},
   "outputs": [],
   "source": [
    "'''\n",
    "This is a list of some metallic elements.\n",
    "metals = ['silver','gold',...]\n",
    "Make a new list that is almost identical to the metals list:\n",
    "The new contains the same items, in the same order, except that it does not contain the item 'copper'.\n",
    "'''\n",
    "metals = ['silver','gold','mercury','iron']"
   ]
  },
  {
   "cell_type": "code",
   "execution_count": 51,
   "id": "a47deba5-ef3a-41ef-8d65-8937b495935d",
   "metadata": {},
   "outputs": [
    {
     "data": {
      "text/plain": [
       "['silver', 'gold', 'mercury', 'iron']"
      ]
     },
     "execution_count": 51,
     "metadata": {},
     "output_type": "execute_result"
    }
   ],
   "source": [
    "metals"
   ]
  },
  {
   "cell_type": "code",
   "execution_count": 52,
   "id": "c297fdc6-7987-4fc9-8470-3d659d46b9b8",
   "metadata": {},
   "outputs": [
    {
     "name": "stdout",
     "output_type": "stream",
     "text": [
      "['silver', 'gold', 'mercury', 'iron']\n"
     ]
    }
   ],
   "source": [
    "# Create a new list without copper\n",
    "new_List = [metals for metals in metals if metals != 'copper']\n",
    "print(new_List)"
   ]
  },
  {
   "cell_type": "code",
   "execution_count": null,
   "id": "6753270b-27f1-4bf5-ade9-664b38cb6ff3",
   "metadata": {},
   "outputs": [],
   "source": []
  }
 ],
 "metadata": {
  "kernelspec": {
   "display_name": "Python 3 (ipykernel)",
   "language": "python",
   "name": "python3"
  },
  "language_info": {
   "codemirror_mode": {
    "name": "ipython",
    "version": 3
   },
   "file_extension": ".py",
   "mimetype": "text/x-python",
   "name": "python",
   "nbconvert_exporter": "python",
   "pygments_lexer": "ipython3",
   "version": "3.11.7"
  }
 },
 "nbformat": 4,
 "nbformat_minor": 5
}
