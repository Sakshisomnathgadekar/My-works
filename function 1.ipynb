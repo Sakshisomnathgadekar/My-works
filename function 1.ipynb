{
 "cells": [
  {
   "cell_type": "code",
   "execution_count": 1,
   "id": "49f1142b-4f04-45e6-b9af-c65e07dcfc2f",
   "metadata": {},
   "outputs": [],
   "source": [
    "def show():             # function definition\n",
    "    print('Hello')\n",
    "    print('OK')\n",
    "    print('Goodbye')"
   ]
  },
  {
   "cell_type": "code",
   "execution_count": 2,
   "id": "146df1b7-58fd-4b03-86f1-19adaf87ab79",
   "metadata": {},
   "outputs": [
    {
     "name": "stdout",
     "output_type": "stream",
     "text": [
      "Hello\n",
      "OK\n",
      "Goodbye\n"
     ]
    }
   ],
   "source": [
    "show()"
   ]
  },
  {
   "cell_type": "code",
   "execution_count": 3,
   "id": "40b66f24-5441-4221-8580-2f75ba32fd88",
   "metadata": {},
   "outputs": [
    {
     "name": "stdout",
     "output_type": "stream",
     "text": [
      "Hello\n",
      "OK\n",
      "Goodbye\n",
      "Hello\n",
      "OK\n",
      "Goodbye\n",
      "Hello\n",
      "OK\n",
      "Goodbye\n"
     ]
    }
   ],
   "source": [
    "show()\n",
    "show()\n",
    "show()"
   ]
  },
  {
   "cell_type": "code",
   "execution_count": 4,
   "id": "905224f0-6dcc-4df2-b43c-f7dfcb08fcc2",
   "metadata": {},
   "outputs": [],
   "source": [
    "# parameterized function\n",
    "\n",
    "def square(n):\n",
    "    result = n * n\n",
    "    print('Square is', result)"
   ]
  },
  {
   "cell_type": "code",
   "execution_count": 5,
   "id": "ba7f74a1-7e82-47be-9bec-05f549913519",
   "metadata": {},
   "outputs": [
    {
     "name": "stdout",
     "output_type": "stream",
     "text": [
      "Square is 4\n"
     ]
    }
   ],
   "source": [
    "square(2)"
   ]
  },
  {
   "cell_type": "code",
   "execution_count": 6,
   "id": "37bb7477-a690-4b7b-89eb-517bfe581c8a",
   "metadata": {},
   "outputs": [
    {
     "name": "stdin",
     "output_type": "stream",
     "text": [
      "Enter the number 20\n"
     ]
    },
    {
     "name": "stdout",
     "output_type": "stream",
     "text": [
      "Square is 400\n"
     ]
    }
   ],
   "source": [
    "num = int(input('Enter the number'))\n",
    "square(num)"
   ]
  },
  {
   "cell_type": "code",
   "execution_count": 7,
   "id": "a4db8bf9-9cde-4c71-81c3-308e34d236ec",
   "metadata": {},
   "outputs": [],
   "source": [
    "# multi-parameterized function\n",
    "\n",
    "def largest(a,b):\n",
    "    if a > b:\n",
    "        print(a,'is greater')\n",
    "    elif a == b:\n",
    "        print('Equal')\n",
    "    else:\n",
    "        print(b, 'is greater')\n"
   ]
  },
  {
   "cell_type": "code",
   "execution_count": 8,
   "id": "b4ec713e-6105-499a-83df-a5bdf71e5890",
   "metadata": {},
   "outputs": [
    {
     "name": "stdout",
     "output_type": "stream",
     "text": [
      "78 is greater\n"
     ]
    }
   ],
   "source": [
    "largest(45, 78)"
   ]
  },
  {
   "cell_type": "code",
   "execution_count": 9,
   "id": "0593928e-5fee-4a45-b3ba-2417549e27f7",
   "metadata": {},
   "outputs": [],
   "source": [
    "# write a function which will print a string n number of times\n",
    "\n",
    "def dis(name, count):\n",
    "    for i in range(count):\n",
    "        print(name)\n"
   ]
  },
  {
   "cell_type": "code",
   "execution_count": 10,
   "id": "a694de16-8502-4da8-ad3e-eed7d6c6c34e",
   "metadata": {},
   "outputs": [
    {
     "name": "stdout",
     "output_type": "stream",
     "text": [
      "Pune\n",
      "Pune\n",
      "Pune\n",
      "Pune\n",
      "Pune\n",
      "Pune\n",
      "Pune\n"
     ]
    }
   ],
   "source": [
    "dis('Pune', 7)"
   ]
  },
  {
   "cell_type": "code",
   "execution_count": 11,
   "id": "715904a1-080e-45c8-b94e-5c0ab4ece524",
   "metadata": {},
   "outputs": [],
   "source": [
    "# function for factorial\n",
    "\n",
    "def facto(n):\n",
    "    fact = 1\n",
    "    for i in range(1, n+1):\n",
    "        fact = fact * i\n",
    "    print('Factorial:', fact)"
   ]
  },
  {
   "cell_type": "code",
   "execution_count": 12,
   "id": "0f88fa7d-dd5a-4acc-be7e-98acbe822a0a",
   "metadata": {},
   "outputs": [
    {
     "name": "stdout",
     "output_type": "stream",
     "text": [
      "Factorial: 120\n"
     ]
    }
   ],
   "source": [
    "facto(5)"
   ]
  },
  {
   "cell_type": "code",
   "execution_count": 13,
   "id": "9f3a31e8-076f-4d3f-b81c-97dd6238e4cd",
   "metadata": {},
   "outputs": [],
   "source": [
    "# functions returning values\n",
    "\n",
    "def square(n):\n",
    "    result = n * n\n",
    "    return result"
   ]
  },
  {
   "cell_type": "code",
   "execution_count": 14,
   "id": "09375ed0-a20a-4c46-ad8e-21010b4c8bbb",
   "metadata": {},
   "outputs": [
    {
     "data": {
      "text/plain": [
       "25"
      ]
     },
     "execution_count": 14,
     "metadata": {},
     "output_type": "execute_result"
    }
   ],
   "source": [
    "square(5)"
   ]
  },
  {
   "cell_type": "code",
   "execution_count": 15,
   "id": "9d7e9f0e-53e1-4c20-b574-1d43f8fcd05e",
   "metadata": {},
   "outputs": [],
   "source": [
    "##Difference between return and printm"
   ]
  },
  {
   "cell_type": "code",
   "execution_count": 16,
   "id": "a8ca2652-ad3e-4fb8-88ef-667923ac47be",
   "metadata": {},
   "outputs": [
    {
     "name": "stdout",
     "output_type": "stream",
     "text": [
      "15\n",
      "None\n",
      "15\n",
      "result None\n"
     ]
    }
   ],
   "source": [
    "def add(a, b):\n",
    "    result = a + b\n",
    "    print(result)\n",
    "\n",
    "print(add(5, 10))\n",
    "\n",
    "op = add(5, 10)\n",
    "\n",
    "print('result', op)"
   ]
  },
  {
   "cell_type": "code",
   "execution_count": 17,
   "id": "b9a02d2d-eaea-4bdf-8fac-71bf0281058e",
   "metadata": {},
   "outputs": [
    {
     "name": "stdout",
     "output_type": "stream",
     "text": [
      "15\n",
      "result 15\n"
     ]
    }
   ],
   "source": [
    "def add(a, b):\n",
    "    result = a + b\n",
    "    return result\n",
    "\n",
    "print(add(5, 10))\n",
    "\n",
    "op = add(5, 10)\n",
    "\n",
    "print('result', op)"
   ]
  },
  {
   "cell_type": "code",
   "execution_count": 18,
   "id": "2d2d774f-5ea5-42e2-a45e-a8e1cd5eedec",
   "metadata": {},
   "outputs": [],
   "source": [
    "def largest(a,b):\n",
    "    if a > b:\n",
    "        return a\n",
    "    elif a == b:\n",
    "        return 'Equal'\n",
    "    else:\n",
    "        return b"
   ]
  },
  {
   "cell_type": "code",
   "execution_count": 19,
   "id": "230babcb-8e1d-488f-877d-195c82393f5a",
   "metadata": {},
   "outputs": [
    {
     "data": {
      "text/plain": [
       "'Equal'"
      ]
     },
     "execution_count": 19,
     "metadata": {},
     "output_type": "execute_result"
    }
   ],
   "source": [
    "largest(7, 7)"
   ]
  },
  {
   "cell_type": "code",
   "execution_count": 20,
   "id": "1fcfab5c-c4eb-462f-afb5-238739390c95",
   "metadata": {},
   "outputs": [],
   "source": [
    "# perm and comb\n",
    "# ncr = n! / r!(n-r)!"
   ]
  },
  {
   "cell_type": "code",
   "execution_count": 21,
   "id": "c722380e-5474-4ec8-8436-cae3b4a903ff",
   "metadata": {},
   "outputs": [],
   "source": [
    "def facto(n):\n",
    "    fact = 1\n",
    "    for i in range(1, n+1):\n",
    "        fact = fact * i\n",
    "    return fact"
   ]
  },
  {
   "cell_type": "code",
   "execution_count": 22,
   "id": "a54299e8-2a74-471d-b52a-696b1337f174",
   "metadata": {},
   "outputs": [
    {
     "name": "stdin",
     "output_type": "stream",
     "text": [
      "Total:  4\n",
      "combinations of:  12\n"
     ]
    },
    {
     "name": "stdout",
     "output_type": "stream",
     "text": [
      "5.010421677088344e-08\n"
     ]
    }
   ],
   "source": [
    "n = int(input('Total: '))\n",
    "r = int(input('combinations of: '))\n",
    "\n",
    "ncr = facto(n) / (facto(r) * facto(n-r))\n",
    "print(ncr)"
   ]
  },
  {
   "cell_type": "code",
   "execution_count": 23,
   "id": "5aa807a2-6ae0-4db8-962c-bc0cc9a09af9",
   "metadata": {},
   "outputs": [],
   "source": [
    "def calc(n):\n",
    "    sq = n * n\n",
    "    cu = n ** 3\n",
    "    return sq, cu"
   ]
  },
  {
   "cell_type": "code",
   "execution_count": 24,
   "id": "6417b325-db74-45ae-86ea-460fa4012897",
   "metadata": {},
   "outputs": [
    {
     "data": {
      "text/plain": [
       "(25, 125)"
      ]
     },
     "execution_count": 24,
     "metadata": {},
     "output_type": "execute_result"
    }
   ],
   "source": [
    "calc(5)"
   ]
  },
  {
   "cell_type": "code",
   "execution_count": 25,
   "id": "9547faa8-0a93-4f2f-adbb-3f5f7b1c0281",
   "metadata": {},
   "outputs": [
    {
     "name": "stdin",
     "output_type": "stream",
     "text": [
      "Enter the number  3\n"
     ]
    },
    {
     "name": "stdout",
     "output_type": "stream",
     "text": [
      "square 9\n",
      "cube 27\n"
     ]
    }
   ],
   "source": [
    "n = int(input('Enter the number '))\n",
    "x, y = calc(n)\n",
    "print('square',x)\n",
    "print('cube',y)"
   ]
  },
  {
   "cell_type": "code",
   "execution_count": 26,
   "id": "8ce37f75-1348-45ae-bd66-be998b14b06f",
   "metadata": {},
   "outputs": [],
   "source": [
    "# default parameter\n",
    "\n",
    "def add3(a = 5, b = 7, c = 10):\n",
    "    result = a + b + c\n",
    "    return result"
   ]
  },
  {
   "cell_type": "code",
   "execution_count": 27,
   "id": "9e488e4d-babc-4065-a730-3320bb4195ad",
   "metadata": {},
   "outputs": [
    {
     "data": {
      "text/plain": [
       "22"
      ]
     },
     "execution_count": 27,
     "metadata": {},
     "output_type": "execute_result"
    }
   ],
   "source": [
    "add3()"
   ]
  },
  {
   "cell_type": "code",
   "execution_count": 28,
   "id": "f89a2c6a-cd11-46a8-abe4-4bed5396ed82",
   "metadata": {},
   "outputs": [
    {
     "data": {
      "text/plain": [
       "27"
      ]
     },
     "execution_count": 28,
     "metadata": {},
     "output_type": "execute_result"
    }
   ],
   "source": [
    "add3(10)"
   ]
  },
  {
   "cell_type": "code",
   "execution_count": 29,
   "id": "6fa7677b-0409-4139-866c-d3b382f96ee5",
   "metadata": {},
   "outputs": [
    {
     "data": {
      "text/plain": [
       "30"
      ]
     },
     "execution_count": 29,
     "metadata": {},
     "output_type": "execute_result"
    }
   ],
   "source": [
    "add3(10, 10)"
   ]
  },
  {
   "cell_type": "code",
   "execution_count": 30,
   "id": "102bf38b-fb43-405b-82e0-507d232d2912",
   "metadata": {},
   "outputs": [
    {
     "data": {
      "text/plain": [
       "37"
      ]
     },
     "execution_count": 30,
     "metadata": {},
     "output_type": "execute_result"
    }
   ],
   "source": [
    "add3(a = 10, c = 20)"
   ]
  },
  {
   "cell_type": "code",
   "execution_count": 31,
   "id": "f89da63f-e5f2-4b75-bbf0-3e23aa49e351",
   "metadata": {},
   "outputs": [],
   "source": [
    "def add3(b, a = 5,c = 10):\n",
    "    result = a + b + c\n",
    "    return result"
   ]
  },
  {
   "cell_type": "code",
   "execution_count": 32,
   "id": "bff30e6c-77b7-4f24-9127-1be1603c0075",
   "metadata": {},
   "outputs": [
    {
     "data": {
      "text/plain": [
       "25"
      ]
     },
     "execution_count": 32,
     "metadata": {},
     "output_type": "execute_result"
    }
   ],
   "source": [
    "add3(10)"
   ]
  },
  {
   "cell_type": "code",
   "execution_count": 33,
   "id": "b2019174-f4c1-4a5c-ba68-4f17f5b8d93a",
   "metadata": {},
   "outputs": [],
   "source": [
    "# dynamic or variable length parameter\n",
    "\n",
    "def in1(*args):\n",
    "    for i in args:\n",
    "        print(i)"
   ]
  },
  {
   "cell_type": "code",
   "execution_count": 34,
   "id": "a1f9a05a-5933-4361-97ac-063dab92b1cc",
   "metadata": {},
   "outputs": [
    {
     "name": "stdout",
     "output_type": "stream",
     "text": [
      "1\n",
      "2\n",
      "3\n",
      "5\n",
      "6\n",
      "7\n"
     ]
    }
   ],
   "source": [
    "in1(1,2,3,5,6,7)"
   ]
  },
  {
   "cell_type": "code",
   "execution_count": 35,
   "id": "63dc2fbf-b3b4-44b8-b0bf-685f39a6728d",
   "metadata": {},
   "outputs": [],
   "source": [
    "# lambda function\n",
    "\n",
    "square = lambda x: x * x"
   ]
  },
  {
   "cell_type": "code",
   "execution_count": 36,
   "id": "66b0ca89-7059-4cde-89fe-3fb71b47f4c5",
   "metadata": {},
   "outputs": [
    {
     "data": {
      "text/plain": [
       "25"
      ]
     },
     "execution_count": 36,
     "metadata": {},
     "output_type": "execute_result"
    }
   ],
   "source": [
    "square(5)"
   ]
  },
  {
   "cell_type": "code",
   "execution_count": 37,
   "id": "85b63983-5034-4fe9-bc73-863aceac7082",
   "metadata": {},
   "outputs": [],
   "source": [
    "ad = lambda x,y: x + y"
   ]
  },
  {
   "cell_type": "code",
   "execution_count": 38,
   "id": "852390eb-2115-4f46-abc8-d3a1f5ecfe69",
   "metadata": {},
   "outputs": [
    {
     "data": {
      "text/plain": [
       "77"
      ]
     },
     "execution_count": 38,
     "metadata": {},
     "output_type": "execute_result"
    }
   ],
   "source": [
    "ad(10,67)"
   ]
  },
  {
   "cell_type": "code",
   "execution_count": 39,
   "id": "84330959-bce1-4498-8b01-18aa3703602a",
   "metadata": {},
   "outputs": [],
   "source": [
    "# filter\n",
    "\n",
    "num = [23, 45, 76, 13, 57, 21, 43]"
   ]
  },
  {
   "cell_type": "code",
   "execution_count": 40,
   "id": "4313751b-042d-47f3-afee-897e90c3c434",
   "metadata": {},
   "outputs": [],
   "source": [
    "new = filter(lambda x: x > 40, num)"
   ]
  },
  {
   "cell_type": "code",
   "execution_count": 41,
   "id": "839cef65-bc53-43e4-ae40-430a84cf6b93",
   "metadata": {},
   "outputs": [
    {
     "data": {
      "text/plain": [
       "[45, 76, 57, 43]"
      ]
     },
     "execution_count": 41,
     "metadata": {},
     "output_type": "execute_result"
    }
   ],
   "source": [
    "list(new)"
   ]
  },
  {
   "cell_type": "code",
   "execution_count": 42,
   "id": "cda48978-75a5-44b1-9822-70ab2c90f330",
   "metadata": {},
   "outputs": [],
   "source": [
    "# map\n",
    "\n",
    "new = map(lambda x: x/2,num)"
   ]
  },
  {
   "cell_type": "code",
   "execution_count": 43,
   "id": "001d3371-5aaa-4a4f-8c2e-56a43fcfb8d8",
   "metadata": {},
   "outputs": [
    {
     "data": {
      "text/plain": [
       "[11.5, 22.5, 38.0, 6.5, 28.5, 10.5, 21.5]"
      ]
     },
     "execution_count": 43,
     "metadata": {},
     "output_type": "execute_result"
    }
   ],
   "source": [
    "list(new)"
   ]
  },
  {
   "cell_type": "code",
   "execution_count": 44,
   "id": "9d2e236e-b4e8-4f67-b55c-9310b78489fa",
   "metadata": {},
   "outputs": [
    {
     "name": "stdout",
     "output_type": "stream",
     "text": [
      "[False, True, True, False, True, False, True]\n"
     ]
    }
   ],
   "source": [
    "new = map(lambda x: x > 40, num)\n",
    "print(list(new))"
   ]
  },
  {
   "cell_type": "code",
   "execution_count": 45,
   "id": "a22a8106-009d-4862-8c00-ea2b19403ac0",
   "metadata": {},
   "outputs": [],
   "source": [
    "###Module"
   ]
  },
  {
   "cell_type": "code",
   "execution_count": 46,
   "id": "27cbf170-90d0-459c-8d40-41803e4a8714",
   "metadata": {},
   "outputs": [],
   "source": [
    "import math"
   ]
  },
  {
   "cell_type": "code",
   "execution_count": null,
   "id": "656eb909-b9ed-48a8-8fcd-f02cd259e1c6",
   "metadata": {},
   "outputs": [],
   "source": []
  }
 ],
 "metadata": {
  "kernelspec": {
   "display_name": "Python 3 (ipykernel)",
   "language": "python",
   "name": "python3"
  },
  "language_info": {
   "codemirror_mode": {
    "name": "ipython",
    "version": 3
   },
   "file_extension": ".py",
   "mimetype": "text/x-python",
   "name": "python",
   "nbconvert_exporter": "python",
   "pygments_lexer": "ipython3",
   "version": "3.11.7"
  }
 },
 "nbformat": 4,
 "nbformat_minor": 5
}
