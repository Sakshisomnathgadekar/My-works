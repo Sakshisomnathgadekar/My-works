{
 "cells": [
  {
   "cell_type": "code",
   "execution_count": 2,
   "id": "75bc9e9b-33cc-4621-8f32-557252294878",
   "metadata": {},
   "outputs": [],
   "source": [
    "class Employee():\n",
    "  pass                      ##class creation"
   ]
  },
  {
   "cell_type": "code",
   "execution_count": 3,
   "id": "9dd3e641-5990-4090-b5bd-15f86298ec70",
   "metadata": {},
   "outputs": [],
   "source": [
    "emp1 = Employee()\n",
    "emp2 = Employee()           ##instance of employee class"
   ]
  },
  {
   "cell_type": "code",
   "execution_count": 4,
   "id": "96dae605-0fe2-4fa2-b48c-b2e13401ccde",
   "metadata": {},
   "outputs": [
    {
     "name": "stdout",
     "output_type": "stream",
     "text": [
      "<__main__.Employee object at 0x00000213C9B3FBD0>\n",
      "<__main__.Employee object at 0x00000213C9B04C50>\n"
     ]
    }
   ],
   "source": [
    "print(emp1)\n",
    "print(emp2)"
   ]
  },
  {
   "cell_type": "code",
   "execution_count": 9,
   "id": "bdfe02ff-0be4-4faa-a5f2-35dc5396e601",
   "metadata": {},
   "outputs": [],
   "source": [
    "emp1.first = 'Natasha'\n",
    "emp1.last = 'Negi'\n",
    "emp1.salary = '52000'       ##instance variables\n"
   ]
  },
  {
   "cell_type": "raw",
   "id": "3332d112-9bfa-4582-b148-653d78a9765f",
   "metadata": {},
   "source": [
    "emp2.first = 'Sakshi'\n",
    "emp2.last = 'Gadekar'       ##instance variables\n",
    "emp2.salary = '60000'"
   ]
  },
  {
   "cell_type": "code",
   "execution_count": 7,
   "id": "622bb708-0d20-4866-b6ef-ee2469f41c52",
   "metadata": {},
   "outputs": [
    {
     "name": "stdout",
     "output_type": "stream",
     "text": [
      "60000\n"
     ]
    }
   ],
   "source": [
    "print(emp2.salary)"
   ]
  },
  {
   "cell_type": "code",
   "execution_count": 10,
   "id": "914007aa-190a-434b-b3cb-c189e796b37a",
   "metadata": {},
   "outputs": [
    {
     "name": "stdout",
     "output_type": "stream",
     "text": [
      "Negi\n"
     ]
    }
   ],
   "source": [
    "print(emp1.last)"
   ]
  },
  {
   "cell_type": "code",
   "execution_count": 11,
   "id": "fc7d17a3-e717-4e18-8aca-97fb1ef3fb9b",
   "metadata": {},
   "outputs": [
    {
     "name": "stdout",
     "output_type": "stream",
     "text": [
      "Natasha\n"
     ]
    }
   ],
   "source": [
    "print(emp1.first)"
   ]
  },
  {
   "cell_type": "code",
   "execution_count": 12,
   "id": "f770e484-a4ad-4439-80cf-2739f4a8c894",
   "metadata": {},
   "outputs": [
    {
     "name": "stdout",
     "output_type": "stream",
     "text": [
      "Sakshi\n"
     ]
    }
   ],
   "source": [
    "print(emp2.first)"
   ]
  },
  {
   "cell_type": "code",
   "execution_count": 27,
   "id": "e959c49e-6441-447d-8228-bbfa015d429b",
   "metadata": {},
   "outputs": [],
   "source": [
    "class Employee():\n",
    "\n",
    "    def __init__(self,first,last,salary):\n",
    "        self.first = first           # emp1.first = 'Ravi'\n",
    "        self.last  = last\n",
    "        self.salary = salary\n",
    "\n",
    "    def show(self):\n",
    "       print(self.first+ ' ' + ' Okkk')\n",
    "       "
   ]
  },
  {
   "cell_type": "code",
   "execution_count": 23,
   "id": "1146447c-5ce4-482b-8b3c-dcebb0226a1f",
   "metadata": {},
   "outputs": [],
   "source": [
    "emp1 = Employee('Ravi','Tyagi' ,550000)\n",
    "emp2 = Employee('Neha' ,'Kulkarni' ,540000)"
   ]
  },
  {
   "cell_type": "code",
   "execution_count": 19,
   "id": "a24e440a-56a0-4d3e-a630-819973a8fddd",
   "metadata": {},
   "outputs": [
    {
     "data": {
      "text/plain": [
       "'Ravi'"
      ]
     },
     "execution_count": 19,
     "metadata": {},
     "output_type": "execute_result"
    }
   ],
   "source": [
    "emp1.first"
   ]
  },
  {
   "cell_type": "code",
   "execution_count": 37,
   "id": "f8208c8a-4c3b-42ac-8ea5-72de9fc2d7a4",
   "metadata": {},
   "outputs": [
    {
     "data": {
      "text/plain": [
       "<bound method Employee.show of <__main__.Employee object at 0x00000213CABDA4D0>>"
      ]
     },
     "execution_count": 37,
     "metadata": {},
     "output_type": "execute_result"
    }
   ],
   "source": [
    "emp1.show"
   ]
  },
  {
   "cell_type": "markdown",
   "id": "46359f19-2254-47fe-8ab4-c84357f0d5e5",
   "metadata": {},
   "source": [
    "##Encapsulation"
   ]
  },
  {
   "cell_type": "code",
   "execution_count": 57,
   "id": "88d888c3-10ab-4a69-8c1f-a0f00ba8f3b7",
   "metadata": {},
   "outputs": [],
   "source": [
    "class Employee1():\n",
    "\n",
    "    def __init__(self,first,last,salary):\n",
    "        self.first = first          \n",
    "        self.last  = last\n",
    "        self.__salary = salary   ##Creating private Variable\n",
    "\n",
    "    def display(self):\n",
    "        print('salary is' , self.__salary)\n"
   ]
  },
  {
   "cell_type": "code",
   "execution_count": 62,
   "id": "b390a88f-5099-4734-adb5-a2b74399d3e8",
   "metadata": {},
   "outputs": [],
   "source": [
    "emp3 = Employee1('Akash' ,' Tyagi' ,30000)\n",
    "emp4 = Employee1('Pranav' , 'Patil' , 32000)"
   ]
  },
  {
   "cell_type": "code",
   "execution_count": 33,
   "id": "3eeff0d8-1030-4c42-934d-da2245214abb",
   "metadata": {},
   "outputs": [
    {
     "data": {
      "text/plain": [
       "'Akash'"
      ]
     },
     "execution_count": 33,
     "metadata": {},
     "output_type": "execute_result"
    }
   ],
   "source": [
    "emp3.first"
   ]
  },
  {
   "cell_type": "code",
   "execution_count": 39,
   "id": "4677fad8-9987-486f-abea-17c88a653727",
   "metadata": {},
   "outputs": [
    {
     "ename": "AttributeError",
     "evalue": "'Employee1' object has no attribute 'salary'",
     "output_type": "error",
     "traceback": [
      "\u001b[1;31m---------------------------------------------------------------------------\u001b[0m",
      "\u001b[1;31mAttributeError\u001b[0m                            Traceback (most recent call last)",
      "Cell \u001b[1;32mIn[39], line 1\u001b[0m\n\u001b[1;32m----> 1\u001b[0m emp3\u001b[38;5;241m.\u001b[39msalary\n",
      "\u001b[1;31mAttributeError\u001b[0m: 'Employee1' object has no attribute 'salary'"
     ]
    }
   ],
   "source": [
    "emp3.salary"
   ]
  },
  {
   "cell_type": "code",
   "execution_count": 63,
   "id": "98d02d14-b92d-4788-8ce7-f50608b13ef6",
   "metadata": {},
   "outputs": [
    {
     "name": "stdout",
     "output_type": "stream",
     "text": [
      "salary is 30000\n"
     ]
    }
   ],
   "source": [
    "emp3.display()"
   ]
  },
  {
   "cell_type": "code",
   "execution_count": 64,
   "id": "f8645da7-85ca-4605-8ee2-7581e62b0543",
   "metadata": {},
   "outputs": [],
   "source": [
    "##inheritance\n",
    "\n",
    "class Employee2(Employee1):\n",
    "    pass"
   ]
  },
  {
   "cell_type": "code",
   "execution_count": 65,
   "id": "ba80c277-696f-45e2-8a9c-34b99281895f",
   "metadata": {},
   "outputs": [],
   "source": [
    "emp5 = Employee2('Aniket' , 'Rana' ,60000)"
   ]
  },
  {
   "cell_type": "code",
   "execution_count": 68,
   "id": "33a3ca4e-faec-4593-b319-51d84864fc7a",
   "metadata": {},
   "outputs": [
    {
     "name": "stdout",
     "output_type": "stream",
     "text": [
      "salary is 60000\n"
     ]
    }
   ],
   "source": [
    "emp5.display()"
   ]
  },
  {
   "cell_type": "code",
   "execution_count": 70,
   "id": "f9b052cf-6959-4db5-9c2b-bbe2a9fa98ca",
   "metadata": {},
   "outputs": [],
   "source": [
    "'''\n",
    "Create a class called person \n",
    "take in name,age,hobby.....\n",
    "create multiple objects                (make use of default parameter also)\n",
    "create methods to display all info\n",
    "''';"
   ]
  },
  {
   "cell_type": "code",
   "execution_count": 79,
   "id": "89a2a46d-2891-490e-9fa8-bef73bd0f0f8",
   "metadata": {},
   "outputs": [],
   "source": [
    "class Person:\n",
    "\n",
    "    def __init__(self,name,age,hobby):\n",
    "        self.name = name          \n",
    "        self.age  = age\n",
    "        self.hobby = hobby\n",
    "\n",
    "    def display(self):\n",
    "        print('Name =' , self.name)\n",
    "        print('Age =' ,self.age)\n",
    "        print('Hobby=' ,self.hobby)\n"
   ]
  },
  {
   "cell_type": "code",
   "execution_count": 80,
   "id": "9875f92c-c417-46dc-b984-e3b133ca880d",
   "metadata": {},
   "outputs": [],
   "source": [
    "per1 = Person('Sakshi' , '18' , 'Dancing')\n",
    "per2 = Person('Sahil' , '19' , 'Reading')"
   ]
  },
  {
   "cell_type": "code",
   "execution_count": 81,
   "id": "14c0dab8-261f-49f3-ba9e-2fce924b37b9",
   "metadata": {},
   "outputs": [
    {
     "name": "stdout",
     "output_type": "stream",
     "text": [
      "Name = Sakshi\n",
      "Age = 18\n",
      "Hobby= Dancing\n"
     ]
    }
   ],
   "source": [
    "per1.display()"
   ]
  },
  {
   "cell_type": "code",
   "execution_count": 88,
   "id": "c72ed4f9-b764-493d-bd05-e18e7e4251fd",
   "metadata": {},
   "outputs": [],
   "source": [
    "##Using Default values \n",
    "class Person:\n",
    "\n",
    "    def __init__(self,name,hobby,a=22):\n",
    "        self.name = name          \n",
    "        self.a = a\n",
    "        self.hobby = hobby\n",
    "\n",
    "    def display(self):\n",
    "        print('Name =' , self.name)\n",
    "        print('Age =' ,self.a)\n",
    "        print('Hobby=' ,self.hobby)\n"
   ]
  },
  {
   "cell_type": "code",
   "execution_count": 89,
   "id": "d8e5d3be-7570-443f-812a-a3dae361bb73",
   "metadata": {},
   "outputs": [],
   "source": [
    "per3 = Person('Siddhi','Singing')"
   ]
  },
  {
   "cell_type": "markdown",
   "id": "61ff454e-0097-4f81-a091-15f782fa86cf",
   "metadata": {},
   "source": [
    "per3.diaplay()"
   ]
  },
  {
   "cell_type": "code",
   "execution_count": 90,
   "id": "391d57e9-f778-42c7-8c06-d6d63c82cf9d",
   "metadata": {},
   "outputs": [
    {
     "name": "stdout",
     "output_type": "stream",
     "text": [
      "Name = Siddhi\n",
      "Age = 22\n",
      "Hobby= Singing\n"
     ]
    }
   ],
   "source": [
    "per3.display()"
   ]
  },
  {
   "cell_type": "code",
   "execution_count": 91,
   "id": "0be7afb1-0525-4857-905a-07ca31ba5a70",
   "metadata": {},
   "outputs": [],
   "source": []
  },
  {
   "cell_type": "code",
   "execution_count": 92,
   "id": "9a1f2607-2da8-4112-b477-677cfdfd2ea7",
   "metadata": {},
   "outputs": [],
   "source": []
  },
  {
   "cell_type": "code",
   "execution_count": null,
   "id": "3d4614fb-caed-4bd3-aeaa-44128a7a184c",
   "metadata": {},
   "outputs": [],
   "source": []
  }
 ],
 "metadata": {
  "kernelspec": {
   "display_name": "Python 3 (ipykernel)",
   "language": "python",
   "name": "python3"
  },
  "language_info": {
   "codemirror_mode": {
    "name": "ipython",
    "version": 3
   },
   "file_extension": ".py",
   "mimetype": "text/x-python",
   "name": "python",
   "nbconvert_exporter": "python",
   "pygments_lexer": "ipython3",
   "version": "3.11.7"
  }
 },
 "nbformat": 4,
 "nbformat_minor": 5
}
