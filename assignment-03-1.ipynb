{
 "cells": [
  {
   "cell_type": "code",
   "execution_count": 1,
   "id": "206777f2",
   "metadata": {
    "_cell_guid": "b1076dfc-b9ad-4769-8c92-a6c4dae69d19",
    "_uuid": "8f2839f25d086af736a60e9eeb907d3b93b6e0e5",
    "execution": {
     "iopub.execute_input": "2024-06-26T11:02:08.799113Z",
     "iopub.status.busy": "2024-06-26T11:02:08.798647Z",
     "iopub.status.idle": "2024-06-26T11:02:09.651829Z",
     "shell.execute_reply": "2024-06-26T11:02:09.650717Z"
    },
    "papermill": {
     "duration": 0.864327,
     "end_time": "2024-06-26T11:02:09.654449",
     "exception": false,
     "start_time": "2024-06-26T11:02:08.790122",
     "status": "completed"
    },
    "tags": []
   },
   "outputs": [
    {
     "name": "stdout",
     "output_type": "stream",
     "text": [
      "/kaggle/input/loan-defaulter/application_data.csv\n",
      "/kaggle/input/loan-defaulter/previous_application.csv\n",
      "/kaggle/input/loan-defaulter/columns_description.csv\n"
     ]
    }
   ],
   "source": [
    "# This Python 3 environment comes with many helpful analytics libraries installed\n",
    "# It is defined by the kaggle/python Docker image: https://github.com/kaggle/docker-python\n",
    "# For example, here's several helpful packages to load\n",
    "\n",
    "import numpy as np # linear algebra\n",
    "import pandas as pd # data processing, CSV file I/O (e.g. pd.read_csv)\n",
    "\n",
    "# Input data files are available in the read-only \"../input/\" directory\n",
    "# For example, running this (by clicking run or pressing Shift+Enter) will list all files under the input directory\n",
    "\n",
    "import os\n",
    "for dirname, _, filenames in os.walk('/kaggle/input'):\n",
    "    for filename in filenames:\n",
    "        print(os.path.join(dirname, filename))\n",
    "\n",
    "# You can write up to 20GB to the current directory (/kaggle/working/) that gets preserved as output when you create a version using \"Save & Run All\" \n",
    "# You can also write temporary files to /kaggle/temp/, but they won't be saved outside of the current session"
   ]
  },
  {
   "cell_type": "code",
   "execution_count": 2,
   "id": "511dd701",
   "metadata": {
    "execution": {
     "iopub.execute_input": "2024-06-26T11:02:09.669054Z",
     "iopub.status.busy": "2024-06-26T11:02:09.668544Z",
     "iopub.status.idle": "2024-06-26T11:02:10.972126Z",
     "shell.execute_reply": "2024-06-26T11:02:10.971024Z"
    },
    "papermill": {
     "duration": 1.314024,
     "end_time": "2024-06-26T11:02:10.974987",
     "exception": false,
     "start_time": "2024-06-26T11:02:09.660963",
     "status": "completed"
    },
    "tags": []
   },
   "outputs": [],
   "source": [
    "import pandas as pd\n",
    "import numpy as np\n",
    "import matplotlib.pyplot as plt\n",
    "import seaborn as sns"
   ]
  },
  {
   "cell_type": "code",
   "execution_count": 3,
   "id": "e5f33ac9",
   "metadata": {
    "execution": {
     "iopub.execute_input": "2024-06-26T11:02:10.990050Z",
     "iopub.status.busy": "2024-06-26T11:02:10.989650Z",
     "iopub.status.idle": "2024-06-26T11:02:16.911549Z",
     "shell.execute_reply": "2024-06-26T11:02:16.910369Z"
    },
    "papermill": {
     "duration": 5.932132,
     "end_time": "2024-06-26T11:02:16.914086",
     "exception": false,
     "start_time": "2024-06-26T11:02:10.981954",
     "status": "completed"
    },
    "tags": []
   },
   "outputs": [],
   "source": [
    "df=pd.read_csv('/kaggle/input/loan-defaulter/application_data.csv')\n",
    "col_desc=pd.read_csv('/kaggle/input/loan-defaulter/columns_description.csv')"
   ]
  },
  {
   "cell_type": "code",
   "execution_count": 4,
   "id": "10d13491",
   "metadata": {
    "execution": {
     "iopub.execute_input": "2024-06-26T11:02:16.928434Z",
     "iopub.status.busy": "2024-06-26T11:02:16.928068Z",
     "iopub.status.idle": "2024-06-26T11:02:16.935637Z",
     "shell.execute_reply": "2024-06-26T11:02:16.934519Z"
    },
    "papermill": {
     "duration": 0.017297,
     "end_time": "2024-06-26T11:02:16.937859",
     "exception": false,
     "start_time": "2024-06-26T11:02:16.920562",
     "status": "completed"
    },
    "tags": []
   },
   "outputs": [
    {
     "data": {
      "text/plain": [
       "(160, 5)"
      ]
     },
     "execution_count": 4,
     "metadata": {},
     "output_type": "execute_result"
    }
   ],
   "source": [
    "col_desc.shape"
   ]
  },
  {
   "cell_type": "code",
   "execution_count": 5,
   "id": "558b55a8",
   "metadata": {
    "execution": {
     "iopub.execute_input": "2024-06-26T11:02:16.952344Z",
     "iopub.status.busy": "2024-06-26T11:02:16.951967Z",
     "iopub.status.idle": "2024-06-26T11:02:16.960163Z",
     "shell.execute_reply": "2024-06-26T11:02:16.959129Z"
    },
    "papermill": {
     "duration": 0.018051,
     "end_time": "2024-06-26T11:02:16.962426",
     "exception": false,
     "start_time": "2024-06-26T11:02:16.944375",
     "status": "completed"
    },
    "tags": []
   },
   "outputs": [
    {
     "data": {
      "text/plain": [
       "800"
      ]
     },
     "execution_count": 5,
     "metadata": {},
     "output_type": "execute_result"
    }
   ],
   "source": [
    "col_desc.size"
   ]
  },
  {
   "cell_type": "code",
   "execution_count": 6,
   "id": "5b2dfb48",
   "metadata": {
    "execution": {
     "iopub.execute_input": "2024-06-26T11:02:16.978004Z",
     "iopub.status.busy": "2024-06-26T11:02:16.976825Z",
     "iopub.status.idle": "2024-06-26T11:02:16.984034Z",
     "shell.execute_reply": "2024-06-26T11:02:16.982788Z"
    },
    "papermill": {
     "duration": 0.017148,
     "end_time": "2024-06-26T11:02:16.986165",
     "exception": false,
     "start_time": "2024-06-26T11:02:16.969017",
     "status": "completed"
    },
    "tags": []
   },
   "outputs": [
    {
     "data": {
      "text/plain": [
       "(307511, 122)"
      ]
     },
     "execution_count": 6,
     "metadata": {},
     "output_type": "execute_result"
    }
   ],
   "source": [
    "df.shape"
   ]
  },
  {
   "cell_type": "code",
   "execution_count": 7,
   "id": "2089586a",
   "metadata": {
    "execution": {
     "iopub.execute_input": "2024-06-26T11:02:17.001482Z",
     "iopub.status.busy": "2024-06-26T11:02:17.001098Z",
     "iopub.status.idle": "2024-06-26T11:02:17.007786Z",
     "shell.execute_reply": "2024-06-26T11:02:17.006818Z"
    },
    "papermill": {
     "duration": 0.01681,
     "end_time": "2024-06-26T11:02:17.010035",
     "exception": false,
     "start_time": "2024-06-26T11:02:16.993225",
     "status": "completed"
    },
    "tags": []
   },
   "outputs": [
    {
     "data": {
      "text/plain": [
       "37516342"
      ]
     },
     "execution_count": 7,
     "metadata": {},
     "output_type": "execute_result"
    }
   ],
   "source": [
    "df.size"
   ]
  },
  {
   "cell_type": "code",
   "execution_count": 8,
   "id": "1e4f6e3c",
   "metadata": {
    "execution": {
     "iopub.execute_input": "2024-06-26T11:02:17.025232Z",
     "iopub.status.busy": "2024-06-26T11:02:17.024859Z",
     "iopub.status.idle": "2024-06-26T11:02:17.029773Z",
     "shell.execute_reply": "2024-06-26T11:02:17.028712Z"
    },
    "papermill": {
     "duration": 0.015082,
     "end_time": "2024-06-26T11:02:17.031958",
     "exception": false,
     "start_time": "2024-06-26T11:02:17.016876",
     "status": "completed"
    },
    "tags": []
   },
   "outputs": [],
   "source": [
    "pd.set_option('display.max_columns',None)\n",
    "pd.set_option('display.max_rows',None)"
   ]
  },
  {
   "cell_type": "code",
   "execution_count": 9,
   "id": "fa27423d",
   "metadata": {
    "execution": {
     "iopub.execute_input": "2024-06-26T11:02:17.047242Z",
     "iopub.status.busy": "2024-06-26T11:02:17.046884Z",
     "iopub.status.idle": "2024-06-26T11:02:17.064169Z",
     "shell.execute_reply": "2024-06-26T11:02:17.063002Z"
    },
    "papermill": {
     "duration": 0.027485,
     "end_time": "2024-06-26T11:02:17.066401",
     "exception": false,
     "start_time": "2024-06-26T11:02:17.038916",
     "status": "completed"
    },
    "tags": []
   },
   "outputs": [
    {
     "data": {
      "text/plain": [
       "SK_ID_CURR                        int64\n",
       "TARGET                            int64\n",
       "NAME_CONTRACT_TYPE               object\n",
       "CODE_GENDER                      object\n",
       "FLAG_OWN_CAR                     object\n",
       "FLAG_OWN_REALTY                  object\n",
       "CNT_CHILDREN                      int64\n",
       "AMT_INCOME_TOTAL                float64\n",
       "AMT_CREDIT                      float64\n",
       "AMT_ANNUITY                     float64\n",
       "AMT_GOODS_PRICE                 float64\n",
       "NAME_TYPE_SUITE                  object\n",
       "NAME_INCOME_TYPE                 object\n",
       "NAME_EDUCATION_TYPE              object\n",
       "NAME_FAMILY_STATUS               object\n",
       "NAME_HOUSING_TYPE                object\n",
       "REGION_POPULATION_RELATIVE      float64\n",
       "DAYS_BIRTH                        int64\n",
       "DAYS_EMPLOYED                     int64\n",
       "DAYS_REGISTRATION               float64\n",
       "DAYS_ID_PUBLISH                   int64\n",
       "OWN_CAR_AGE                     float64\n",
       "FLAG_MOBIL                        int64\n",
       "FLAG_EMP_PHONE                    int64\n",
       "FLAG_WORK_PHONE                   int64\n",
       "FLAG_CONT_MOBILE                  int64\n",
       "FLAG_PHONE                        int64\n",
       "FLAG_EMAIL                        int64\n",
       "OCCUPATION_TYPE                  object\n",
       "CNT_FAM_MEMBERS                 float64\n",
       "REGION_RATING_CLIENT              int64\n",
       "REGION_RATING_CLIENT_W_CITY       int64\n",
       "WEEKDAY_APPR_PROCESS_START       object\n",
       "HOUR_APPR_PROCESS_START           int64\n",
       "REG_REGION_NOT_LIVE_REGION        int64\n",
       "REG_REGION_NOT_WORK_REGION        int64\n",
       "LIVE_REGION_NOT_WORK_REGION       int64\n",
       "REG_CITY_NOT_LIVE_CITY            int64\n",
       "REG_CITY_NOT_WORK_CITY            int64\n",
       "LIVE_CITY_NOT_WORK_CITY           int64\n",
       "ORGANIZATION_TYPE                object\n",
       "EXT_SOURCE_1                    float64\n",
       "EXT_SOURCE_2                    float64\n",
       "EXT_SOURCE_3                    float64\n",
       "APARTMENTS_AVG                  float64\n",
       "BASEMENTAREA_AVG                float64\n",
       "YEARS_BEGINEXPLUATATION_AVG     float64\n",
       "YEARS_BUILD_AVG                 float64\n",
       "COMMONAREA_AVG                  float64\n",
       "ELEVATORS_AVG                   float64\n",
       "ENTRANCES_AVG                   float64\n",
       "FLOORSMAX_AVG                   float64\n",
       "FLOORSMIN_AVG                   float64\n",
       "LANDAREA_AVG                    float64\n",
       "LIVINGAPARTMENTS_AVG            float64\n",
       "LIVINGAREA_AVG                  float64\n",
       "NONLIVINGAPARTMENTS_AVG         float64\n",
       "NONLIVINGAREA_AVG               float64\n",
       "APARTMENTS_MODE                 float64\n",
       "BASEMENTAREA_MODE               float64\n",
       "YEARS_BEGINEXPLUATATION_MODE    float64\n",
       "YEARS_BUILD_MODE                float64\n",
       "COMMONAREA_MODE                 float64\n",
       "ELEVATORS_MODE                  float64\n",
       "ENTRANCES_MODE                  float64\n",
       "FLOORSMAX_MODE                  float64\n",
       "FLOORSMIN_MODE                  float64\n",
       "LANDAREA_MODE                   float64\n",
       "LIVINGAPARTMENTS_MODE           float64\n",
       "LIVINGAREA_MODE                 float64\n",
       "NONLIVINGAPARTMENTS_MODE        float64\n",
       "NONLIVINGAREA_MODE              float64\n",
       "APARTMENTS_MEDI                 float64\n",
       "BASEMENTAREA_MEDI               float64\n",
       "YEARS_BEGINEXPLUATATION_MEDI    float64\n",
       "YEARS_BUILD_MEDI                float64\n",
       "COMMONAREA_MEDI                 float64\n",
       "ELEVATORS_MEDI                  float64\n",
       "ENTRANCES_MEDI                  float64\n",
       "FLOORSMAX_MEDI                  float64\n",
       "FLOORSMIN_MEDI                  float64\n",
       "LANDAREA_MEDI                   float64\n",
       "LIVINGAPARTMENTS_MEDI           float64\n",
       "LIVINGAREA_MEDI                 float64\n",
       "NONLIVINGAPARTMENTS_MEDI        float64\n",
       "NONLIVINGAREA_MEDI              float64\n",
       "FONDKAPREMONT_MODE               object\n",
       "HOUSETYPE_MODE                   object\n",
       "TOTALAREA_MODE                  float64\n",
       "WALLSMATERIAL_MODE               object\n",
       "EMERGENCYSTATE_MODE              object\n",
       "OBS_30_CNT_SOCIAL_CIRCLE        float64\n",
       "DEF_30_CNT_SOCIAL_CIRCLE        float64\n",
       "OBS_60_CNT_SOCIAL_CIRCLE        float64\n",
       "DEF_60_CNT_SOCIAL_CIRCLE        float64\n",
       "DAYS_LAST_PHONE_CHANGE          float64\n",
       "FLAG_DOCUMENT_2                   int64\n",
       "FLAG_DOCUMENT_3                   int64\n",
       "FLAG_DOCUMENT_4                   int64\n",
       "FLAG_DOCUMENT_5                   int64\n",
       "FLAG_DOCUMENT_6                   int64\n",
       "FLAG_DOCUMENT_7                   int64\n",
       "FLAG_DOCUMENT_8                   int64\n",
       "FLAG_DOCUMENT_9                   int64\n",
       "FLAG_DOCUMENT_10                  int64\n",
       "FLAG_DOCUMENT_11                  int64\n",
       "FLAG_DOCUMENT_12                  int64\n",
       "FLAG_DOCUMENT_13                  int64\n",
       "FLAG_DOCUMENT_14                  int64\n",
       "FLAG_DOCUMENT_15                  int64\n",
       "FLAG_DOCUMENT_16                  int64\n",
       "FLAG_DOCUMENT_17                  int64\n",
       "FLAG_DOCUMENT_18                  int64\n",
       "FLAG_DOCUMENT_19                  int64\n",
       "FLAG_DOCUMENT_20                  int64\n",
       "FLAG_DOCUMENT_21                  int64\n",
       "AMT_REQ_CREDIT_BUREAU_HOUR      float64\n",
       "AMT_REQ_CREDIT_BUREAU_DAY       float64\n",
       "AMT_REQ_CREDIT_BUREAU_WEEK      float64\n",
       "AMT_REQ_CREDIT_BUREAU_MON       float64\n",
       "AMT_REQ_CREDIT_BUREAU_QRT       float64\n",
       "AMT_REQ_CREDIT_BUREAU_YEAR      float64\n",
       "dtype: object"
      ]
     },
     "execution_count": 9,
     "metadata": {},
     "output_type": "execute_result"
    }
   ],
   "source": [
    "df.dtypes"
   ]
  },
  {
   "cell_type": "code",
   "execution_count": 10,
   "id": "c21725f1",
   "metadata": {
    "execution": {
     "iopub.execute_input": "2024-06-26T11:02:17.082097Z",
     "iopub.status.busy": "2024-06-26T11:02:17.081680Z",
     "iopub.status.idle": "2024-06-26T11:02:17.359354Z",
     "shell.execute_reply": "2024-06-26T11:02:17.358166Z"
    },
    "papermill": {
     "duration": 0.288321,
     "end_time": "2024-06-26T11:02:17.361703",
     "exception": false,
     "start_time": "2024-06-26T11:02:17.073382",
     "status": "completed"
    },
    "tags": []
   },
   "outputs": [
    {
     "data": {
      "text/plain": [
       "SK_ID_CURR                           0\n",
       "TARGET                               0\n",
       "NAME_CONTRACT_TYPE                   0\n",
       "CODE_GENDER                          0\n",
       "FLAG_OWN_CAR                         0\n",
       "FLAG_OWN_REALTY                      0\n",
       "CNT_CHILDREN                         0\n",
       "AMT_INCOME_TOTAL                     0\n",
       "AMT_CREDIT                           0\n",
       "AMT_ANNUITY                         12\n",
       "AMT_GOODS_PRICE                    278\n",
       "NAME_TYPE_SUITE                   1292\n",
       "NAME_INCOME_TYPE                     0\n",
       "NAME_EDUCATION_TYPE                  0\n",
       "NAME_FAMILY_STATUS                   0\n",
       "NAME_HOUSING_TYPE                    0\n",
       "REGION_POPULATION_RELATIVE           0\n",
       "DAYS_BIRTH                           0\n",
       "DAYS_EMPLOYED                        0\n",
       "DAYS_REGISTRATION                    0\n",
       "DAYS_ID_PUBLISH                      0\n",
       "OWN_CAR_AGE                     202929\n",
       "FLAG_MOBIL                           0\n",
       "FLAG_EMP_PHONE                       0\n",
       "FLAG_WORK_PHONE                      0\n",
       "FLAG_CONT_MOBILE                     0\n",
       "FLAG_PHONE                           0\n",
       "FLAG_EMAIL                           0\n",
       "OCCUPATION_TYPE                  96391\n",
       "CNT_FAM_MEMBERS                      2\n",
       "REGION_RATING_CLIENT                 0\n",
       "REGION_RATING_CLIENT_W_CITY          0\n",
       "WEEKDAY_APPR_PROCESS_START           0\n",
       "HOUR_APPR_PROCESS_START              0\n",
       "REG_REGION_NOT_LIVE_REGION           0\n",
       "REG_REGION_NOT_WORK_REGION           0\n",
       "LIVE_REGION_NOT_WORK_REGION          0\n",
       "REG_CITY_NOT_LIVE_CITY               0\n",
       "REG_CITY_NOT_WORK_CITY               0\n",
       "LIVE_CITY_NOT_WORK_CITY              0\n",
       "ORGANIZATION_TYPE                    0\n",
       "EXT_SOURCE_1                    173378\n",
       "EXT_SOURCE_2                       660\n",
       "EXT_SOURCE_3                     60965\n",
       "APARTMENTS_AVG                  156061\n",
       "BASEMENTAREA_AVG                179943\n",
       "YEARS_BEGINEXPLUATATION_AVG     150007\n",
       "YEARS_BUILD_AVG                 204488\n",
       "COMMONAREA_AVG                  214865\n",
       "ELEVATORS_AVG                   163891\n",
       "ENTRANCES_AVG                   154828\n",
       "FLOORSMAX_AVG                   153020\n",
       "FLOORSMIN_AVG                   208642\n",
       "LANDAREA_AVG                    182590\n",
       "LIVINGAPARTMENTS_AVG            210199\n",
       "LIVINGAREA_AVG                  154350\n",
       "NONLIVINGAPARTMENTS_AVG         213514\n",
       "NONLIVINGAREA_AVG               169682\n",
       "APARTMENTS_MODE                 156061\n",
       "BASEMENTAREA_MODE               179943\n",
       "YEARS_BEGINEXPLUATATION_MODE    150007\n",
       "YEARS_BUILD_MODE                204488\n",
       "COMMONAREA_MODE                 214865\n",
       "ELEVATORS_MODE                  163891\n",
       "ENTRANCES_MODE                  154828\n",
       "FLOORSMAX_MODE                  153020\n",
       "FLOORSMIN_MODE                  208642\n",
       "LANDAREA_MODE                   182590\n",
       "LIVINGAPARTMENTS_MODE           210199\n",
       "LIVINGAREA_MODE                 154350\n",
       "NONLIVINGAPARTMENTS_MODE        213514\n",
       "NONLIVINGAREA_MODE              169682\n",
       "APARTMENTS_MEDI                 156061\n",
       "BASEMENTAREA_MEDI               179943\n",
       "YEARS_BEGINEXPLUATATION_MEDI    150007\n",
       "YEARS_BUILD_MEDI                204488\n",
       "COMMONAREA_MEDI                 214865\n",
       "ELEVATORS_MEDI                  163891\n",
       "ENTRANCES_MEDI                  154828\n",
       "FLOORSMAX_MEDI                  153020\n",
       "FLOORSMIN_MEDI                  208642\n",
       "LANDAREA_MEDI                   182590\n",
       "LIVINGAPARTMENTS_MEDI           210199\n",
       "LIVINGAREA_MEDI                 154350\n",
       "NONLIVINGAPARTMENTS_MEDI        213514\n",
       "NONLIVINGAREA_MEDI              169682\n",
       "FONDKAPREMONT_MODE              210295\n",
       "HOUSETYPE_MODE                  154297\n",
       "TOTALAREA_MODE                  148431\n",
       "WALLSMATERIAL_MODE              156341\n",
       "EMERGENCYSTATE_MODE             145755\n",
       "OBS_30_CNT_SOCIAL_CIRCLE          1021\n",
       "DEF_30_CNT_SOCIAL_CIRCLE          1021\n",
       "OBS_60_CNT_SOCIAL_CIRCLE          1021\n",
       "DEF_60_CNT_SOCIAL_CIRCLE          1021\n",
       "DAYS_LAST_PHONE_CHANGE               1\n",
       "FLAG_DOCUMENT_2                      0\n",
       "FLAG_DOCUMENT_3                      0\n",
       "FLAG_DOCUMENT_4                      0\n",
       "FLAG_DOCUMENT_5                      0\n",
       "FLAG_DOCUMENT_6                      0\n",
       "FLAG_DOCUMENT_7                      0\n",
       "FLAG_DOCUMENT_8                      0\n",
       "FLAG_DOCUMENT_9                      0\n",
       "FLAG_DOCUMENT_10                     0\n",
       "FLAG_DOCUMENT_11                     0\n",
       "FLAG_DOCUMENT_12                     0\n",
       "FLAG_DOCUMENT_13                     0\n",
       "FLAG_DOCUMENT_14                     0\n",
       "FLAG_DOCUMENT_15                     0\n",
       "FLAG_DOCUMENT_16                     0\n",
       "FLAG_DOCUMENT_17                     0\n",
       "FLAG_DOCUMENT_18                     0\n",
       "FLAG_DOCUMENT_19                     0\n",
       "FLAG_DOCUMENT_20                     0\n",
       "FLAG_DOCUMENT_21                     0\n",
       "AMT_REQ_CREDIT_BUREAU_HOUR       41519\n",
       "AMT_REQ_CREDIT_BUREAU_DAY        41519\n",
       "AMT_REQ_CREDIT_BUREAU_WEEK       41519\n",
       "AMT_REQ_CREDIT_BUREAU_MON        41519\n",
       "AMT_REQ_CREDIT_BUREAU_QRT        41519\n",
       "AMT_REQ_CREDIT_BUREAU_YEAR       41519\n",
       "dtype: int64"
      ]
     },
     "execution_count": 10,
     "metadata": {},
     "output_type": "execute_result"
    }
   ],
   "source": [
    "df.isnull().sum()"
   ]
  },
  {
   "cell_type": "code",
   "execution_count": 11,
   "id": "a16f14ee",
   "metadata": {
    "execution": {
     "iopub.execute_input": "2024-06-26T11:02:17.377810Z",
     "iopub.status.busy": "2024-06-26T11:02:17.377317Z",
     "iopub.status.idle": "2024-06-26T11:02:17.649666Z",
     "shell.execute_reply": "2024-06-26T11:02:17.648544Z"
    },
    "papermill": {
     "duration": 0.283112,
     "end_time": "2024-06-26T11:02:17.652107",
     "exception": false,
     "start_time": "2024-06-26T11:02:17.368995",
     "status": "completed"
    },
    "tags": []
   },
   "outputs": [
    {
     "data": {
      "text/plain": [
       "(SK_ID_CURR                       0.000000\n",
       " TARGET                           0.000000\n",
       " NAME_CONTRACT_TYPE               0.000000\n",
       " CODE_GENDER                      0.000000\n",
       " FLAG_OWN_CAR                     0.000000\n",
       " FLAG_OWN_REALTY                  0.000000\n",
       " CNT_CHILDREN                     0.000000\n",
       " AMT_INCOME_TOTAL                 0.000000\n",
       " AMT_CREDIT                       0.000000\n",
       " AMT_ANNUITY                      0.003902\n",
       " AMT_GOODS_PRICE                  0.090403\n",
       " NAME_TYPE_SUITE                  0.420148\n",
       " NAME_INCOME_TYPE                 0.000000\n",
       " NAME_EDUCATION_TYPE              0.000000\n",
       " NAME_FAMILY_STATUS               0.000000\n",
       " NAME_HOUSING_TYPE                0.000000\n",
       " REGION_POPULATION_RELATIVE       0.000000\n",
       " DAYS_BIRTH                       0.000000\n",
       " DAYS_EMPLOYED                    0.000000\n",
       " DAYS_REGISTRATION                0.000000\n",
       " DAYS_ID_PUBLISH                  0.000000\n",
       " OWN_CAR_AGE                     65.990810\n",
       " FLAG_MOBIL                       0.000000\n",
       " FLAG_EMP_PHONE                   0.000000\n",
       " FLAG_WORK_PHONE                  0.000000\n",
       " FLAG_CONT_MOBILE                 0.000000\n",
       " FLAG_PHONE                       0.000000\n",
       " FLAG_EMAIL                       0.000000\n",
       " OCCUPATION_TYPE                 31.345545\n",
       " CNT_FAM_MEMBERS                  0.000650\n",
       " REGION_RATING_CLIENT             0.000000\n",
       " REGION_RATING_CLIENT_W_CITY      0.000000\n",
       " WEEKDAY_APPR_PROCESS_START       0.000000\n",
       " HOUR_APPR_PROCESS_START          0.000000\n",
       " REG_REGION_NOT_LIVE_REGION       0.000000\n",
       " REG_REGION_NOT_WORK_REGION       0.000000\n",
       " LIVE_REGION_NOT_WORK_REGION      0.000000\n",
       " REG_CITY_NOT_LIVE_CITY           0.000000\n",
       " REG_CITY_NOT_WORK_CITY           0.000000\n",
       " LIVE_CITY_NOT_WORK_CITY          0.000000\n",
       " ORGANIZATION_TYPE                0.000000\n",
       " EXT_SOURCE_1                    56.381073\n",
       " EXT_SOURCE_2                     0.214626\n",
       " EXT_SOURCE_3                    19.825307\n",
       " APARTMENTS_AVG                  50.749729\n",
       " BASEMENTAREA_AVG                58.515956\n",
       " YEARS_BEGINEXPLUATATION_AVG     48.781019\n",
       " YEARS_BUILD_AVG                 66.497784\n",
       " COMMONAREA_AVG                  69.872297\n",
       " ELEVATORS_AVG                   53.295980\n",
       " ENTRANCES_AVG                   50.348768\n",
       " FLOORSMAX_AVG                   49.760822\n",
       " FLOORSMIN_AVG                   67.848630\n",
       " LANDAREA_AVG                    59.376738\n",
       " LIVINGAPARTMENTS_AVG            68.354953\n",
       " LIVINGAREA_AVG                  50.193326\n",
       " NONLIVINGAPARTMENTS_AVG         69.432963\n",
       " NONLIVINGAREA_AVG               55.179164\n",
       " APARTMENTS_MODE                 50.749729\n",
       " BASEMENTAREA_MODE               58.515956\n",
       " YEARS_BEGINEXPLUATATION_MODE    48.781019\n",
       " YEARS_BUILD_MODE                66.497784\n",
       " COMMONAREA_MODE                 69.872297\n",
       " ELEVATORS_MODE                  53.295980\n",
       " ENTRANCES_MODE                  50.348768\n",
       " FLOORSMAX_MODE                  49.760822\n",
       " FLOORSMIN_MODE                  67.848630\n",
       " LANDAREA_MODE                   59.376738\n",
       " LIVINGAPARTMENTS_MODE           68.354953\n",
       " LIVINGAREA_MODE                 50.193326\n",
       " NONLIVINGAPARTMENTS_MODE        69.432963\n",
       " NONLIVINGAREA_MODE              55.179164\n",
       " APARTMENTS_MEDI                 50.749729\n",
       " BASEMENTAREA_MEDI               58.515956\n",
       " YEARS_BEGINEXPLUATATION_MEDI    48.781019\n",
       " YEARS_BUILD_MEDI                66.497784\n",
       " COMMONAREA_MEDI                 69.872297\n",
       " ELEVATORS_MEDI                  53.295980\n",
       " ENTRANCES_MEDI                  50.348768\n",
       " FLOORSMAX_MEDI                  49.760822\n",
       " FLOORSMIN_MEDI                  67.848630\n",
       " LANDAREA_MEDI                   59.376738\n",
       " LIVINGAPARTMENTS_MEDI           68.354953\n",
       " LIVINGAREA_MEDI                 50.193326\n",
       " NONLIVINGAPARTMENTS_MEDI        69.432963\n",
       " NONLIVINGAREA_MEDI              55.179164\n",
       " FONDKAPREMONT_MODE              68.386172\n",
       " HOUSETYPE_MODE                  50.176091\n",
       " TOTALAREA_MODE                  48.268517\n",
       " WALLSMATERIAL_MODE              50.840783\n",
       " EMERGENCYSTATE_MODE             47.398304\n",
       " OBS_30_CNT_SOCIAL_CIRCLE         0.332021\n",
       " DEF_30_CNT_SOCIAL_CIRCLE         0.332021\n",
       " OBS_60_CNT_SOCIAL_CIRCLE         0.332021\n",
       " DEF_60_CNT_SOCIAL_CIRCLE         0.332021\n",
       " DAYS_LAST_PHONE_CHANGE           0.000325\n",
       " FLAG_DOCUMENT_2                  0.000000\n",
       " FLAG_DOCUMENT_3                  0.000000\n",
       " FLAG_DOCUMENT_4                  0.000000\n",
       " FLAG_DOCUMENT_5                  0.000000\n",
       " FLAG_DOCUMENT_6                  0.000000\n",
       " FLAG_DOCUMENT_7                  0.000000\n",
       " FLAG_DOCUMENT_8                  0.000000\n",
       " FLAG_DOCUMENT_9                  0.000000\n",
       " FLAG_DOCUMENT_10                 0.000000\n",
       " FLAG_DOCUMENT_11                 0.000000\n",
       " FLAG_DOCUMENT_12                 0.000000\n",
       " FLAG_DOCUMENT_13                 0.000000\n",
       " FLAG_DOCUMENT_14                 0.000000\n",
       " FLAG_DOCUMENT_15                 0.000000\n",
       " FLAG_DOCUMENT_16                 0.000000\n",
       " FLAG_DOCUMENT_17                 0.000000\n",
       " FLAG_DOCUMENT_18                 0.000000\n",
       " FLAG_DOCUMENT_19                 0.000000\n",
       " FLAG_DOCUMENT_20                 0.000000\n",
       " FLAG_DOCUMENT_21                 0.000000\n",
       " AMT_REQ_CREDIT_BUREAU_HOUR      13.501631\n",
       " AMT_REQ_CREDIT_BUREAU_DAY       13.501631\n",
       " AMT_REQ_CREDIT_BUREAU_WEEK      13.501631\n",
       " AMT_REQ_CREDIT_BUREAU_MON       13.501631\n",
       " AMT_REQ_CREDIT_BUREAU_QRT       13.501631\n",
       " AMT_REQ_CREDIT_BUREAU_YEAR      13.501631\n",
       " dtype: float64,\n",
       " 2)"
      ]
     },
     "execution_count": 11,
     "metadata": {},
     "output_type": "execute_result"
    }
   ],
   "source": [
    "df.isnull().sum()*100/len(df),2"
   ]
  },
  {
   "cell_type": "code",
   "execution_count": 12,
   "id": "8c32c571",
   "metadata": {
    "execution": {
     "iopub.execute_input": "2024-06-26T11:02:17.668532Z",
     "iopub.status.busy": "2024-06-26T11:02:17.668168Z",
     "iopub.status.idle": "2024-06-26T11:02:17.933402Z",
     "shell.execute_reply": "2024-06-26T11:02:17.932253Z"
    },
    "papermill": {
     "duration": 0.276659,
     "end_time": "2024-06-26T11:02:17.936213",
     "exception": false,
     "start_time": "2024-06-26T11:02:17.659554",
     "status": "completed"
    },
    "tags": []
   },
   "outputs": [],
   "source": [
    "df_null=round(df.isnull().sum()*100/len(df),2)"
   ]
  },
  {
   "cell_type": "code",
   "execution_count": 13,
   "id": "7366b556",
   "metadata": {
    "execution": {
     "iopub.execute_input": "2024-06-26T11:02:17.953994Z",
     "iopub.status.busy": "2024-06-26T11:02:17.953511Z",
     "iopub.status.idle": "2024-06-26T11:02:17.959209Z",
     "shell.execute_reply": "2024-06-26T11:02:17.957916Z"
    },
    "papermill": {
     "duration": 0.01685,
     "end_time": "2024-06-26T11:02:17.961452",
     "exception": false,
     "start_time": "2024-06-26T11:02:17.944602",
     "status": "completed"
    },
    "tags": []
   },
   "outputs": [],
   "source": [
    "null_v=df_null[df_null>=30]"
   ]
  },
  {
   "cell_type": "code",
   "execution_count": 14,
   "id": "04a81200",
   "metadata": {
    "execution": {
     "iopub.execute_input": "2024-06-26T11:02:17.978068Z",
     "iopub.status.busy": "2024-06-26T11:02:17.977656Z",
     "iopub.status.idle": "2024-06-26T11:02:17.985252Z",
     "shell.execute_reply": "2024-06-26T11:02:17.984073Z"
    },
    "papermill": {
     "duration": 0.018452,
     "end_time": "2024-06-26T11:02:17.987462",
     "exception": false,
     "start_time": "2024-06-26T11:02:17.969010",
     "status": "completed"
    },
    "tags": []
   },
   "outputs": [
    {
     "data": {
      "text/plain": [
       "Index(['OWN_CAR_AGE', 'OCCUPATION_TYPE', 'EXT_SOURCE_1', 'APARTMENTS_AVG',\n",
       "       'BASEMENTAREA_AVG', 'YEARS_BEGINEXPLUATATION_AVG', 'YEARS_BUILD_AVG',\n",
       "       'COMMONAREA_AVG', 'ELEVATORS_AVG', 'ENTRANCES_AVG', 'FLOORSMAX_AVG',\n",
       "       'FLOORSMIN_AVG', 'LANDAREA_AVG', 'LIVINGAPARTMENTS_AVG',\n",
       "       'LIVINGAREA_AVG', 'NONLIVINGAPARTMENTS_AVG', 'NONLIVINGAREA_AVG',\n",
       "       'APARTMENTS_MODE', 'BASEMENTAREA_MODE', 'YEARS_BEGINEXPLUATATION_MODE',\n",
       "       'YEARS_BUILD_MODE', 'COMMONAREA_MODE', 'ELEVATORS_MODE',\n",
       "       'ENTRANCES_MODE', 'FLOORSMAX_MODE', 'FLOORSMIN_MODE', 'LANDAREA_MODE',\n",
       "       'LIVINGAPARTMENTS_MODE', 'LIVINGAREA_MODE', 'NONLIVINGAPARTMENTS_MODE',\n",
       "       'NONLIVINGAREA_MODE', 'APARTMENTS_MEDI', 'BASEMENTAREA_MEDI',\n",
       "       'YEARS_BEGINEXPLUATATION_MEDI', 'YEARS_BUILD_MEDI', 'COMMONAREA_MEDI',\n",
       "       'ELEVATORS_MEDI', 'ENTRANCES_MEDI', 'FLOORSMAX_MEDI', 'FLOORSMIN_MEDI',\n",
       "       'LANDAREA_MEDI', 'LIVINGAPARTMENTS_MEDI', 'LIVINGAREA_MEDI',\n",
       "       'NONLIVINGAPARTMENTS_MEDI', 'NONLIVINGAREA_MEDI', 'FONDKAPREMONT_MODE',\n",
       "       'HOUSETYPE_MODE', 'TOTALAREA_MODE', 'WALLSMATERIAL_MODE',\n",
       "       'EMERGENCYSTATE_MODE'],\n",
       "      dtype='object')"
      ]
     },
     "execution_count": 14,
     "metadata": {},
     "output_type": "execute_result"
    }
   ],
   "source": [
    "null_v.index"
   ]
  },
  {
   "cell_type": "code",
   "execution_count": 15,
   "id": "ed024226",
   "metadata": {
    "execution": {
     "iopub.execute_input": "2024-06-26T11:02:18.004414Z",
     "iopub.status.busy": "2024-06-26T11:02:18.004043Z",
     "iopub.status.idle": "2024-06-26T11:02:18.011373Z",
     "shell.execute_reply": "2024-06-26T11:02:18.010143Z"
    },
    "papermill": {
     "duration": 0.018383,
     "end_time": "2024-06-26T11:02:18.013503",
     "exception": false,
     "start_time": "2024-06-26T11:02:17.995120",
     "status": "completed"
    },
    "tags": []
   },
   "outputs": [
    {
     "data": {
      "text/plain": [
       "['OWN_CAR_AGE',\n",
       " 'OCCUPATION_TYPE',\n",
       " 'EXT_SOURCE_1',\n",
       " 'APARTMENTS_AVG',\n",
       " 'BASEMENTAREA_AVG',\n",
       " 'YEARS_BEGINEXPLUATATION_AVG',\n",
       " 'YEARS_BUILD_AVG',\n",
       " 'COMMONAREA_AVG',\n",
       " 'ELEVATORS_AVG',\n",
       " 'ENTRANCES_AVG',\n",
       " 'FLOORSMAX_AVG',\n",
       " 'FLOORSMIN_AVG',\n",
       " 'LANDAREA_AVG',\n",
       " 'LIVINGAPARTMENTS_AVG',\n",
       " 'LIVINGAREA_AVG',\n",
       " 'NONLIVINGAPARTMENTS_AVG',\n",
       " 'NONLIVINGAREA_AVG',\n",
       " 'APARTMENTS_MODE',\n",
       " 'BASEMENTAREA_MODE',\n",
       " 'YEARS_BEGINEXPLUATATION_MODE',\n",
       " 'YEARS_BUILD_MODE',\n",
       " 'COMMONAREA_MODE',\n",
       " 'ELEVATORS_MODE',\n",
       " 'ENTRANCES_MODE',\n",
       " 'FLOORSMAX_MODE',\n",
       " 'FLOORSMIN_MODE',\n",
       " 'LANDAREA_MODE',\n",
       " 'LIVINGAPARTMENTS_MODE',\n",
       " 'LIVINGAREA_MODE',\n",
       " 'NONLIVINGAPARTMENTS_MODE',\n",
       " 'NONLIVINGAREA_MODE',\n",
       " 'APARTMENTS_MEDI',\n",
       " 'BASEMENTAREA_MEDI',\n",
       " 'YEARS_BEGINEXPLUATATION_MEDI',\n",
       " 'YEARS_BUILD_MEDI',\n",
       " 'COMMONAREA_MEDI',\n",
       " 'ELEVATORS_MEDI',\n",
       " 'ENTRANCES_MEDI',\n",
       " 'FLOORSMAX_MEDI',\n",
       " 'FLOORSMIN_MEDI',\n",
       " 'LANDAREA_MEDI',\n",
       " 'LIVINGAPARTMENTS_MEDI',\n",
       " 'LIVINGAREA_MEDI',\n",
       " 'NONLIVINGAPARTMENTS_MEDI',\n",
       " 'NONLIVINGAREA_MEDI',\n",
       " 'FONDKAPREMONT_MODE',\n",
       " 'HOUSETYPE_MODE',\n",
       " 'TOTALAREA_MODE',\n",
       " 'WALLSMATERIAL_MODE',\n",
       " 'EMERGENCYSTATE_MODE']"
      ]
     },
     "execution_count": 15,
     "metadata": {},
     "output_type": "execute_result"
    }
   ],
   "source": [
    "cols_to_drop=list(null_v.index)\n",
    "cols_to_drop"
   ]
  },
  {
   "cell_type": "code",
   "execution_count": 16,
   "id": "476c1470",
   "metadata": {
    "execution": {
     "iopub.execute_input": "2024-06-26T11:02:18.031917Z",
     "iopub.status.busy": "2024-06-26T11:02:18.030559Z",
     "iopub.status.idle": "2024-06-26T11:02:18.317727Z",
     "shell.execute_reply": "2024-06-26T11:02:18.316708Z"
    },
    "papermill": {
     "duration": 0.298743,
     "end_time": "2024-06-26T11:02:18.320094",
     "exception": false,
     "start_time": "2024-06-26T11:02:18.021351",
     "status": "completed"
    },
    "tags": []
   },
   "outputs": [
    {
     "data": {
      "text/plain": [
       "SK_ID_CURR                         0\n",
       "TARGET                             0\n",
       "NAME_CONTRACT_TYPE                 0\n",
       "CODE_GENDER                        0\n",
       "FLAG_OWN_CAR                       0\n",
       "FLAG_OWN_REALTY                    0\n",
       "CNT_CHILDREN                       0\n",
       "AMT_INCOME_TOTAL                   0\n",
       "AMT_CREDIT                         0\n",
       "AMT_ANNUITY                       12\n",
       "AMT_GOODS_PRICE                  278\n",
       "NAME_TYPE_SUITE                 1292\n",
       "NAME_INCOME_TYPE                   0\n",
       "NAME_EDUCATION_TYPE                0\n",
       "NAME_FAMILY_STATUS                 0\n",
       "NAME_HOUSING_TYPE                  0\n",
       "REGION_POPULATION_RELATIVE         0\n",
       "DAYS_BIRTH                         0\n",
       "DAYS_EMPLOYED                      0\n",
       "DAYS_REGISTRATION                  0\n",
       "DAYS_ID_PUBLISH                    0\n",
       "FLAG_MOBIL                         0\n",
       "FLAG_EMP_PHONE                     0\n",
       "FLAG_WORK_PHONE                    0\n",
       "FLAG_CONT_MOBILE                   0\n",
       "FLAG_PHONE                         0\n",
       "FLAG_EMAIL                         0\n",
       "CNT_FAM_MEMBERS                    2\n",
       "REGION_RATING_CLIENT               0\n",
       "REGION_RATING_CLIENT_W_CITY        0\n",
       "WEEKDAY_APPR_PROCESS_START         0\n",
       "HOUR_APPR_PROCESS_START            0\n",
       "REG_REGION_NOT_LIVE_REGION         0\n",
       "REG_REGION_NOT_WORK_REGION         0\n",
       "LIVE_REGION_NOT_WORK_REGION        0\n",
       "REG_CITY_NOT_LIVE_CITY             0\n",
       "REG_CITY_NOT_WORK_CITY             0\n",
       "LIVE_CITY_NOT_WORK_CITY            0\n",
       "ORGANIZATION_TYPE                  0\n",
       "EXT_SOURCE_2                     660\n",
       "EXT_SOURCE_3                   60965\n",
       "OBS_30_CNT_SOCIAL_CIRCLE        1021\n",
       "DEF_30_CNT_SOCIAL_CIRCLE        1021\n",
       "OBS_60_CNT_SOCIAL_CIRCLE        1021\n",
       "DEF_60_CNT_SOCIAL_CIRCLE        1021\n",
       "DAYS_LAST_PHONE_CHANGE             1\n",
       "FLAG_DOCUMENT_2                    0\n",
       "FLAG_DOCUMENT_3                    0\n",
       "FLAG_DOCUMENT_4                    0\n",
       "FLAG_DOCUMENT_5                    0\n",
       "FLAG_DOCUMENT_6                    0\n",
       "FLAG_DOCUMENT_7                    0\n",
       "FLAG_DOCUMENT_8                    0\n",
       "FLAG_DOCUMENT_9                    0\n",
       "FLAG_DOCUMENT_10                   0\n",
       "FLAG_DOCUMENT_11                   0\n",
       "FLAG_DOCUMENT_12                   0\n",
       "FLAG_DOCUMENT_13                   0\n",
       "FLAG_DOCUMENT_14                   0\n",
       "FLAG_DOCUMENT_15                   0\n",
       "FLAG_DOCUMENT_16                   0\n",
       "FLAG_DOCUMENT_17                   0\n",
       "FLAG_DOCUMENT_18                   0\n",
       "FLAG_DOCUMENT_19                   0\n",
       "FLAG_DOCUMENT_20                   0\n",
       "FLAG_DOCUMENT_21                   0\n",
       "AMT_REQ_CREDIT_BUREAU_HOUR     41519\n",
       "AMT_REQ_CREDIT_BUREAU_DAY      41519\n",
       "AMT_REQ_CREDIT_BUREAU_WEEK     41519\n",
       "AMT_REQ_CREDIT_BUREAU_MON      41519\n",
       "AMT_REQ_CREDIT_BUREAU_QRT      41519\n",
       "AMT_REQ_CREDIT_BUREAU_YEAR     41519\n",
       "dtype: int64"
      ]
     },
     "execution_count": 16,
     "metadata": {},
     "output_type": "execute_result"
    }
   ],
   "source": [
    "df.drop(cols_to_drop,axis=1,inplace=True)\n",
    "df.isna().sum()"
   ]
  },
  {
   "cell_type": "code",
   "execution_count": 17,
   "id": "a8c1abf6",
   "metadata": {
    "execution": {
     "iopub.execute_input": "2024-06-26T11:02:18.337926Z",
     "iopub.status.busy": "2024-06-26T11:02:18.337097Z",
     "iopub.status.idle": "2024-06-26T11:02:18.344677Z",
     "shell.execute_reply": "2024-06-26T11:02:18.343668Z"
    },
    "papermill": {
     "duration": 0.018825,
     "end_time": "2024-06-26T11:02:18.346937",
     "exception": false,
     "start_time": "2024-06-26T11:02:18.328112",
     "status": "completed"
    },
    "tags": []
   },
   "outputs": [
    {
     "data": {
      "text/plain": [
       "Index(['SK_ID_CURR', 'TARGET', 'NAME_CONTRACT_TYPE', 'CODE_GENDER',\n",
       "       'FLAG_OWN_CAR', 'FLAG_OWN_REALTY', 'CNT_CHILDREN', 'AMT_INCOME_TOTAL',\n",
       "       'AMT_CREDIT', 'AMT_ANNUITY', 'AMT_GOODS_PRICE', 'NAME_TYPE_SUITE',\n",
       "       'NAME_INCOME_TYPE', 'NAME_EDUCATION_TYPE', 'NAME_FAMILY_STATUS',\n",
       "       'NAME_HOUSING_TYPE', 'REGION_POPULATION_RELATIVE', 'DAYS_BIRTH',\n",
       "       'DAYS_EMPLOYED', 'DAYS_REGISTRATION', 'DAYS_ID_PUBLISH', 'FLAG_MOBIL',\n",
       "       'FLAG_EMP_PHONE', 'FLAG_WORK_PHONE', 'FLAG_CONT_MOBILE', 'FLAG_PHONE',\n",
       "       'FLAG_EMAIL', 'CNT_FAM_MEMBERS', 'REGION_RATING_CLIENT',\n",
       "       'REGION_RATING_CLIENT_W_CITY', 'WEEKDAY_APPR_PROCESS_START',\n",
       "       'HOUR_APPR_PROCESS_START', 'REG_REGION_NOT_LIVE_REGION',\n",
       "       'REG_REGION_NOT_WORK_REGION', 'LIVE_REGION_NOT_WORK_REGION',\n",
       "       'REG_CITY_NOT_LIVE_CITY', 'REG_CITY_NOT_WORK_CITY',\n",
       "       'LIVE_CITY_NOT_WORK_CITY', 'ORGANIZATION_TYPE', 'EXT_SOURCE_2',\n",
       "       'EXT_SOURCE_3', 'OBS_30_CNT_SOCIAL_CIRCLE', 'DEF_30_CNT_SOCIAL_CIRCLE',\n",
       "       'OBS_60_CNT_SOCIAL_CIRCLE', 'DEF_60_CNT_SOCIAL_CIRCLE',\n",
       "       'DAYS_LAST_PHONE_CHANGE', 'FLAG_DOCUMENT_2', 'FLAG_DOCUMENT_3',\n",
       "       'FLAG_DOCUMENT_4', 'FLAG_DOCUMENT_5', 'FLAG_DOCUMENT_6',\n",
       "       'FLAG_DOCUMENT_7', 'FLAG_DOCUMENT_8', 'FLAG_DOCUMENT_9',\n",
       "       'FLAG_DOCUMENT_10', 'FLAG_DOCUMENT_11', 'FLAG_DOCUMENT_12',\n",
       "       'FLAG_DOCUMENT_13', 'FLAG_DOCUMENT_14', 'FLAG_DOCUMENT_15',\n",
       "       'FLAG_DOCUMENT_16', 'FLAG_DOCUMENT_17', 'FLAG_DOCUMENT_18',\n",
       "       'FLAG_DOCUMENT_19', 'FLAG_DOCUMENT_20', 'FLAG_DOCUMENT_21',\n",
       "       'AMT_REQ_CREDIT_BUREAU_HOUR', 'AMT_REQ_CREDIT_BUREAU_DAY',\n",
       "       'AMT_REQ_CREDIT_BUREAU_WEEK', 'AMT_REQ_CREDIT_BUREAU_MON',\n",
       "       'AMT_REQ_CREDIT_BUREAU_QRT', 'AMT_REQ_CREDIT_BUREAU_YEAR'],\n",
       "      dtype='object')"
      ]
     },
     "execution_count": 17,
     "metadata": {},
     "output_type": "execute_result"
    }
   ],
   "source": [
    "df.columns"
   ]
  },
  {
   "cell_type": "code",
   "execution_count": null,
   "id": "85982088",
   "metadata": {
    "papermill": {
     "duration": 0.007711,
     "end_time": "2024-06-26T11:02:18.362834",
     "exception": false,
     "start_time": "2024-06-26T11:02:18.355123",
     "status": "completed"
    },
    "tags": []
   },
   "outputs": [],
   "source": []
  },
  {
   "cell_type": "code",
   "execution_count": 18,
   "id": "dcbe2531",
   "metadata": {
    "execution": {
     "iopub.execute_input": "2024-06-26T11:02:18.380849Z",
     "iopub.status.busy": "2024-06-26T11:02:18.380126Z",
     "iopub.status.idle": "2024-06-26T11:02:18.404157Z",
     "shell.execute_reply": "2024-06-26T11:02:18.402996Z"
    },
    "papermill": {
     "duration": 0.035461,
     "end_time": "2024-06-26T11:02:18.406302",
     "exception": false,
     "start_time": "2024-06-26T11:02:18.370841",
     "status": "completed"
    },
    "tags": []
   },
   "outputs": [
    {
     "data": {
      "text/plain": [
       "count    3.075110e+05\n",
       "mean     1.687979e+05\n",
       "std      2.371231e+05\n",
       "min      2.565000e+04\n",
       "25%      1.125000e+05\n",
       "50%      1.471500e+05\n",
       "75%      2.025000e+05\n",
       "max      1.170000e+08\n",
       "Name: AMT_INCOME_TOTAL, dtype: float64"
      ]
     },
     "execution_count": 18,
     "metadata": {},
     "output_type": "execute_result"
    }
   ],
   "source": [
    "df['AMT_INCOME_TOTAL'].describe()"
   ]
  },
  {
   "cell_type": "code",
   "execution_count": 19,
   "id": "1e7f406b",
   "metadata": {
    "execution": {
     "iopub.execute_input": "2024-06-26T11:02:18.424257Z",
     "iopub.status.busy": "2024-06-26T11:02:18.423885Z",
     "iopub.status.idle": "2024-06-26T11:02:18.444305Z",
     "shell.execute_reply": "2024-06-26T11:02:18.443321Z"
    },
    "papermill": {
     "duration": 0.031998,
     "end_time": "2024-06-26T11:02:18.446417",
     "exception": false,
     "start_time": "2024-06-26T11:02:18.414419",
     "status": "completed"
    },
    "tags": []
   },
   "outputs": [
    {
     "data": {
      "text/plain": [
       "count    3.075110e+05\n",
       "mean     1.687979e+05\n",
       "std      2.371231e+05\n",
       "min      2.565000e+04\n",
       "25%      1.125000e+05\n",
       "50%      1.471500e+05\n",
       "75%      2.025000e+05\n",
       "max      1.170000e+08\n",
       "Name: AMT_INCOME_TOTAL, dtype: float64"
      ]
     },
     "execution_count": 19,
     "metadata": {},
     "output_type": "execute_result"
    }
   ],
   "source": [
    "df['AMT_INCOME_TOTAL'].describe()"
   ]
  },
  {
   "cell_type": "code",
   "execution_count": 20,
   "id": "ae50bcde",
   "metadata": {
    "execution": {
     "iopub.execute_input": "2024-06-26T11:02:18.465251Z",
     "iopub.status.busy": "2024-06-26T11:02:18.464410Z",
     "iopub.status.idle": "2024-06-26T11:02:18.469220Z",
     "shell.execute_reply": "2024-06-26T11:02:18.468093Z"
    },
    "papermill": {
     "duration": 0.016307,
     "end_time": "2024-06-26T11:02:18.471372",
     "exception": false,
     "start_time": "2024-06-26T11:02:18.455065",
     "status": "completed"
    },
    "tags": []
   },
   "outputs": [],
   "source": [
    "## checking for Outlier"
   ]
  },
  {
   "cell_type": "code",
   "execution_count": 21,
   "id": "46137cf4",
   "metadata": {
    "execution": {
     "iopub.execute_input": "2024-06-26T11:02:18.489817Z",
     "iopub.status.busy": "2024-06-26T11:02:18.489422Z",
     "iopub.status.idle": "2024-06-26T11:02:18.773991Z",
     "shell.execute_reply": "2024-06-26T11:02:18.772781Z"
    },
    "papermill": {
     "duration": 0.296372,
     "end_time": "2024-06-26T11:02:18.776154",
     "exception": false,
     "start_time": "2024-06-26T11:02:18.479782",
     "status": "completed"
    },
    "tags": []
   },
   "outputs": [
    {
     "data": {
      "image/png": "[encoded data removed]",
      "text/plain": [
       "<Figure size 640x480 with 1 Axes>"
      ]
     },
     "metadata": {},
     "output_type": "display_data"
    }
   ],
   "source": [
    "sns.boxplot(df['AMT_INCOME_TOTAL']);"
   ]
  },
  {
   "cell_type": "code",
   "execution_count": 22,
   "id": "308e1760",
   "metadata": {
    "execution": {
     "iopub.execute_input": "2024-06-26T11:02:18.795104Z",
     "iopub.status.busy": "2024-06-26T11:02:18.794345Z",
     "iopub.status.idle": "2024-06-26T11:02:18.800551Z",
     "shell.execute_reply": "2024-06-26T11:02:18.799486Z"
    },
    "papermill": {
     "duration": 0.018123,
     "end_time": "2024-06-26T11:02:18.802691",
     "exception": false,
     "start_time": "2024-06-26T11:02:18.784568",
     "status": "completed"
    },
    "tags": []
   },
   "outputs": [],
   "source": [
    "def ol(data):\n",
    "    q3 = np.percentile(df['AMT_INCOME_TOTAL'],75)\n",
    "    q1 = np.percentile(df['AMT_INCOME_TOTAL'],25)\n",
    "\n",
    "    iqr = q3 - q1\n",
    "\n",
    "    ub = q3 + (1.5 * iqr)\n",
    "    lb = q1 - (1.5 * iqr)\n",
    "    \n",
    "    return ub , lb"
   ]
  },
  {
   "cell_type": "code",
   "execution_count": 23,
   "id": "40a26d4c",
   "metadata": {
    "execution": {
     "iopub.execute_input": "2024-06-26T11:02:18.821304Z",
     "iopub.status.busy": "2024-06-26T11:02:18.820945Z",
     "iopub.status.idle": "2024-06-26T11:02:18.836061Z",
     "shell.execute_reply": "2024-06-26T11:02:18.834977Z"
    },
    "papermill": {
     "duration": 0.027286,
     "end_time": "2024-06-26T11:02:18.838579",
     "exception": false,
     "start_time": "2024-06-26T11:02:18.811293",
     "status": "completed"
    },
    "tags": []
   },
   "outputs": [],
   "source": [
    "ub , lb = ol(df['AMT_INCOME_TOTAL'])"
   ]
  },
  {
   "cell_type": "code",
   "execution_count": 24,
   "id": "e28dc218",
   "metadata": {
    "execution": {
     "iopub.execute_input": "2024-06-26T11:02:18.858221Z",
     "iopub.status.busy": "2024-06-26T11:02:18.857848Z",
     "iopub.status.idle": "2024-06-26T11:02:18.985182Z",
     "shell.execute_reply": "2024-06-26T11:02:18.984064Z"
    },
    "papermill": {
     "duration": 0.140318,
     "end_time": "2024-06-26T11:02:18.987749",
     "exception": false,
     "start_time": "2024-06-26T11:02:18.847431",
     "status": "completed"
    },
    "tags": []
   },
   "outputs": [],
   "source": [
    "# filtering the without outliers\n",
    "df = df[(df['AMT_INCOME_TOTAL'] <= ub) & (df['AMT_INCOME_TOTAL'] >= lb)]"
   ]
  },
  {
   "cell_type": "code",
   "execution_count": 25,
   "id": "85d3a3a5",
   "metadata": {
    "execution": {
     "iopub.execute_input": "2024-06-26T11:02:19.007025Z",
     "iopub.status.busy": "2024-06-26T11:02:19.006640Z",
     "iopub.status.idle": "2024-06-26T11:02:19.288182Z",
     "shell.execute_reply": "2024-06-26T11:02:19.287247Z"
    },
    "papermill": {
     "duration": 0.294145,
     "end_time": "2024-06-26T11:02:19.290643",
     "exception": false,
     "start_time": "2024-06-26T11:02:18.996498",
     "status": "completed"
    },
    "tags": []
   },
   "outputs": [
    {
     "data": {
      "image/png": "[encoded data removed]",
      "text/plain": [
       "<Figure size 640x480 with 1 Axes>"
      ]
     },
     "metadata": {},
     "output_type": "display_data"
    }
   ],
   "source": [
    "sns.boxplot(df['AMT_INCOME_TOTAL']);\n",
    "plt.title('outliers in income');"
   ]
  },
  {
   "cell_type": "code",
   "execution_count": null,
   "id": "152a3bf0",
   "metadata": {
    "papermill": {
     "duration": 0.008474,
     "end_time": "2024-06-26T11:02:19.308265",
     "exception": false,
     "start_time": "2024-06-26T11:02:19.299791",
     "status": "completed"
    },
    "tags": []
   },
   "outputs": [],
   "source": []
  }
 ],
 "metadata": {
  "kaggle": {
   "accelerator": "none",
   "dataSources": [
    {
     "datasetId": 807638,
     "sourceId": 1383922,
     "sourceType": "datasetVersion"
    }
   ],
   "dockerImageVersionId": 30732,
   "isGpuEnabled": false,
   "isInternetEnabled": false,
   "language": "python",
   "sourceType": "notebook"
  },
  "kernelspec": {
   "display_name": "Python 3",
   "language": "python",
   "name": "python3"
  },
  "language_info": {
   "codemirror_mode": {
    "name": "ipython",
    "version": 3
   },
   "file_extension": ".py",
   "mimetype": "text/x-python",
   "name": "python",
   "nbconvert_exporter": "python",
   "pygments_lexer": "ipython3",
   "version": "3.10.13"
  },
  "papermill": {
   "default_parameters": {},
   "duration": 13.709178,
   "end_time": "2024-06-26T11:02:19.837690",
   "environment_variables": {},
   "exception": null,
   "input_path": "__notebook__.ipynb",
   "output_path": "__notebook__.ipynb",
   "parameters": {},
   "start_time": "2024-06-26T11:02:06.128512",
   "version": "2.5.0"
  }
 },
 "nbformat": 4,
 "nbformat_minor": 5
}
