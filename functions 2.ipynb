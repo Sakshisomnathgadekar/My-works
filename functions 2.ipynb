{
 "cells": [
  {
   "cell_type": "code",
   "execution_count": 3,
   "id": "5fc33dda-f4df-41c5-a7ae-3d4f635e2e00",
   "metadata": {},
   "outputs": [
    {
     "name": "stdin",
     "output_type": "stream",
     "text": [
      "enter Radius of circle 12\n"
     ]
    },
    {
     "name": "stdout",
     "output_type": "stream",
     "text": [
      "Area of Circle is 452.3893421169302\n"
     ]
    }
   ],
   "source": [
    "import math\n",
    "\n",
    "r = float(input('enter Radius of circle'))\n",
    "print('Area of Circle is',math.pi*r*r)"
   ]
  },
  {
   "cell_type": "code",
   "execution_count": 4,
   "id": "a65ac63f-9c79-47ce-a2e5-84368ca86c1b",
   "metadata": {},
   "outputs": [],
   "source": [
    "import time"
   ]
  },
  {
   "cell_type": "code",
   "execution_count": 5,
   "id": "6ff8e194-2933-47cc-8042-e0a10990d356",
   "metadata": {},
   "outputs": [
    {
     "data": {
      "text/plain": [
       "'Mon Jun 10 16:35:41 2024'"
      ]
     },
     "execution_count": 5,
     "metadata": {},
     "output_type": "execute_result"
    }
   ],
   "source": [
    "time.asctime()"
   ]
  },
  {
   "cell_type": "code",
   "execution_count": 6,
   "id": "c105eba2-dfa1-4981-b477-b4af1770b5bc",
   "metadata": {},
   "outputs": [
    {
     "name": "stdout",
     "output_type": "stream",
     "text": [
      "zzzz\n",
      "phewww\n"
     ]
    }
   ],
   "source": [
    "print('zzzz')\n",
    "time.sleep(5)\n",
    "print('phewww')"
   ]
  },
  {
   "cell_type": "code",
   "execution_count": 7,
   "id": "2d7273b2-14e8-4bb5-879f-795275b2b4a8",
   "metadata": {},
   "outputs": [],
   "source": [
    "##alias\n",
    "\n",
    "import time as t\n"
   ]
  },
  {
   "cell_type": "code",
   "execution_count": 8,
   "id": "a82561ef-44cf-4688-ada9-e1b42338c945",
   "metadata": {},
   "outputs": [
    {
     "data": {
      "text/plain": [
       "'Mon Jun 10 16:36:47 2024'"
      ]
     },
     "execution_count": 8,
     "metadata": {},
     "output_type": "execute_result"
    }
   ],
   "source": [
    "t.asctime()"
   ]
  },
  {
   "cell_type": "code",
   "execution_count": 9,
   "id": "1a68f733-203e-4198-96cf-6076df41ee51",
   "metadata": {},
   "outputs": [],
   "source": [
    "#selective import\n",
    "\n",
    "from math import sqrt,pi"
   ]
  },
  {
   "cell_type": "code",
   "execution_count": 10,
   "id": "649b3cbe-e24c-4c70-89f6-b8c07d5b03d2",
   "metadata": {},
   "outputs": [
    {
     "data": {
      "text/plain": [
       "7.0"
      ]
     },
     "execution_count": 10,
     "metadata": {},
     "output_type": "execute_result"
    }
   ],
   "source": [
    "sqrt(49)"
   ]
  },
  {
   "cell_type": "code",
   "execution_count": 11,
   "id": "9eaf986c-56ab-4244-8dbc-3067a869fe5b",
   "metadata": {},
   "outputs": [
    {
     "data": {
      "text/plain": [
       "3.141592653589793"
      ]
     },
     "execution_count": 11,
     "metadata": {},
     "output_type": "execute_result"
    }
   ],
   "source": [
    "pi"
   ]
  },
  {
   "cell_type": "code",
   "execution_count": 12,
   "id": "b23301d4-8d17-4d7b-b438-38ed115518f7",
   "metadata": {},
   "outputs": [],
   "source": [
    "##  Import User defined module"
   ]
  },
  {
   "cell_type": "code",
   "execution_count": 2,
   "id": "0b257096-1531-40f6-8306-a343444b01b3",
   "metadata": {},
   "outputs": [],
   "source": [
    "import mod1"
   ]
  },
  {
   "cell_type": "code",
   "execution_count": 3,
   "id": "9295590c-1177-4299-841f-c2e298c88fd2",
   "metadata": {},
   "outputs": [
    {
     "name": "stdout",
     "output_type": "stream",
     "text": [
      "Hello\n"
     ]
    }
   ],
   "source": [
    "mod1.show()"
   ]
  },
  {
   "cell_type": "code",
   "execution_count": 4,
   "id": "9e037f58-928c-47d2-94db-d6169d5a8425",
   "metadata": {},
   "outputs": [],
   "source": [
    "import mod1"
   ]
  },
  {
   "cell_type": "code",
   "execution_count": 6,
   "id": "94465fc8-4240-46fe-86e1-bc7fe990943b",
   "metadata": {},
   "outputs": [
    {
     "name": "stdout",
     "output_type": "stream",
     "text": [
      "Hello\n"
     ]
    }
   ],
   "source": [
    "mod1.show()"
   ]
  },
  {
   "cell_type": "code",
   "execution_count": null,
   "id": "7efc95e4-0195-4594-9a6a-ff260f7b4296",
   "metadata": {},
   "outputs": [],
   "source": []
  }
 ],
 "metadata": {
  "kernelspec": {
   "display_name": "Python 3 (ipykernel)",
   "language": "python",
   "name": "python3"
  },
  "language_info": {
   "codemirror_mode": {
    "name": "ipython",
    "version": 3
   },
   "file_extension": ".py",
   "mimetype": "text/x-python",
   "name": "python",
   "nbconvert_exporter": "python",
   "pygments_lexer": "ipython3",
   "version": "3.11.7"
  }
 },
 "nbformat": 4,
 "nbformat_minor": 5
}
