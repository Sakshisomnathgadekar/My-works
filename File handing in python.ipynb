{
 "cells": [
  {
   "cell_type": "code",
   "execution_count": 1,
   "id": "51d84fad-3942-4610-86ef-411fa0adc92e",
   "metadata": {},
   "outputs": [],
   "source": [
    "f = open('maha.txt','r')"
   ]
  },
  {
   "cell_type": "code",
   "execution_count": 2,
   "id": "d79612a4-f655-4a7b-a68c-488dbab0c009",
   "metadata": {},
   "outputs": [
    {
     "data": {
      "text/plain": [
       "\"Earth is the third planet from the Sun and the only astronomical object known to harbor life. This is enabled by Earth being an ocean world, the only one in the Solar System sustaining liquid surface water. Almost all of Earth's water is contained in its global ocean, covering 70.8% of Earth's crust. The remaining 29.2% of Earth's crust is land, most of which is located in the form of continental landmasses within Earth's land hemisphere. Most of Earth's land is somewhat humid and covered by vegetation, while large sheets of ice at Earth's polar deserts retain more water than Earth's groundwater, lakes, rivers and atmospheric water combined. Earth's crust consists of slowly moving tectonic plates, which interact to produce mountain ranges, volcanoes, and earthquakes. Earth has a liquid outer core that generates a magnetosphere capable of deflecting most of the destructive solar winds and cosmic radiation.\""
      ]
     },
     "execution_count": 2,
     "metadata": {},
     "output_type": "execute_result"
    }
   ],
   "source": [
    "f.read()"
   ]
  },
  {
   "cell_type": "code",
   "execution_count": 3,
   "id": "473a8f77-9192-44f5-922f-596006df356f",
   "metadata": {},
   "outputs": [
    {
     "name": "stdout",
     "output_type": "stream",
     "text": [
      "maha.txt\n"
     ]
    }
   ],
   "source": [
    "print(f.name)"
   ]
  },
  {
   "cell_type": "code",
   "execution_count": 4,
   "id": "8bd1d14f-9fcf-411f-bb5c-2a1277266f73",
   "metadata": {},
   "outputs": [
    {
     "name": "stdout",
     "output_type": "stream",
     "text": [
      "r\n"
     ]
    }
   ],
   "source": [
    "print(f.mode)"
   ]
  },
  {
   "cell_type": "code",
   "execution_count": 6,
   "id": "93373c10-9f2b-408a-8dcd-5dfe5d4c9914",
   "metadata": {},
   "outputs": [
    {
     "name": "stdout",
     "output_type": "stream",
     "text": [
      "False\n"
     ]
    }
   ],
   "source": [
    "print(f.closed)"
   ]
  },
  {
   "cell_type": "code",
   "execution_count": 7,
   "id": "7799419a-3e87-484a-a1d0-8609c53a891b",
   "metadata": {},
   "outputs": [],
   "source": [
    "f.close()"
   ]
  },
  {
   "cell_type": "code",
   "execution_count": 8,
   "id": "799a066d-09c2-4244-9d3d-8229794353d1",
   "metadata": {},
   "outputs": [
    {
     "name": "stdout",
     "output_type": "stream",
     "text": [
      "True\n"
     ]
    }
   ],
   "source": [
    "print(f.closed)"
   ]
  },
  {
   "cell_type": "code",
   "execution_count": 9,
   "id": "ece29f9f-d7ea-4886-bcae-38a92860bf3f",
   "metadata": {},
   "outputs": [
    {
     "data": {
      "text/plain": [
       "<_io.TextIOWrapper name='maha.txt' mode='r' encoding='cp1252'>"
      ]
     },
     "execution_count": 9,
     "metadata": {},
     "output_type": "execute_result"
    }
   ],
   "source": [
    "f"
   ]
  },
  {
   "cell_type": "code",
   "execution_count": 12,
   "id": "f6479e78-bed2-4a6d-bd48-fc4afedb6127",
   "metadata": {},
   "outputs": [],
   "source": [
    "with open('maha.txt','r') as f:\n",
    "    pass\n",
    "    "
   ]
  },
  {
   "cell_type": "code",
   "execution_count": 13,
   "id": "432e4b49-ed6c-40b7-ade7-92761b564a13",
   "metadata": {},
   "outputs": [
    {
     "name": "stdout",
     "output_type": "stream",
     "text": [
      "True\n"
     ]
    }
   ],
   "source": [
    "print(f.closed)"
   ]
  },
  {
   "cell_type": "code",
   "execution_count": 14,
   "id": "d5eef98b-b199-484f-ad45-edbb03ca535f",
   "metadata": {},
   "outputs": [
    {
     "name": "stdout",
     "output_type": "stream",
     "text": [
      "Earth is the third planet from the Sun and the only astronomical object known to harbor life. This is enabled by Earth being an ocean world, the only one in the Solar System sustaining liquid surface water. Almost all of Earth's water is contained in its global ocean, covering 70.8% of Earth's crust. The remaining 29.2% of Earth's crust is land, most of which is located in the form of continental landmasses within Earth's land hemisphere. Most of Earth's land is somewhat humid and covered by vegetation, while large sheets of ice at Earth's polar deserts retain more water than Earth's groundwater, lakes, rivers and atmospheric water combined. Earth's crust consists of slowly moving tectonic plates, which interact to produce mountain ranges, volcanoes, and earthquakes. Earth has a liquid outer core that generates a magnetosphere capable of deflecting most of the destructive solar winds and cosmic radiation.\n"
     ]
    }
   ],
   "source": [
    "with open('maha.txt','r') as f:\n",
    "    content = f.read()\n",
    "    print(content)"
   ]
  },
  {
   "cell_type": "code",
   "execution_count": 15,
   "id": "26c0a1e6-2012-4070-b65c-579704a6dbe3",
   "metadata": {},
   "outputs": [
    {
     "name": "stdout",
     "output_type": "stream",
     "text": [
      "[\"Earth is the third planet from the Sun and the only astronomical object known to harbor life. This is enabled by Earth being an ocean world, the only one in the Solar System sustaining liquid surface water. Almost all of Earth's water is contained in its global ocean, covering 70.8% of Earth's crust. The remaining 29.2% of Earth's crust is land, most of which is located in the form of continental landmasses within Earth's land hemisphere. Most of Earth's land is somewhat humid and covered by vegetation, while large sheets of ice at Earth's polar deserts retain more water than Earth's groundwater, lakes, rivers and atmospheric water combined. Earth's crust consists of slowly moving tectonic plates, which interact to produce mountain ranges, volcanoes, and earthquakes. Earth has a liquid outer core that generates a magnetosphere capable of deflecting most of the destructive solar winds and cosmic radiation.\"]\n"
     ]
    }
   ],
   "source": [
    "with open('maha.txt','r') as f:\n",
    "    content = f.readlines()\n",
    "    print(content)"
   ]
  },
  {
   "cell_type": "code",
   "execution_count": 17,
   "id": "a4538055-deaa-4768-988c-bfb28b622484",
   "metadata": {},
   "outputs": [
    {
     "name": "stdout",
     "output_type": "stream",
     "text": [
      "['this is first line\\n', 'this is second line\\n', 'this is third line\\n', 'this is fourth line\\n']\n"
     ]
    }
   ],
   "source": [
    "with open('test1.txt','r') as f:\n",
    "    content = f.readlines()\n",
    "    print(content)"
   ]
  },
  {
   "cell_type": "code",
   "execution_count": 19,
   "id": "cf46182a-d20c-4ed9-8bfa-6f61a196edb0",
   "metadata": {},
   "outputs": [
    {
     "name": "stdout",
     "output_type": "stream",
     "text": [
      "this is first line\n",
      "\n"
     ]
    }
   ],
   "source": [
    "with open('test1.txt','r') as f:\n",
    "    content = f.readline()\n",
    "    print(content)"
   ]
  },
  {
   "cell_type": "code",
   "execution_count": 23,
   "id": "36ada502-9d93-4151-9428-a0b5215e5d6a",
   "metadata": {},
   "outputs": [
    {
     "name": "stdout",
     "output_type": "stream",
     "text": [
      "this is first line\n",
      "this is second line\n",
      "this is third line\n"
     ]
    }
   ],
   "source": [
    "with open('test1.txt','r') as f:\n",
    "    content = f.readline()\n",
    "    print(content,end = '')    ## to much lengthy procesure so use loop\n",
    "\n",
    "    content = f.readline()\n",
    "    print(content,end = '')\n",
    "\n",
    "    content = f.readline()\n",
    "    print(content,end = '')\n",
    "    "
   ]
  },
  {
   "cell_type": "code",
   "execution_count": 33,
   "id": "1569c726-7935-43c8-8f79-6f0e5d1b3977",
   "metadata": {},
   "outputs": [
    {
     "name": "stdout",
     "output_type": "stream",
     "text": [
      "this is first line\n",
      "this is second line\n",
      "this is third line\n",
      "this is fourth line\n"
     ]
    }
   ],
   "source": [
    "##use loop\n",
    "with open('test1.txt','r') as f:\n",
    "   for line in f:\n",
    "    print(line, end ='')   \n",
    "   \n",
    " "
   ]
  },
  {
   "cell_type": "code",
   "execution_count": 50,
   "id": "646c6f3d-b12d-4c92-ad54-68c7f647c1d5",
   "metadata": {},
   "outputs": [
    {
     "name": "stdout",
     "output_type": "stream",
     "text": [
      "this \n",
      "is fi\n"
     ]
    }
   ],
   "source": [
    "with open('test1.txt', 'r') as f:\n",
    "    content = f.read(5)\n",
    "    print(content)\n",
    "    \n",
    "    content = f.read(5)\n",
    "    print(content)"
   ]
  },
  {
   "cell_type": "code",
   "execution_count": 80,
   "id": "4b6e87d1-939a-4483-be65-d6da0de1933d",
   "metadata": {},
   "outputs": [
    {
     "name": "stdout",
     "output_type": "stream",
     "text": [
      "this is first line\n",
      "this is second line\n",
      "this is third line\n",
      "this is fourth line\n"
     ]
    }
   ],
   "source": [
    "## use while loop\n",
    "\n",
    "with open('test1.txt', 'r') as f:\n",
    "    size = 5\n",
    "    content = f.read(size)\n",
    "\n",
    "    while len(content)>0:\n",
    "          print(content, end='')\n",
    "          content = f.read(size)\n",
    "        \n",
    "          "
   ]
  },
  {
   "cell_type": "code",
   "execution_count": 79,
   "id": "f3b56b48-9c2a-405c-bb81-e6df9c542d10",
   "metadata": {},
   "outputs": [
    {
     "name": "stdout",
     "output_type": "stream",
     "text": [
      "this \n",
      "this \n"
     ]
    }
   ],
   "source": [
    "with open('test1.txt', 'r') as f:\n",
    "    content = f.read(5)\n",
    "    print(content)\n",
    "\n",
    "    f.seek(0)\n",
    "    \n",
    "    content = f.read(5)\n",
    "    print(content)"
   ]
  },
  {
   "cell_type": "code",
   "execution_count": 81,
   "id": "a287b477-705c-4bfb-8a3c-f4ec13b8e3c8",
   "metadata": {},
   "outputs": [],
   "source": [
    "####write"
   ]
  },
  {
   "cell_type": "code",
   "execution_count": 82,
   "id": "41352758-ceba-4a4e-8b46-5ae32f91b366",
   "metadata": {},
   "outputs": [],
   "source": [
    "with open ('test2.txt','w') as w:\n",
    "    pass"
   ]
  },
  {
   "cell_type": "code",
   "execution_count": 83,
   "id": "7ed1e772-f783-4f06-b9bb-d298cf3f204d",
   "metadata": {},
   "outputs": [],
   "source": [
    "with open ('test2.txt','w') as w:\n",
    "    w.write('this is first number')"
   ]
  },
  {
   "cell_type": "code",
   "execution_count": 87,
   "id": "defeb3f3-4753-49d4-a685-2f563b9623e5",
   "metadata": {},
   "outputs": [],
   "source": [
    "with open ('test2.txt','w') as w:\n",
    "    w.write('slide')\n",
    "    w.seek(0)\n",
    "    w.write('g')"
   ]
  },
  {
   "cell_type": "code",
   "execution_count": 92,
   "id": "46d74d30-6346-42e7-9844-1e0e3b7c53cc",
   "metadata": {},
   "outputs": [],
   "source": [
    "with open('test1.txt', 'r') as f:\n",
    "   with open ('test2.txt','w') as w:\n",
    "    for line in f:\n",
    "        w.write(line)"
   ]
  },
  {
   "cell_type": "code",
   "execution_count": null,
   "id": "94343402-525e-4d5f-9fbb-640fd2ce25c8",
   "metadata": {},
   "outputs": [],
   "source": [
    "with open "
   ]
  }
 ],
 "metadata": {
  "kernelspec": {
   "display_name": "Python 3 (ipykernel)",
   "language": "python",
   "name": "python3"
  },
  "language_info": {
   "codemirror_mode": {
    "name": "ipython",
    "version": 3
   },
   "file_extension": ".py",
   "mimetype": "text/x-python",
   "name": "python",
   "nbconvert_exporter": "python",
   "pygments_lexer": "ipython3",
   "version": "3.11.7"
  }
 },
 "nbformat": 4,
 "nbformat_minor": 5
}
